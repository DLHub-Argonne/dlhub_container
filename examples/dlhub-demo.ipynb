{
 "cells": [
  {
   "cell_type": "markdown",
   "metadata": {},
   "source": [
    "# DLHub\n",
    "\n",
    "DLHub is a self-service platform for publishing, applying, and creating ML/DL models. It provides:\n",
    "\n",
    "1. publication capabilities to make models more discoverable, citable, and reusable;\n",
    "2. the ability to easily run or test existing models; and\n",
    "3. links to the data and computing infrastructure to re-train models for new applications.\n",
    "\n",
    "DLHub benefits users in many ways. Data scientists can publish models (i.e., architectures and weights) and methods. Other scientists can apply existing models to new data with ease (e.g., by querying a prediction API for a deployed mode) and create new models with state-of-the-art techniques. Together, these capabilities lower barriers to employing ML/DL, making it easier for researchers to benefit from advances in ML/DL technologies.\n",
    "\n",
    "## This notebook\n",
    "This notebook showcases two DLHub use cases: the use of the OQMD pipeline and the use of a BNL model. The OQMD pipeline extracts data about crystalline materials from the Materials Data Facility before passing it through three servables on DLHub to predict their stability. The BNL model uses Globus Auth to pull x-ray images from Petrel - a multi-petabyte store at ANL - and quickly generate tags about what they are."
   ]
  },
  {
   "cell_type": "markdown",
   "metadata": {},
   "source": [
    "## OQMD\n",
    "\n",
    "\n",
    "Predict the formation enthalpy (a measure of energetic stability) of several crystalline compounds using a machine learning model based on method by [Ward et al.](https://www.nature.com/articles/npjcompumats201628) and data from the OQMD. Here, we show all three steps of running the model - parsing a string to a [pymatgen](http://pymatgen.org/) object, using [matminer](https://hackingmaterials.github.io/matminer/) to compute features, and running a [scikit-learn](http://scikit-learn.org/stable/) model - as independent steps, but you can also execute the entire pipeline as a single call.\n",
    "\n",
    "* Add Diagram\n",
    "  * LW: Need anything from me?\n",
    "* We might want to show the complete call, because it will look much easier\n"
   ]
  },
  {
   "cell_type": "code",
   "execution_count": 1,
   "metadata": {
    "collapsed": true
   },
   "outputs": [],
   "source": [
    "import os\n",
    "import sys\n",
    "import json\n",
    "import requests\n",
    "import matplotlib\n",
    "import globus_sdk\n",
    "import numpy as np\n",
    "import pandas as pd\n",
    "import matplotlib.pyplot as plt\n",
    "from tqdm import tqdm_notebook as tqdm\n",
    "%matplotlib inline\n",
    "\n",
    "## MDF and DLHub imports\n",
    "from mdf_forge.forge import Forge\n",
    "import mdf_toolbox\n",
    "from dlhub_client import *"
   ]
  },
  {
   "cell_type": "code",
   "execution_count": 2,
   "metadata": {
    "collapsed": true
   },
   "outputs": [],
   "source": [
    "mdf = Forge()\n",
    "dl = DLHub()\n",
    "creds = mdf_toolbox.login(app_name=\"DLHub\", services=[\"petrel\", \"data_mdf\"])"
   ]
  },
  {
   "cell_type": "markdown",
   "metadata": {},
   "source": [
    "### Get data from MDF\n",
    "\n",
    "Gather the composition of a few Al-Cu compounds for which we will predict the formation enthalpy."
   ]
  },
  {
   "cell_type": "code",
   "execution_count": 3,
   "metadata": {},
   "outputs": [
    {
     "data": {
      "text/html": [
       "<div>\n",
       "<style scoped>\n",
       "    .dataframe tbody tr th:only-of-type {\n",
       "        vertical-align: middle;\n",
       "    }\n",
       "\n",
       "    .dataframe tbody tr th {\n",
       "        vertical-align: top;\n",
       "    }\n",
       "\n",
       "    .dataframe thead th {\n",
       "        text-align: right;\n",
       "    }\n",
       "</style>\n",
       "<table border=\"1\" class=\"dataframe\">\n",
       "  <thead>\n",
       "    <tr style=\"text-align: right;\">\n",
       "      <th></th>\n",
       "      <th>composition</th>\n",
       "    </tr>\n",
       "  </thead>\n",
       "  <tbody>\n",
       "    <tr>\n",
       "      <th>0</th>\n",
       "      <td>Al2Cu1</td>\n",
       "    </tr>\n",
       "    <tr>\n",
       "      <th>1</th>\n",
       "      <td>Al2Cu1</td>\n",
       "    </tr>\n",
       "    <tr>\n",
       "      <th>2</th>\n",
       "      <td>Al1Cu1</td>\n",
       "    </tr>\n",
       "    <tr>\n",
       "      <th>3</th>\n",
       "      <td>Al1Cu4</td>\n",
       "    </tr>\n",
       "    <tr>\n",
       "      <th>4</th>\n",
       "      <td>Al1Cu4</td>\n",
       "    </tr>\n",
       "  </tbody>\n",
       "</table>\n",
       "</div>"
      ],
      "text/plain": [
       "  composition\n",
       "0      Al2Cu1\n",
       "1      Al2Cu1\n",
       "2      Al1Cu1\n",
       "3      Al1Cu4\n",
       "4      Al1Cu4"
      ]
     },
     "execution_count": 3,
     "metadata": {},
     "output_type": "execute_result"
    }
   ],
   "source": [
    "results = mdf.search_by_elements(elements=[\"Al\",\"Cu\"], \n",
    "                                 source_names=[\"oqmd\"], \n",
    "                                 limit=10)\n",
    "compositions = []\n",
    "for res in results:\n",
    "    compositions.append({\"composition\": res['material']['composition']})\n",
    "df = pd.DataFrame(compositions)\n",
    "df.head()"
   ]
  },
  {
   "cell_type": "markdown",
   "metadata": {},
   "source": [
    "Our dataframe now contains the composition of our materials"
   ]
  },
  {
   "cell_type": "markdown",
   "metadata": {},
   "source": [
    "### Query DLHub to Find the Model Steps\n",
    "The `get_servables` command returns a list of all of the servables available in DLHub. Each servable is identified by a human-friendly name and human-unfriendly UUID that is required by the service, but we provide operations so that you don't need to remember it."
   ]
  },
  {
   "cell_type": "code",
   "execution_count": 4,
   "metadata": {},
   "outputs": [
    {
     "name": "stdout",
     "output_type": "stream",
     "text": [
      "DLHub has 6 servables!\n"
     ]
    }
   ],
   "source": [
    "df_serv = dl.get_servables()\n",
    "print('DLHub has {} servables!'.format(len(df_serv)))"
   ]
  },
  {
   "cell_type": "markdown",
   "metadata": {},
   "source": [
    "Out of these, we can easily find the first step in our pipeline: the parser conversion"
   ]
  },
  {
   "cell_type": "code",
   "execution_count": 5,
   "metadata": {},
   "outputs": [
    {
     "data": {
      "text/html": [
       "<div>\n",
       "<style scoped>\n",
       "    .dataframe tbody tr th:only-of-type {\n",
       "        vertical-align: middle;\n",
       "    }\n",
       "\n",
       "    .dataframe tbody tr th {\n",
       "        vertical-align: top;\n",
       "    }\n",
       "\n",
       "    .dataframe thead th {\n",
       "        text-align: right;\n",
       "    }\n",
       "</style>\n",
       "<table border=\"1\" class=\"dataframe\">\n",
       "  <thead>\n",
       "    <tr style=\"text-align: right;\">\n",
       "      <th></th>\n",
       "      <th>uuid</th>\n",
       "      <th>name</th>\n",
       "    </tr>\n",
       "  </thead>\n",
       "  <tbody>\n",
       "    <tr>\n",
       "      <th>0</th>\n",
       "      <td>1117ac20-3f54-11e8-b467-0ed5f89f718b</td>\n",
       "      <td>oqmd_model</td>\n",
       "    </tr>\n",
       "    <tr>\n",
       "      <th>1</th>\n",
       "      <td>9ff7a98c-3f54-11e8-b467-0ed5f89f718b</td>\n",
       "      <td>matminer_featurize</td>\n",
       "    </tr>\n",
       "    <tr>\n",
       "      <th>2</th>\n",
       "      <td>e127fb16-5852-11e8-9c2d-fa7ae01bbebc</td>\n",
       "      <td>resnet</td>\n",
       "    </tr>\n",
       "    <tr>\n",
       "      <th>3</th>\n",
       "      <td>d5a1653c-3ec5-4947-8c5a-28f6554ec339</td>\n",
       "      <td>matminer_util</td>\n",
       "    </tr>\n",
       "    <tr>\n",
       "      <th>4</th>\n",
       "      <td>9553d6a2-6a8d-4cda-8b81-7f38efab67e7</td>\n",
       "      <td>formation_energy</td>\n",
       "    </tr>\n",
       "    <tr>\n",
       "      <th>5</th>\n",
       "      <td>8c78939e-6422-4627-80ea-03ed8bfdf6ea</td>\n",
       "      <td>bmg</td>\n",
       "    </tr>\n",
       "  </tbody>\n",
       "</table>\n",
       "</div>"
      ],
      "text/plain": [
       "                                   uuid                name\n",
       "0  1117ac20-3f54-11e8-b467-0ed5f89f718b          oqmd_model\n",
       "1  9ff7a98c-3f54-11e8-b467-0ed5f89f718b  matminer_featurize\n",
       "2  e127fb16-5852-11e8-9c2d-fa7ae01bbebc              resnet\n",
       "3  d5a1653c-3ec5-4947-8c5a-28f6554ec339       matminer_util\n",
       "4  9553d6a2-6a8d-4cda-8b81-7f38efab67e7    formation_energy\n",
       "5  8c78939e-6422-4627-80ea-03ed8bfdf6ea                 bmg"
      ]
     },
     "execution_count": 5,
     "metadata": {},
     "output_type": "execute_result"
    }
   ],
   "source": [
    "df_serv[['uuid', 'name']]"
   ]
  },
  {
   "cell_type": "code",
   "execution_count": 6,
   "metadata": {},
   "outputs": [
    {
     "name": "stdout",
     "output_type": "stream",
     "text": [
      "Our first step is ID: d5a1653c-3ec5-4947-8c5a-28f6554ec339\n"
     ]
    }
   ],
   "source": [
    "servable_name = \"matminer_util\"\n",
    "servable_id = dl.get_id_by_name(servable_name)\n",
    "print('Our first step is ID:', servable_id)"
   ]
  },
  {
   "cell_type": "markdown",
   "metadata": {},
   "source": [
    "### Convert the Compositions to Pymatgen Objects\n",
    "The first step in running the formation enthalpy model is to take a string, and parse it to a pymatgen Composition object that works with our next step in the toolchain. We seperate this part from the later steps in the pipeline so that other tools could reuse the Composition parser, and we can do some clever pipelining to make the models faster. Normally, you don't need to know this part exists. "
   ]
  },
  {
   "cell_type": "code",
   "execution_count": 7,
   "metadata": {},
   "outputs": [
    {
     "data": {
      "application/vnd.jupyter.widget-view+json": {
       "model_id": "0ca996244ca846b0b56803d8b44b8aa9",
       "version_major": 2,
       "version_minor": 0
      },
      "text/plain": [
       "A Jupyter Widget"
      ]
     },
     "metadata": {},
     "output_type": "display_data"
    },
    {
     "name": "stdout",
     "output_type": "stream",
     "text": [
      "\n"
     ]
    },
    {
     "data": {
      "text/html": [
       "<div>\n",
       "<style scoped>\n",
       "    .dataframe tbody tr th:only-of-type {\n",
       "        vertical-align: middle;\n",
       "    }\n",
       "\n",
       "    .dataframe tbody tr th {\n",
       "        vertical-align: top;\n",
       "    }\n",
       "\n",
       "    .dataframe thead th {\n",
       "        text-align: right;\n",
       "    }\n",
       "</style>\n",
       "<table border=\"1\" class=\"dataframe\">\n",
       "  <thead>\n",
       "    <tr style=\"text-align: right;\">\n",
       "      <th></th>\n",
       "      <th>composition</th>\n",
       "      <th>composition_object</th>\n",
       "    </tr>\n",
       "  </thead>\n",
       "  <tbody>\n",
       "    <tr>\n",
       "      <th>0</th>\n",
       "      <td>Al2Cu1</td>\n",
       "      <td>gANjcHltYXRnZW4uY29yZS5jb21wb3NpdGlvbgpDb21wb3...</td>\n",
       "    </tr>\n",
       "    <tr>\n",
       "      <th>1</th>\n",
       "      <td>Al2Cu1</td>\n",
       "      <td>gANjcHltYXRnZW4uY29yZS5jb21wb3NpdGlvbgpDb21wb3...</td>\n",
       "    </tr>\n",
       "  </tbody>\n",
       "</table>\n",
       "</div>"
      ],
      "text/plain": [
       "  composition                                 composition_object\n",
       "0      Al2Cu1  gANjcHltYXRnZW4uY29yZS5jb21wb3NpdGlvbgpDb21wb3...\n",
       "1      Al2Cu1  gANjcHltYXRnZW4uY29yZS5jb21wb3NpdGlvbgpDb21wb3..."
      ]
     },
     "execution_count": 7,
     "metadata": {},
     "output_type": "execute_result"
    }
   ],
   "source": [
    "comps = []\n",
    "for i, row in tqdm(df.iterrows()):\n",
    "    data = {\"data\":[{\"composition\":row['composition']}]}\n",
    "    res = dl.infer(servable_id, data)\n",
    "    comps.append(res['composition_object'][0])\n",
    "df['composition_object'] = comps\n",
    "df.head(2)"
   ]
  },
  {
   "cell_type": "markdown",
   "metadata": {},
   "source": [
    "DLHub uses JSON to communicate between processes. As Python objects are not normally JSON-serializable, we first convert it to a `base64` string representation before sending it back to you. You can pretend this does not exist."
   ]
  },
  {
   "cell_type": "markdown",
   "metadata": {},
   "source": [
    "### Use Matminer to Compute Features\n",
    "The key step of building a machine learning models of materials data is to compute informative inputs. For the composition of a material, these are things like the average radius of each of the atoms. We compute 145 of such features using matminer."
   ]
  },
  {
   "cell_type": "code",
   "execution_count": 8,
   "metadata": {},
   "outputs": [
    {
     "data": {
      "application/vnd.jupyter.widget-view+json": {
       "model_id": "105fa6bf4f294ca385ab9825ea1bf8b6",
       "version_major": 2,
       "version_minor": 0
      },
      "text/plain": [
       "A Jupyter Widget"
      ]
     },
     "metadata": {},
     "output_type": "display_data"
    },
    {
     "name": "stdout",
     "output_type": "stream",
     "text": [
      "\n"
     ]
    },
    {
     "data": {
      "text/html": [
       "<div>\n",
       "<style scoped>\n",
       "    .dataframe tbody tr th:only-of-type {\n",
       "        vertical-align: middle;\n",
       "    }\n",
       "\n",
       "    .dataframe tbody tr th {\n",
       "        vertical-align: top;\n",
       "    }\n",
       "\n",
       "    .dataframe thead th {\n",
       "        text-align: right;\n",
       "    }\n",
       "</style>\n",
       "<table border=\"1\" class=\"dataframe\">\n",
       "  <thead>\n",
       "    <tr style=\"text-align: right;\">\n",
       "      <th></th>\n",
       "      <th>composition</th>\n",
       "      <th>composition_object</th>\n",
       "      <th>features</th>\n",
       "    </tr>\n",
       "  </thead>\n",
       "  <tbody>\n",
       "    <tr>\n",
       "      <th>0</th>\n",
       "      <td>Al2Cu1</td>\n",
       "      <td>gANjcHltYXRnZW4uY29yZS5jb21wb3NpdGlvbgpDb21wb3...</td>\n",
       "      <td>[13.0, 29.0, 16.0, 18.333333333333332, 7.11111...</td>\n",
       "    </tr>\n",
       "    <tr>\n",
       "      <th>1</th>\n",
       "      <td>Al2Cu1</td>\n",
       "      <td>gANjcHltYXRnZW4uY29yZS5jb21wb3NpdGlvbgpDb21wb3...</td>\n",
       "      <td>[13.0, 29.0, 16.0, 18.333333333333332, 7.11111...</td>\n",
       "    </tr>\n",
       "    <tr>\n",
       "      <th>2</th>\n",
       "      <td>Al1Cu1</td>\n",
       "      <td>gANjcHltYXRnZW4uY29yZS5jb21wb3NpdGlvbgpDb21wb3...</td>\n",
       "      <td>[13.0, 29.0, 16.0, 21.0, 8.0, 13.0, 64.0, 73.0...</td>\n",
       "    </tr>\n",
       "    <tr>\n",
       "      <th>3</th>\n",
       "      <td>Al1Cu4</td>\n",
       "      <td>gANjcHltYXRnZW4uY29yZS5jb21wb3NpdGlvbgpDb21wb3...</td>\n",
       "      <td>[13.0, 29.0, 16.0, 25.8, 5.119999999999999, 29...</td>\n",
       "    </tr>\n",
       "    <tr>\n",
       "      <th>4</th>\n",
       "      <td>Al1Cu4</td>\n",
       "      <td>gANjcHltYXRnZW4uY29yZS5jb21wb3NpdGlvbgpDb21wb3...</td>\n",
       "      <td>[13.0, 29.0, 16.0, 25.8, 5.119999999999999, 29...</td>\n",
       "    </tr>\n",
       "  </tbody>\n",
       "</table>\n",
       "</div>"
      ],
      "text/plain": [
       "  composition                                 composition_object  \\\n",
       "0      Al2Cu1  gANjcHltYXRnZW4uY29yZS5jb21wb3NpdGlvbgpDb21wb3...   \n",
       "1      Al2Cu1  gANjcHltYXRnZW4uY29yZS5jb21wb3NpdGlvbgpDb21wb3...   \n",
       "2      Al1Cu1  gANjcHltYXRnZW4uY29yZS5jb21wb3NpdGlvbgpDb21wb3...   \n",
       "3      Al1Cu4  gANjcHltYXRnZW4uY29yZS5jb21wb3NpdGlvbgpDb21wb3...   \n",
       "4      Al1Cu4  gANjcHltYXRnZW4uY29yZS5jb21wb3NpdGlvbgpDb21wb3...   \n",
       "\n",
       "                                            features  \n",
       "0  [13.0, 29.0, 16.0, 18.333333333333332, 7.11111...  \n",
       "1  [13.0, 29.0, 16.0, 18.333333333333332, 7.11111...  \n",
       "2  [13.0, 29.0, 16.0, 21.0, 8.0, 13.0, 64.0, 73.0...  \n",
       "3  [13.0, 29.0, 16.0, 25.8, 5.119999999999999, 29...  \n",
       "4  [13.0, 29.0, 16.0, 25.8, 5.119999999999999, 29...  "
      ]
     },
     "execution_count": 8,
     "metadata": {},
     "output_type": "execute_result"
    }
   ],
   "source": [
    "servable_name = \"matminer_featurize\"\n",
    "servable_id = dl.get_id_by_name(servable_name)\n",
    "features = [] \n",
    "\n",
    "for i, row in tqdm(df.iterrows()):\n",
    "    data = {\"data\":[{\"composition_object\":row['composition_object']}]}\n",
    "    res = dl.infer(servable_id, data)\n",
    "    features.append(res['features'][0])\n",
    "\n",
    "df['features'] = features\n",
    "df.head()"
   ]
  },
  {
   "cell_type": "markdown",
   "metadata": {},
   "source": [
    "Note that the array now contains a column `features` where each entry is a list of different features that describe a material"
   ]
  },
  {
   "cell_type": "markdown",
   "metadata": {},
   "source": [
    "## Run the Machine Learning Model\n",
    "The last step is to invoke a scikit-learn model that takes the features to compute a formation enthalpy. "
   ]
  },
  {
   "cell_type": "code",
   "execution_count": 9,
   "metadata": {},
   "outputs": [
    {
     "data": {
      "application/vnd.jupyter.widget-view+json": {
       "model_id": "6c579bbba20d4fdaa94c79e423e1684e",
       "version_major": 2,
       "version_minor": 0
      },
      "text/plain": [
       "A Jupyter Widget"
      ]
     },
     "metadata": {},
     "output_type": "display_data"
    },
    {
     "name": "stdout",
     "output_type": "stream",
     "text": [
      "\n"
     ]
    },
    {
     "data": {
      "text/html": [
       "<div>\n",
       "<style scoped>\n",
       "    .dataframe tbody tr th:only-of-type {\n",
       "        vertical-align: middle;\n",
       "    }\n",
       "\n",
       "    .dataframe tbody tr th {\n",
       "        vertical-align: top;\n",
       "    }\n",
       "\n",
       "    .dataframe thead th {\n",
       "        text-align: right;\n",
       "    }\n",
       "</style>\n",
       "<table border=\"1\" class=\"dataframe\">\n",
       "  <thead>\n",
       "    <tr style=\"text-align: right;\">\n",
       "      <th></th>\n",
       "      <th>composition</th>\n",
       "      <th>composition_object</th>\n",
       "      <th>features</th>\n",
       "      <th>prediction</th>\n",
       "    </tr>\n",
       "  </thead>\n",
       "  <tbody>\n",
       "    <tr>\n",
       "      <th>0</th>\n",
       "      <td>Al2Cu1</td>\n",
       "      <td>gANjcHltYXRnZW4uY29yZS5jb21wb3NpdGlvbgpDb21wb3...</td>\n",
       "      <td>[13.0, 29.0, 16.0, 18.333333333333332, 7.11111...</td>\n",
       "      <td>-0.221089</td>\n",
       "    </tr>\n",
       "    <tr>\n",
       "      <th>1</th>\n",
       "      <td>Al2Cu1</td>\n",
       "      <td>gANjcHltYXRnZW4uY29yZS5jb21wb3NpdGlvbgpDb21wb3...</td>\n",
       "      <td>[13.0, 29.0, 16.0, 18.333333333333332, 7.11111...</td>\n",
       "      <td>-0.221089</td>\n",
       "    </tr>\n",
       "    <tr>\n",
       "      <th>2</th>\n",
       "      <td>Al1Cu1</td>\n",
       "      <td>gANjcHltYXRnZW4uY29yZS5jb21wb3NpdGlvbgpDb21wb3...</td>\n",
       "      <td>[13.0, 29.0, 16.0, 21.0, 8.0, 13.0, 64.0, 73.0...</td>\n",
       "      <td>-0.179726</td>\n",
       "    </tr>\n",
       "    <tr>\n",
       "      <th>3</th>\n",
       "      <td>Al1Cu4</td>\n",
       "      <td>gANjcHltYXRnZW4uY29yZS5jb21wb3NpdGlvbgpDb21wb3...</td>\n",
       "      <td>[13.0, 29.0, 16.0, 25.8, 5.119999999999999, 29...</td>\n",
       "      <td>-0.183846</td>\n",
       "    </tr>\n",
       "    <tr>\n",
       "      <th>4</th>\n",
       "      <td>Al1Cu4</td>\n",
       "      <td>gANjcHltYXRnZW4uY29yZS5jb21wb3NpdGlvbgpDb21wb3...</td>\n",
       "      <td>[13.0, 29.0, 16.0, 25.8, 5.119999999999999, 29...</td>\n",
       "      <td>-0.183846</td>\n",
       "    </tr>\n",
       "  </tbody>\n",
       "</table>\n",
       "</div>"
      ],
      "text/plain": [
       "  composition                                 composition_object  \\\n",
       "0      Al2Cu1  gANjcHltYXRnZW4uY29yZS5jb21wb3NpdGlvbgpDb21wb3...   \n",
       "1      Al2Cu1  gANjcHltYXRnZW4uY29yZS5jb21wb3NpdGlvbgpDb21wb3...   \n",
       "2      Al1Cu1  gANjcHltYXRnZW4uY29yZS5jb21wb3NpdGlvbgpDb21wb3...   \n",
       "3      Al1Cu4  gANjcHltYXRnZW4uY29yZS5jb21wb3NpdGlvbgpDb21wb3...   \n",
       "4      Al1Cu4  gANjcHltYXRnZW4uY29yZS5jb21wb3NpdGlvbgpDb21wb3...   \n",
       "\n",
       "                                            features  prediction  \n",
       "0  [13.0, 29.0, 16.0, 18.333333333333332, 7.11111...   -0.221089  \n",
       "1  [13.0, 29.0, 16.0, 18.333333333333332, 7.11111...   -0.221089  \n",
       "2  [13.0, 29.0, 16.0, 21.0, 8.0, 13.0, 64.0, 73.0...   -0.179726  \n",
       "3  [13.0, 29.0, 16.0, 25.8, 5.119999999999999, 29...   -0.183846  \n",
       "4  [13.0, 29.0, 16.0, 25.8, 5.119999999999999, 29...   -0.183846  "
      ]
     },
     "execution_count": 9,
     "metadata": {},
     "output_type": "execute_result"
    }
   ],
   "source": [
    "servable_name = \"oqmd_model\"\n",
    "servable_id = dl.get_id_by_name(servable_name)\n",
    "preds = []\n",
    "for i, row in tqdm(df.iterrows()):\n",
    "    data = {\"data\":[{\"features\":row['features']}]}\n",
    "    res = dl.infer(servable_id, data)\n",
    "    preds.append(res['prediction'][0])\n",
    "df['prediction'] = preds\n",
    "df.head()"
   ]
  },
  {
   "cell_type": "markdown",
   "metadata": {},
   "source": [
    "Great! Now we've predicted the stability for all of the materials in our list"
   ]
  },
  {
   "cell_type": "markdown",
   "metadata": {},
   "source": [
    "## Visualize the result\n",
    "Just print out our materials with the lowest formation enthalpy, and make a histogram to see the distribution of energies"
   ]
  },
  {
   "cell_type": "code",
   "execution_count": 10,
   "metadata": {},
   "outputs": [
    {
     "data": {
      "text/html": [
       "<div>\n",
       "<style scoped>\n",
       "    .dataframe tbody tr th:only-of-type {\n",
       "        vertical-align: middle;\n",
       "    }\n",
       "\n",
       "    .dataframe tbody tr th {\n",
       "        vertical-align: top;\n",
       "    }\n",
       "\n",
       "    .dataframe thead th {\n",
       "        text-align: right;\n",
       "    }\n",
       "</style>\n",
       "<table border=\"1\" class=\"dataframe\">\n",
       "  <thead>\n",
       "    <tr style=\"text-align: right;\">\n",
       "      <th></th>\n",
       "      <th>composition</th>\n",
       "      <th>composition_object</th>\n",
       "      <th>features</th>\n",
       "      <th>prediction</th>\n",
       "    </tr>\n",
       "  </thead>\n",
       "  <tbody>\n",
       "    <tr>\n",
       "      <th>5</th>\n",
       "      <td>Al3Cu1</td>\n",
       "      <td>gANjcHltYXRnZW4uY29yZS5jb21wb3NpdGlvbgpDb21wb3...</td>\n",
       "      <td>[13.0, 29.0, 16.0, 17.0, 6.0, 13.0, 64.0, 73.0...</td>\n",
       "      <td>-0.234192</td>\n",
       "    </tr>\n",
       "    <tr>\n",
       "      <th>7</th>\n",
       "      <td>Al3Cu1</td>\n",
       "      <td>gANjcHltYXRnZW4uY29yZS5jb21wb3NpdGlvbgpDb21wb3...</td>\n",
       "      <td>[13.0, 29.0, 16.0, 17.0, 6.0, 13.0, 64.0, 73.0...</td>\n",
       "      <td>-0.234192</td>\n",
       "    </tr>\n",
       "    <tr>\n",
       "      <th>0</th>\n",
       "      <td>Al2Cu1</td>\n",
       "      <td>gANjcHltYXRnZW4uY29yZS5jb21wb3NpdGlvbgpDb21wb3...</td>\n",
       "      <td>[13.0, 29.0, 16.0, 18.333333333333332, 7.11111...</td>\n",
       "      <td>-0.221089</td>\n",
       "    </tr>\n",
       "  </tbody>\n",
       "</table>\n",
       "</div>"
      ],
      "text/plain": [
       "  composition                                 composition_object  \\\n",
       "5      Al3Cu1  gANjcHltYXRnZW4uY29yZS5jb21wb3NpdGlvbgpDb21wb3...   \n",
       "7      Al3Cu1  gANjcHltYXRnZW4uY29yZS5jb21wb3NpdGlvbgpDb21wb3...   \n",
       "0      Al2Cu1  gANjcHltYXRnZW4uY29yZS5jb21wb3NpdGlvbgpDb21wb3...   \n",
       "\n",
       "                                            features  prediction  \n",
       "5  [13.0, 29.0, 16.0, 17.0, 6.0, 13.0, 64.0, 73.0...   -0.234192  \n",
       "7  [13.0, 29.0, 16.0, 17.0, 6.0, 13.0, 64.0, 73.0...   -0.234192  \n",
       "0  [13.0, 29.0, 16.0, 18.333333333333332, 7.11111...   -0.221089  "
      ]
     },
     "execution_count": 10,
     "metadata": {},
     "output_type": "execute_result"
    }
   ],
   "source": [
    "df.sort_values('prediction', ascending=True).head(3)"
   ]
  },
  {
   "cell_type": "code",
   "execution_count": 11,
   "metadata": {},
   "outputs": [
    {
     "data": {
      "image/png": "[encoded data removed]",
      "text/plain": [
       "<matplotlib.figure.Figure at 0x215f5d46be0>"
      ]
     },
     "metadata": {},
     "output_type": "display_data"
    }
   ],
   "source": [
    "fig, ax = plt.subplots()\n",
    "\n",
    "ax.hist(df['prediction'], bins=8)\n",
    "\n",
    "ax.set_xlabel('$\\Delta H_f$ (eV/atom)', fontsize=14)\n",
    "ax.set_ylabel('Frequency', fontsize=14)\n",
    "\n",
    "fig.set_size_inches(3.5, 2.5)"
   ]
  },
  {
   "cell_type": "markdown",
   "metadata": {},
   "source": [
    "At this point, we've run a prediction of the stability of a few materials without ever having to install any software on our computer."
   ]
  },
  {
   "cell_type": "markdown",
   "metadata": {},
   "source": [
    "# BNL model\n",
    "\n",
    "Use Globus Auth to get a token to pull data from Petrel then pass it through the BNL model.\n",
    "\n",
    "*** Add Diagram"
   ]
  },
  {
   "cell_type": "markdown",
   "metadata": {},
   "source": [
    "## Get a list of data from Petrel"
   ]
  },
  {
   "cell_type": "code",
   "execution_count": 12,
   "metadata": {
    "collapsed": true
   },
   "outputs": [],
   "source": [
    "# TODO -- put an ls here"
   ]
  },
  {
   "cell_type": "markdown",
   "metadata": {},
   "source": [
    "## Generate a list of data to invoke against the model\n",
    "Here we pull data from ...\n",
    "\n",
    "Each image looks like this [example image]"
   ]
  },
  {
   "cell_type": "code",
   "execution_count": 13,
   "metadata": {},
   "outputs": [
    {
     "data": {
      "text/html": [
       "<div>\n",
       "<style scoped>\n",
       "    .dataframe tbody tr th:only-of-type {\n",
       "        vertical-align: middle;\n",
       "    }\n",
       "\n",
       "    .dataframe tbody tr th {\n",
       "        vertical-align: top;\n",
       "    }\n",
       "\n",
       "    .dataframe thead th {\n",
       "        text-align: right;\n",
       "    }\n",
       "</style>\n",
       "<table border=\"1\" class=\"dataframe\">\n",
       "  <thead>\n",
       "    <tr style=\"text-align: right;\">\n",
       "      <th></th>\n",
       "      <th>file</th>\n",
       "      <th>token</th>\n",
       "    </tr>\n",
       "  </thead>\n",
       "  <tbody>\n",
       "    <tr>\n",
       "      <th>0</th>\n",
       "      <td>https://e38ee745-6d04-11e5-ba46-22000b92c6ec.e...</td>\n",
       "      <td>Ag8av0ndMmyoO4zbGb68GxQWPjD5OYEX7Nv8PX6Gz7dQrB...</td>\n",
       "    </tr>\n",
       "    <tr>\n",
       "      <th>1</th>\n",
       "      <td>https://e38ee745-6d04-11e5-ba46-22000b92c6ec.e...</td>\n",
       "      <td>Ag8av0ndMmyoO4zbGb68GxQWPjD5OYEX7Nv8PX6Gz7dQrB...</td>\n",
       "    </tr>\n",
       "  </tbody>\n",
       "</table>\n",
       "</div>"
      ],
      "text/plain": [
       "                                                file  \\\n",
       "0  https://e38ee745-6d04-11e5-ba46-22000b92c6ec.e...   \n",
       "1  https://e38ee745-6d04-11e5-ba46-22000b92c6ec.e...   \n",
       "\n",
       "                                               token  \n",
       "0  Ag8av0ndMmyoO4zbGb68GxQWPjD5OYEX7Nv8PX6Gz7dQrB...  \n",
       "1  Ag8av0ndMmyoO4zbGb68GxQWPjD5OYEX7Nv8PX6Gz7dQrB...  "
      ]
     },
     "execution_count": 13,
     "metadata": {},
     "output_type": "execute_result"
    }
   ],
   "source": [
    "file_start = \"https://e38ee745-6d04-11e5-ba46-22000b92c6ec.e.globus.org/Yager/model/raw/01470b9d_varied_sm/0000000\"\n",
    "file_end = \".mat\"\n",
    "\n",
    "data = []\n",
    "for i in range(5, 7):\n",
    "    filename = file_start + str(i) + file_end\n",
    "    data.append({\"file\": filename, \"token\": creds['petrel'].access_token})\n",
    "df_bnl = pd.DataFrame(data)\n",
    "df_bnl.head()"
   ]
  },
  {
   "cell_type": "markdown",
   "metadata": {},
   "source": [
    "## Invoke the BNL model\n",
    "In another example, we use DLHub to employ a deep learning model that uses residual deep learning networks to assign useful tags to SAX images..."
   ]
  },
  {
   "cell_type": "markdown",
   "metadata": {},
   "source": [
    "#### This can be a bit slow if the result isn't cached. We are working to optimize."
   ]
  },
  {
   "cell_type": "code",
   "execution_count": 14,
   "metadata": {},
   "outputs": [
    {
     "data": {
      "application/vnd.jupyter.widget-view+json": {
       "model_id": "6929dd04cf8447628491471fb720a3a3",
       "version_major": 2,
       "version_minor": 0
      },
      "text/plain": [
       "A Jupyter Widget"
      ]
     },
     "metadata": {},
     "output_type": "display_data"
    },
    {
     "name": "stdout",
     "output_type": "stream",
     "text": [
      "\n"
     ]
    },
    {
     "data": {
      "text/html": [
       "<div>\n",
       "<style scoped>\n",
       "    .dataframe tbody tr th:only-of-type {\n",
       "        vertical-align: middle;\n",
       "    }\n",
       "\n",
       "    .dataframe tbody tr th {\n",
       "        vertical-align: top;\n",
       "    }\n",
       "\n",
       "    .dataframe thead th {\n",
       "        text-align: right;\n",
       "    }\n",
       "</style>\n",
       "<table border=\"1\" class=\"dataframe\">\n",
       "  <thead>\n",
       "    <tr style=\"text-align: right;\">\n",
       "      <th></th>\n",
       "      <th>file</th>\n",
       "      <th>token</th>\n",
       "      <th>prediction</th>\n",
       "    </tr>\n",
       "  </thead>\n",
       "  <tbody>\n",
       "    <tr>\n",
       "      <th>0</th>\n",
       "      <td>https://e38ee745-6d04-11e5-ba46-22000b92c6ec.e...</td>\n",
       "      <td>Ag8av0ndMmyoO4zbGb68GxQWPjD5OYEX7Nv8PX6Gz7dQrB...</td>\n",
       "      <td>[1.773031362972688e-05, 0.9997794032096863, 0....</td>\n",
       "    </tr>\n",
       "    <tr>\n",
       "      <th>1</th>\n",
       "      <td>https://e38ee745-6d04-11e5-ba46-22000b92c6ec.e...</td>\n",
       "      <td>Ag8av0ndMmyoO4zbGb68GxQWPjD5OYEX7Nv8PX6Gz7dQrB...</td>\n",
       "      <td>[1.7599653801880777e-05, 0.999782383441925, 0....</td>\n",
       "    </tr>\n",
       "  </tbody>\n",
       "</table>\n",
       "</div>"
      ],
      "text/plain": [
       "                                                file  \\\n",
       "0  https://e38ee745-6d04-11e5-ba46-22000b92c6ec.e...   \n",
       "1  https://e38ee745-6d04-11e5-ba46-22000b92c6ec.e...   \n",
       "\n",
       "                                               token  \\\n",
       "0  Ag8av0ndMmyoO4zbGb68GxQWPjD5OYEX7Nv8PX6Gz7dQrB...   \n",
       "1  Ag8av0ndMmyoO4zbGb68GxQWPjD5OYEX7Nv8PX6Gz7dQrB...   \n",
       "\n",
       "                                          prediction  \n",
       "0  [1.773031362972688e-05, 0.9997794032096863, 0....  \n",
       "1  [1.7599653801880777e-05, 0.999782383441925, 0....  "
      ]
     },
     "execution_count": 14,
     "metadata": {},
     "output_type": "execute_result"
    }
   ],
   "source": [
    "servable_name = \"resnet\"\n",
    "servable_id = dl.get_id_by_name(servable_name)\n",
    "\n",
    "preds=[]\n",
    "\n",
    "for d in tqdm(data):\n",
    "    data = {\"data\":[d]}\n",
    "    res = dl.infer(servable_id, data)\n",
    "    preds.append(res[0][0])\n",
    "df_bnl['prediction'] = preds\n",
    "df_bnl.head()"
   ]
  },
  {
   "cell_type": "code",
   "execution_count": 15,
   "metadata": {},
   "outputs": [
    {
     "data": {
      "text/plain": [
       "'https://e38ee745-6d04-11e5-ba46-22000b92c6ec.e.globus.org/Yager/model/raw/01470b9d_varied_sm/00000005.mat'"
      ]
     },
     "execution_count": 15,
     "metadata": {},
     "output_type": "execute_result"
    }
   ],
   "source": [
    "df_bnl['file'][0]"
   ]
  },
  {
   "cell_type": "markdown",
   "metadata": {},
   "source": [
    "## Translate predictions into tags\n",
    "To make these predictions useful to humans..."
   ]
  },
  {
   "cell_type": "code",
   "execution_count": 16,
   "metadata": {},
   "outputs": [
    {
     "data": {
      "text/html": [
       "<div>\n",
       "<style scoped>\n",
       "    .dataframe tbody tr th:only-of-type {\n",
       "        vertical-align: middle;\n",
       "    }\n",
       "\n",
       "    .dataframe tbody tr th {\n",
       "        vertical-align: top;\n",
       "    }\n",
       "\n",
       "    .dataframe thead th {\n",
       "        text-align: right;\n",
       "    }\n",
       "</style>\n",
       "<table border=\"1\" class=\"dataframe\">\n",
       "  <thead>\n",
       "    <tr style=\"text-align: right;\">\n",
       "      <th></th>\n",
       "      <th>probability</th>\n",
       "      <th>tags</th>\n",
       "    </tr>\n",
       "  </thead>\n",
       "  <tbody>\n",
       "    <tr>\n",
       "      <th>1</th>\n",
       "      <td>0.999779</td>\n",
       "      <td>Beam Off Image</td>\n",
       "    </tr>\n",
       "    <tr>\n",
       "      <th>6</th>\n",
       "      <td>0.746068</td>\n",
       "      <td>Halo</td>\n",
       "    </tr>\n",
       "    <tr>\n",
       "      <th>13</th>\n",
       "      <td>0.365134</td>\n",
       "      <td>Strong scattering</td>\n",
       "    </tr>\n",
       "    <tr>\n",
       "      <th>7</th>\n",
       "      <td>0.082168</td>\n",
       "      <td>High background</td>\n",
       "    </tr>\n",
       "    <tr>\n",
       "      <th>12</th>\n",
       "      <td>0.027924</td>\n",
       "      <td>Ring</td>\n",
       "    </tr>\n",
       "    <tr>\n",
       "      <th>8</th>\n",
       "      <td>0.012182</td>\n",
       "      <td>Higher orders</td>\n",
       "    </tr>\n",
       "    <tr>\n",
       "      <th>15</th>\n",
       "      <td>0.008120</td>\n",
       "      <td>Weak scattering</td>\n",
       "    </tr>\n",
       "    <tr>\n",
       "      <th>9</th>\n",
       "      <td>0.001963</td>\n",
       "      <td>Linear beamstop</td>\n",
       "    </tr>\n",
       "    <tr>\n",
       "      <th>16</th>\n",
       "      <td>0.001752</td>\n",
       "      <td>Wedge beamstop</td>\n",
       "    </tr>\n",
       "    <tr>\n",
       "      <th>2</th>\n",
       "      <td>0.000980</td>\n",
       "      <td>Circular Beamstop</td>\n",
       "    </tr>\n",
       "  </tbody>\n",
       "</table>\n",
       "</div>"
      ],
      "text/plain": [
       "    probability               tags\n",
       "1      0.999779     Beam Off Image\n",
       "6      0.746068               Halo\n",
       "13     0.365134  Strong scattering\n",
       "7      0.082168    High background\n",
       "12     0.027924               Ring\n",
       "8      0.012182      Higher orders\n",
       "15     0.008120    Weak scattering\n",
       "9      0.001963    Linear beamstop\n",
       "16     0.001752     Wedge beamstop\n",
       "2      0.000980  Circular Beamstop"
      ]
     },
     "execution_count": 16,
     "metadata": {},
     "output_type": "execute_result"
    }
   ],
   "source": [
    "df_tags = pd.read_csv('./tags.txt',  '\\n', header=None) ## Eventually this will be read in from the model metadata in Search\n",
    "\n",
    "def get_tags(entry):\n",
    "    df_tmp = pd.DataFrame()\n",
    "    df_tmp['probability'] = entry['prediction']\n",
    "    df_tmp['tags'] = df_tags[0]\n",
    "    return df_tmp\n",
    "\n",
    "\n",
    "df_p = get_tags(df_bnl.iloc[0])\n",
    "df_p.sort_values([\"probability\"], ascending=False).head(10)"
   ]
  },
  {
   "cell_type": "markdown",
   "metadata": {},
   "source": [
    "Our machine learning model predicts a 99.9% certainity that the beam is off image. We plan to incorporate this kind of model into the beamline facilities at ANL so that scientists (or robots!) at the beamline can quickly identify when their experiments are producing useless data."
   ]
  },
  {
   "cell_type": "markdown",
   "metadata": {},
   "source": [
    "# Metallic Glass Discovery"
   ]
  },
  {
   "cell_type": "markdown",
   "metadata": {},
   "source": [
    "## In Progress -- This example doesn't work yet"
   ]
  },
  {
   "cell_type": "code",
   "execution_count": 17,
   "metadata": {},
   "outputs": [
    {
     "name": "stdout",
     "output_type": "stream",
     "text": [
      "         pred  x   y\n",
      "0    0.000000  0   0\n",
      "1    0.295000  0   1\n",
      "10   0.237500  0  10\n",
      "100  0.967500  7   2\n",
      "101  0.905000  7   3\n",
      "102  0.842500  7   4\n",
      "103  0.807500  7   5\n",
      "104  0.677500  7   6\n",
      "105  0.730000  7   7\n",
      "106  0.812500  7   8\n",
      "107  0.764821  7   9\n",
      "108  0.856167  8   0\n",
      "109  0.910000  8   1\n",
      "11   0.250000  0  11\n",
      "110  0.847500  8   2\n",
      "111  0.642500  8   3\n",
      "112  0.567500  8   4\n",
      "113  0.477500  8   5\n",
      "114  0.505000  8   6\n",
      "115  0.505000  8   7\n",
      "116  0.542321  8   8\n",
      "117  0.418667  9   0\n",
      "118  0.352500  9   1\n",
      "119  0.265000  9   2\n",
      "12   0.272500  0  12\n",
      "120  0.292500  9   3\n",
      "121  0.305000  9   4\n",
      "122  0.352500  9   5\n",
      "123  0.357500  9   6\n",
      "124  0.432321  9   7\n",
      "..        ... ..  ..\n",
      "72   0.851221  4  10\n",
      "73   0.767375  4  11\n",
      "74   0.639821  4  12\n",
      "75   0.768667  5   0\n",
      "76   0.920000  5   1\n",
      "77   0.888649  5   2\n",
      "78   0.865000  5   3\n",
      "79   0.815000  5   4\n",
      "8    0.216274  0   8\n",
      "80   0.762500  5   5\n",
      "81   0.683580  5   6\n",
      "82   0.685000  5   7\n",
      "83   0.780000  5   8\n",
      "84   0.885000  5   9\n",
      "85   0.806221  5  10\n",
      "86   0.682321  5  11\n",
      "87   0.868667  6   0\n",
      "88   0.975000  6   1\n",
      "89   0.965000  6   2\n",
      "9    0.231274  0   9\n",
      "90   0.930000  6   3\n",
      "91   0.800000  6   4\n",
      "92   0.761154  6   5\n",
      "93   0.765000  6   6\n",
      "94   0.760000  6   7\n",
      "95   0.845000  6   8\n",
      "96   0.822500  6   9\n",
      "97   0.707321  6  10\n",
      "98   0.878667  7   0\n",
      "99   0.980000  7   1\n",
      "\n",
      "[153 rows x 3 columns]\n"
     ]
    }
   ],
   "source": [
    "servable_name = \"bmg\"\n",
    "servable_id = dl.get_id_by_name(servable_name)\n",
    "\n",
    "data = {\"data\":['Zr', 'Cr', 'Fe']}\n",
    "\n",
    "lst_res = dl.infer(servable_id, data)\n",
    "print (lst_res)\n",
    "# util_path = '{service}/servables/{servable_id}/run'.format(service=dlhub_service,\n",
    "#                                                               servable_id=servable_id)\n",
    "# r = requests.post(util_path, json=payload)\n",
    "# lst_res = json.loads(r.text)"
   ]
  },
  {
   "cell_type": "code",
   "execution_count": 18,
   "metadata": {},
   "outputs": [
    {
     "data": {
      "text/html": [
       "<div>\n",
       "<style scoped>\n",
       "    .dataframe tbody tr th:only-of-type {\n",
       "        vertical-align: middle;\n",
       "    }\n",
       "\n",
       "    .dataframe tbody tr th {\n",
       "        vertical-align: top;\n",
       "    }\n",
       "\n",
       "    .dataframe thead th {\n",
       "        text-align: right;\n",
       "    }\n",
       "</style>\n",
       "<table border=\"1\" class=\"dataframe\">\n",
       "  <thead>\n",
       "    <tr style=\"text-align: right;\">\n",
       "      <th></th>\n",
       "      <th>pred</th>\n",
       "      <th>x</th>\n",
       "      <th>y</th>\n",
       "    </tr>\n",
       "  </thead>\n",
       "  <tbody>\n",
       "    <tr>\n",
       "      <th>0</th>\n",
       "      <td>0.000000</td>\n",
       "      <td>0</td>\n",
       "      <td>0</td>\n",
       "    </tr>\n",
       "    <tr>\n",
       "      <th>1</th>\n",
       "      <td>0.295000</td>\n",
       "      <td>0</td>\n",
       "      <td>1</td>\n",
       "    </tr>\n",
       "    <tr>\n",
       "      <th>10</th>\n",
       "      <td>0.237500</td>\n",
       "      <td>0</td>\n",
       "      <td>10</td>\n",
       "    </tr>\n",
       "    <tr>\n",
       "      <th>100</th>\n",
       "      <td>0.967500</td>\n",
       "      <td>7</td>\n",
       "      <td>2</td>\n",
       "    </tr>\n",
       "    <tr>\n",
       "      <th>101</th>\n",
       "      <td>0.905000</td>\n",
       "      <td>7</td>\n",
       "      <td>3</td>\n",
       "    </tr>\n",
       "    <tr>\n",
       "      <th>102</th>\n",
       "      <td>0.842500</td>\n",
       "      <td>7</td>\n",
       "      <td>4</td>\n",
       "    </tr>\n",
       "    <tr>\n",
       "      <th>103</th>\n",
       "      <td>0.807500</td>\n",
       "      <td>7</td>\n",
       "      <td>5</td>\n",
       "    </tr>\n",
       "    <tr>\n",
       "      <th>104</th>\n",
       "      <td>0.677500</td>\n",
       "      <td>7</td>\n",
       "      <td>6</td>\n",
       "    </tr>\n",
       "    <tr>\n",
       "      <th>105</th>\n",
       "      <td>0.730000</td>\n",
       "      <td>7</td>\n",
       "      <td>7</td>\n",
       "    </tr>\n",
       "    <tr>\n",
       "      <th>106</th>\n",
       "      <td>0.812500</td>\n",
       "      <td>7</td>\n",
       "      <td>8</td>\n",
       "    </tr>\n",
       "    <tr>\n",
       "      <th>107</th>\n",
       "      <td>0.764821</td>\n",
       "      <td>7</td>\n",
       "      <td>9</td>\n",
       "    </tr>\n",
       "    <tr>\n",
       "      <th>108</th>\n",
       "      <td>0.856167</td>\n",
       "      <td>8</td>\n",
       "      <td>0</td>\n",
       "    </tr>\n",
       "    <tr>\n",
       "      <th>109</th>\n",
       "      <td>0.910000</td>\n",
       "      <td>8</td>\n",
       "      <td>1</td>\n",
       "    </tr>\n",
       "    <tr>\n",
       "      <th>11</th>\n",
       "      <td>0.250000</td>\n",
       "      <td>0</td>\n",
       "      <td>11</td>\n",
       "    </tr>\n",
       "    <tr>\n",
       "      <th>110</th>\n",
       "      <td>0.847500</td>\n",
       "      <td>8</td>\n",
       "      <td>2</td>\n",
       "    </tr>\n",
       "    <tr>\n",
       "      <th>111</th>\n",
       "      <td>0.642500</td>\n",
       "      <td>8</td>\n",
       "      <td>3</td>\n",
       "    </tr>\n",
       "    <tr>\n",
       "      <th>112</th>\n",
       "      <td>0.567500</td>\n",
       "      <td>8</td>\n",
       "      <td>4</td>\n",
       "    </tr>\n",
       "    <tr>\n",
       "      <th>113</th>\n",
       "      <td>0.477500</td>\n",
       "      <td>8</td>\n",
       "      <td>5</td>\n",
       "    </tr>\n",
       "    <tr>\n",
       "      <th>114</th>\n",
       "      <td>0.505000</td>\n",
       "      <td>8</td>\n",
       "      <td>6</td>\n",
       "    </tr>\n",
       "    <tr>\n",
       "      <th>115</th>\n",
       "      <td>0.505000</td>\n",
       "      <td>8</td>\n",
       "      <td>7</td>\n",
       "    </tr>\n",
       "    <tr>\n",
       "      <th>116</th>\n",
       "      <td>0.542321</td>\n",
       "      <td>8</td>\n",
       "      <td>8</td>\n",
       "    </tr>\n",
       "    <tr>\n",
       "      <th>117</th>\n",
       "      <td>0.418667</td>\n",
       "      <td>9</td>\n",
       "      <td>0</td>\n",
       "    </tr>\n",
       "    <tr>\n",
       "      <th>118</th>\n",
       "      <td>0.352500</td>\n",
       "      <td>9</td>\n",
       "      <td>1</td>\n",
       "    </tr>\n",
       "    <tr>\n",
       "      <th>119</th>\n",
       "      <td>0.265000</td>\n",
       "      <td>9</td>\n",
       "      <td>2</td>\n",
       "    </tr>\n",
       "    <tr>\n",
       "      <th>12</th>\n",
       "      <td>0.272500</td>\n",
       "      <td>0</td>\n",
       "      <td>12</td>\n",
       "    </tr>\n",
       "    <tr>\n",
       "      <th>120</th>\n",
       "      <td>0.292500</td>\n",
       "      <td>9</td>\n",
       "      <td>3</td>\n",
       "    </tr>\n",
       "    <tr>\n",
       "      <th>121</th>\n",
       "      <td>0.305000</td>\n",
       "      <td>9</td>\n",
       "      <td>4</td>\n",
       "    </tr>\n",
       "    <tr>\n",
       "      <th>122</th>\n",
       "      <td>0.352500</td>\n",
       "      <td>9</td>\n",
       "      <td>5</td>\n",
       "    </tr>\n",
       "    <tr>\n",
       "      <th>123</th>\n",
       "      <td>0.357500</td>\n",
       "      <td>9</td>\n",
       "      <td>6</td>\n",
       "    </tr>\n",
       "    <tr>\n",
       "      <th>124</th>\n",
       "      <td>0.432321</td>\n",
       "      <td>9</td>\n",
       "      <td>7</td>\n",
       "    </tr>\n",
       "    <tr>\n",
       "      <th>...</th>\n",
       "      <td>...</td>\n",
       "      <td>...</td>\n",
       "      <td>...</td>\n",
       "    </tr>\n",
       "    <tr>\n",
       "      <th>72</th>\n",
       "      <td>0.851221</td>\n",
       "      <td>4</td>\n",
       "      <td>10</td>\n",
       "    </tr>\n",
       "    <tr>\n",
       "      <th>73</th>\n",
       "      <td>0.767375</td>\n",
       "      <td>4</td>\n",
       "      <td>11</td>\n",
       "    </tr>\n",
       "    <tr>\n",
       "      <th>74</th>\n",
       "      <td>0.639821</td>\n",
       "      <td>4</td>\n",
       "      <td>12</td>\n",
       "    </tr>\n",
       "    <tr>\n",
       "      <th>75</th>\n",
       "      <td>0.768667</td>\n",
       "      <td>5</td>\n",
       "      <td>0</td>\n",
       "    </tr>\n",
       "    <tr>\n",
       "      <th>76</th>\n",
       "      <td>0.920000</td>\n",
       "      <td>5</td>\n",
       "      <td>1</td>\n",
       "    </tr>\n",
       "    <tr>\n",
       "      <th>77</th>\n",
       "      <td>0.888649</td>\n",
       "      <td>5</td>\n",
       "      <td>2</td>\n",
       "    </tr>\n",
       "    <tr>\n",
       "      <th>78</th>\n",
       "      <td>0.865000</td>\n",
       "      <td>5</td>\n",
       "      <td>3</td>\n",
       "    </tr>\n",
       "    <tr>\n",
       "      <th>79</th>\n",
       "      <td>0.815000</td>\n",
       "      <td>5</td>\n",
       "      <td>4</td>\n",
       "    </tr>\n",
       "    <tr>\n",
       "      <th>8</th>\n",
       "      <td>0.216274</td>\n",
       "      <td>0</td>\n",
       "      <td>8</td>\n",
       "    </tr>\n",
       "    <tr>\n",
       "      <th>80</th>\n",
       "      <td>0.762500</td>\n",
       "      <td>5</td>\n",
       "      <td>5</td>\n",
       "    </tr>\n",
       "    <tr>\n",
       "      <th>81</th>\n",
       "      <td>0.683580</td>\n",
       "      <td>5</td>\n",
       "      <td>6</td>\n",
       "    </tr>\n",
       "    <tr>\n",
       "      <th>82</th>\n",
       "      <td>0.685000</td>\n",
       "      <td>5</td>\n",
       "      <td>7</td>\n",
       "    </tr>\n",
       "    <tr>\n",
       "      <th>83</th>\n",
       "      <td>0.780000</td>\n",
       "      <td>5</td>\n",
       "      <td>8</td>\n",
       "    </tr>\n",
       "    <tr>\n",
       "      <th>84</th>\n",
       "      <td>0.885000</td>\n",
       "      <td>5</td>\n",
       "      <td>9</td>\n",
       "    </tr>\n",
       "    <tr>\n",
       "      <th>85</th>\n",
       "      <td>0.806221</td>\n",
       "      <td>5</td>\n",
       "      <td>10</td>\n",
       "    </tr>\n",
       "    <tr>\n",
       "      <th>86</th>\n",
       "      <td>0.682321</td>\n",
       "      <td>5</td>\n",
       "      <td>11</td>\n",
       "    </tr>\n",
       "    <tr>\n",
       "      <th>87</th>\n",
       "      <td>0.868667</td>\n",
       "      <td>6</td>\n",
       "      <td>0</td>\n",
       "    </tr>\n",
       "    <tr>\n",
       "      <th>88</th>\n",
       "      <td>0.975000</td>\n",
       "      <td>6</td>\n",
       "      <td>1</td>\n",
       "    </tr>\n",
       "    <tr>\n",
       "      <th>89</th>\n",
       "      <td>0.965000</td>\n",
       "      <td>6</td>\n",
       "      <td>2</td>\n",
       "    </tr>\n",
       "    <tr>\n",
       "      <th>9</th>\n",
       "      <td>0.231274</td>\n",
       "      <td>0</td>\n",
       "      <td>9</td>\n",
       "    </tr>\n",
       "    <tr>\n",
       "      <th>90</th>\n",
       "      <td>0.930000</td>\n",
       "      <td>6</td>\n",
       "      <td>3</td>\n",
       "    </tr>\n",
       "    <tr>\n",
       "      <th>91</th>\n",
       "      <td>0.800000</td>\n",
       "      <td>6</td>\n",
       "      <td>4</td>\n",
       "    </tr>\n",
       "    <tr>\n",
       "      <th>92</th>\n",
       "      <td>0.761154</td>\n",
       "      <td>6</td>\n",
       "      <td>5</td>\n",
       "    </tr>\n",
       "    <tr>\n",
       "      <th>93</th>\n",
       "      <td>0.765000</td>\n",
       "      <td>6</td>\n",
       "      <td>6</td>\n",
       "    </tr>\n",
       "    <tr>\n",
       "      <th>94</th>\n",
       "      <td>0.760000</td>\n",
       "      <td>6</td>\n",
       "      <td>7</td>\n",
       "    </tr>\n",
       "    <tr>\n",
       "      <th>95</th>\n",
       "      <td>0.845000</td>\n",
       "      <td>6</td>\n",
       "      <td>8</td>\n",
       "    </tr>\n",
       "    <tr>\n",
       "      <th>96</th>\n",
       "      <td>0.822500</td>\n",
       "      <td>6</td>\n",
       "      <td>9</td>\n",
       "    </tr>\n",
       "    <tr>\n",
       "      <th>97</th>\n",
       "      <td>0.707321</td>\n",
       "      <td>6</td>\n",
       "      <td>10</td>\n",
       "    </tr>\n",
       "    <tr>\n",
       "      <th>98</th>\n",
       "      <td>0.878667</td>\n",
       "      <td>7</td>\n",
       "      <td>0</td>\n",
       "    </tr>\n",
       "    <tr>\n",
       "      <th>99</th>\n",
       "      <td>0.980000</td>\n",
       "      <td>7</td>\n",
       "      <td>1</td>\n",
       "    </tr>\n",
       "  </tbody>\n",
       "</table>\n",
       "<p>153 rows × 3 columns</p>\n",
       "</div>"
      ],
      "text/plain": [
       "         pred  x   y\n",
       "0    0.000000  0   0\n",
       "1    0.295000  0   1\n",
       "10   0.237500  0  10\n",
       "100  0.967500  7   2\n",
       "101  0.905000  7   3\n",
       "102  0.842500  7   4\n",
       "103  0.807500  7   5\n",
       "104  0.677500  7   6\n",
       "105  0.730000  7   7\n",
       "106  0.812500  7   8\n",
       "107  0.764821  7   9\n",
       "108  0.856167  8   0\n",
       "109  0.910000  8   1\n",
       "11   0.250000  0  11\n",
       "110  0.847500  8   2\n",
       "111  0.642500  8   3\n",
       "112  0.567500  8   4\n",
       "113  0.477500  8   5\n",
       "114  0.505000  8   6\n",
       "115  0.505000  8   7\n",
       "116  0.542321  8   8\n",
       "117  0.418667  9   0\n",
       "118  0.352500  9   1\n",
       "119  0.265000  9   2\n",
       "12   0.272500  0  12\n",
       "120  0.292500  9   3\n",
       "121  0.305000  9   4\n",
       "122  0.352500  9   5\n",
       "123  0.357500  9   6\n",
       "124  0.432321  9   7\n",
       "..        ... ..  ..\n",
       "72   0.851221  4  10\n",
       "73   0.767375  4  11\n",
       "74   0.639821  4  12\n",
       "75   0.768667  5   0\n",
       "76   0.920000  5   1\n",
       "77   0.888649  5   2\n",
       "78   0.865000  5   3\n",
       "79   0.815000  5   4\n",
       "8    0.216274  0   8\n",
       "80   0.762500  5   5\n",
       "81   0.683580  5   6\n",
       "82   0.685000  5   7\n",
       "83   0.780000  5   8\n",
       "84   0.885000  5   9\n",
       "85   0.806221  5  10\n",
       "86   0.682321  5  11\n",
       "87   0.868667  6   0\n",
       "88   0.975000  6   1\n",
       "89   0.965000  6   2\n",
       "9    0.231274  0   9\n",
       "90   0.930000  6   3\n",
       "91   0.800000  6   4\n",
       "92   0.761154  6   5\n",
       "93   0.765000  6   6\n",
       "94   0.760000  6   7\n",
       "95   0.845000  6   8\n",
       "96   0.822500  6   9\n",
       "97   0.707321  6  10\n",
       "98   0.878667  7   0\n",
       "99   0.980000  7   1\n",
       "\n",
       "[153 rows x 3 columns]"
      ]
     },
     "execution_count": 18,
     "metadata": {},
     "output_type": "execute_result"
    }
   ],
   "source": [
    "lst_res"
   ]
  },
  {
   "cell_type": "code",
   "execution_count": 19,
   "metadata": {
    "collapsed": true
   },
   "outputs": [],
   "source": [
    "%matplotlib inline\n",
    "from matplotlib import pyplot as plt\n",
    "from matplotlib import cm\n",
    "from matplotlib.colors import ListedColormap\n",
    "from matminer.featurizers.composition import ElementFraction\n",
    "from pymatgen import Composition\n",
    "import pickle as pkl\n",
    "import numpy as np\n",
    "import ternary\n",
    "import gzip\n",
    "\n",
    "\n",
    "def ternary_from_data(data, elems=[\"Left\", \"Center\", \"Right\"], scale=32):\n",
    "    _, ax = plt.subplots()\n",
    "    \n",
    "    # Make the plot \n",
    "    fig, tax = ternary.figure(scale=scale, ax=ax)\n",
    "    tax.gridlines(color=\"black\", multiple=10)\n",
    "    tax.boundary(linewidth=1)\n",
    "\n",
    "    # Generate the heatmap\n",
    "    sc = heatmap(data, scale, cmap=make_cmap(), ax=ax, vmin=0.5, vmax=1, colorbar=True)\n",
    "    \n",
    "    # Make it prettier\n",
    "    plt.axis('off')\n",
    "    ax.text(1.05 * scale, -0.05 * scale, elems[0], ha='right', fontsize=12) # 1st elem\n",
    "    ax.text(.50 * scale, .90 * scale, elems[1], ha='center', fontsize=12) # 2nd elem\n",
    "    ax.text(-.05 * scale, -.05 * scale, elems[2], ha='left', fontsize=12) # 3rd elem\n",
    "    \n",
    "def make_cmap(base='viridis_r', scale_factor=1.5, cutoff=0.9, adjust_factor=0.1):\n",
    "    \"\"\"Make a colormap that this scaled to emphasize the top of the range.\n",
    "    \n",
    "    Two kinds of emphasis:\n",
    "        1) Scaling the colormap to have a stronger gradient at the top\n",
    "        2) Making the colors below a treshold lighter\n",
    "        \n",
    "    Inputs:\n",
    "        base - str, base color map name\n",
    "        scale_factor - float, how much to exaggerate the range at the top (larger value -> larger scaling)\n",
    "        cutoff - float, treshold below which to lighten colors (0-1)\n",
    "        adjust_factor - float, how much to dampen colors (0-1)\n",
    "    Returns:\n",
    "        Colormap\n",
    "    \"\"\"\n",
    "    \n",
    "    # Get the base colormap\n",
    "    v = cm.get_cmap('viridis_r')\n",
    "    \n",
    "    # Scale it\n",
    "    new_list = v(np.linspace(0,1,300) ** scale_factor)\n",
    "\n",
    "    # Apply cutoff\n",
    "    new_list[:int(len(new_list)*cutoff),:3] += (1 - new_list[:int(len(new_list)*cutoff),:3]) * adjust_factor\n",
    "    return ListedColormap(new_list, name='%s_scaled'%base)\n"
   ]
  },
  {
   "cell_type": "code",
   "execution_count": 20,
   "metadata": {},
   "outputs": [
    {
     "ename": "NameError",
     "evalue": "name 'heatmap' is not defined",
     "output_type": "error",
     "traceback": [
      "\u001b[1;31m---------------------------------------------------------------------------\u001b[0m",
      "\u001b[1;31mNameError\u001b[0m                                 Traceback (most recent call last)",
      "\u001b[1;32m<ipython-input-20-b2fba4a65419>\u001b[0m in \u001b[0;36m<module>\u001b[1;34m()\u001b[0m\n\u001b[1;32m----> 1\u001b[1;33m \u001b[0mternary_from_data\u001b[0m\u001b[1;33m(\u001b[0m\u001b[0mlst_res\u001b[0m\u001b[1;33m)\u001b[0m\u001b[1;33m\u001b[0m\u001b[0m\n\u001b[0m",
      "\u001b[1;32m<ipython-input-19-026bed5249b1>\u001b[0m in \u001b[0;36mternary_from_data\u001b[1;34m(data, elems, scale)\u001b[0m\n\u001b[0;32m     20\u001b[0m \u001b[1;33m\u001b[0m\u001b[0m\n\u001b[0;32m     21\u001b[0m     \u001b[1;31m# Generate the heatmap\u001b[0m\u001b[1;33m\u001b[0m\u001b[1;33m\u001b[0m\u001b[0m\n\u001b[1;32m---> 22\u001b[1;33m     \u001b[0msc\u001b[0m \u001b[1;33m=\u001b[0m \u001b[0mheatmap\u001b[0m\u001b[1;33m(\u001b[0m\u001b[0mdata\u001b[0m\u001b[1;33m,\u001b[0m \u001b[0mscale\u001b[0m\u001b[1;33m,\u001b[0m \u001b[0mcmap\u001b[0m\u001b[1;33m=\u001b[0m\u001b[0mmake_cmap\u001b[0m\u001b[1;33m(\u001b[0m\u001b[1;33m)\u001b[0m\u001b[1;33m,\u001b[0m \u001b[0max\u001b[0m\u001b[1;33m=\u001b[0m\u001b[0max\u001b[0m\u001b[1;33m,\u001b[0m \u001b[0mvmin\u001b[0m\u001b[1;33m=\u001b[0m\u001b[1;36m0.5\u001b[0m\u001b[1;33m,\u001b[0m \u001b[0mvmax\u001b[0m\u001b[1;33m=\u001b[0m\u001b[1;36m1\u001b[0m\u001b[1;33m,\u001b[0m \u001b[0mcolorbar\u001b[0m\u001b[1;33m=\u001b[0m\u001b[1;32mTrue\u001b[0m\u001b[1;33m)\u001b[0m\u001b[1;33m\u001b[0m\u001b[0m\n\u001b[0m\u001b[0;32m     23\u001b[0m \u001b[1;33m\u001b[0m\u001b[0m\n\u001b[0;32m     24\u001b[0m     \u001b[1;31m# Make it prettier\u001b[0m\u001b[1;33m\u001b[0m\u001b[1;33m\u001b[0m\u001b[0m\n",
      "\u001b[1;31mNameError\u001b[0m: name 'heatmap' is not defined"
     ]
    },
    {
     "data": {
      "image/png": "[encoded data removed]",
      "text/plain": [
       "<matplotlib.figure.Figure at 0x215feedc128>"
      ]
     },
     "metadata": {},
     "output_type": "display_data"
    }
   ],
   "source": [
    "ternary_from_data(lst_res)"
   ]
  },
  {
   "cell_type": "code",
   "execution_count": null,
   "metadata": {
    "collapsed": true
   },
   "outputs": [],
   "source": [
    "servable_name = \"bmg\"\n",
    "servable_id = dl.get_id_by_name(servable_name)\n",
    "\n",
    "data = {\"data\":['Zr', 'Cr', 'Fe']}\n",
    "res = dl.infer(servable_id, data)\n"
   ]
  },
  {
   "cell_type": "code",
   "execution_count": null,
   "metadata": {
    "collapsed": true
   },
   "outputs": [],
   "source": []
  },
  {
   "cell_type": "code",
   "execution_count": null,
   "metadata": {
    "collapsed": true
   },
   "outputs": [],
   "source": [
    "df_tags"
   ]
  },
  {
   "cell_type": "code",
   "execution_count": null,
   "metadata": {
    "collapsed": true
   },
   "outputs": [],
   "source": []
  }
 ],
 "metadata": {
  "kernelspec": {
   "display_name": "Python 3",
   "language": "python",
   "name": "python3"
  },
  "language_info": {
   "codemirror_mode": {
    "name": "ipython",
    "version": 3
   },
   "file_extension": ".py",
   "mimetype": "text/x-python",
   "name": "python",
   "nbconvert_exporter": "python",
   "pygments_lexer": "ipython3",
   "version": "3.6.0"
  }
 },
 "nbformat": 4,
 "nbformat_minor": 2
}
