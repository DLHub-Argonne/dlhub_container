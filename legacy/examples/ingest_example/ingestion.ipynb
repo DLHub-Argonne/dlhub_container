{
 "cells": [
  {
   "cell_type": "markdown",
   "metadata": {},
   "source": [
    "## Example DLHub Ingestion"
   ]
  },
  {
   "cell_type": "markdown",
   "metadata": {},
   "source": [
    "This notebook demonstrates ingesting a servable into DLHub. A servable is any containerized logic that can be invoked through DLHub. The DLHub ingestion pipeline consists of the following steps:<br>\n",
    "1. Specify where the local servable is<br>\n",
    "2. Stage the servable data somewhere for DLHub to retrieve it<br>\n",
    "3. Create a description document<br>\n",
    "4. Submit the ingestion request<br>\n",
    "5. Track progress\n",
    "\n",
    "#### Install Requirements:\n",
    "\n",
    "This notebook uses S3 as the location for staging the servable. Therefore, we require AWS credentials for boto3 to push data to S3. If you haven't already, you will need to pip install awscli and run \"aws configure\".\n",
    "\n",
    "\n",
    "awscli --> pip install awscli<<br>\n",
    "boto3 --> pip install boto3<br/>\n",
    "requests --> pip install requests<br/>\n",
    "pandas --> pip install pandas<br/>\n",
    "mdf_toolbox --> pip install mdf_toolbox<br/>\n",
    "dlhub_client --> pip install dlhub_client<br/>"
   ]
  },
  {
   "cell_type": "code",
   "execution_count": 1,
   "metadata": {},
   "outputs": [],
   "source": [
    "import time\n",
    "from dlhub_client import client\n",
    "from ingest import upload_directory, ingest_metadata, ingest_to_search, check_status"
   ]
  },
  {
   "cell_type": "markdown",
   "metadata": {},
   "source": [
    "### Step 1. Define a name and specify model location"
   ]
  },
  {
   "cell_type": "code",
   "execution_count": 2,
   "metadata": {
    "collapsed": true
   },
   "outputs": [],
   "source": [
    "# Specify the local path to the model. E.g. \"parsl-containers/cifar10\"\n",
    "servable_path = \"/home/ryan/Documents/Argonne/DLHub/dlhub_container/parsl-containers/cifar10\" \n",
    "\n",
    "# Give the model a name. E.g. \"my_cifar10\"\n",
    "servable_name = \"ryan_cifar10\" "
   ]
  },
  {
   "cell_type": "markdown",
   "metadata": {},
   "source": [
    "### Step 2. Stage the local model to S3\n",
    "\n",
    "To ingest the model DLHub needs to be able to download and containerize it. This step puts the model in an accessible S3 bucket."
   ]
  },
  {
   "cell_type": "code",
   "execution_count": 3,
   "metadata": {},
   "outputs": [
    {
     "name": "stdout",
     "output_type": "stream",
     "text": [
      "Uploading to s3: \n",
      "\n",
      "Uploading: /home/ryan/Documents/Argonne/DLHub/dlhub_container/parsl-containers/cifar10/dlhub_shim.py\n",
      "Uploading: /home/ryan/Documents/Argonne/DLHub/dlhub_container/parsl-containers/cifar10/requirements.txt\n",
      "Uploading: /home/ryan/Documents/Argonne/DLHub/dlhub_container/parsl-containers/cifar10/__init__.py\n",
      "Uploading: /home/ryan/Documents/Argonne/DLHub/dlhub_container/parsl-containers/cifar10/application.py\n",
      "Uploading: /home/ryan/Documents/Argonne/DLHub/dlhub_container/parsl-containers/cifar10/Dockerfile\n",
      "Uploading: /home/ryan/Documents/Argonne/DLHub/dlhub_container/parsl-containers/cifar10/data/x_test.npy\n",
      "Uploading: /home/ryan/Documents/Argonne/DLHub/dlhub_container/parsl-containers/cifar10/data/y_test.npy\n",
      "Uploading: /home/ryan/Documents/Argonne/DLHub/dlhub_container/parsl-containers/cifar10/model/cifar10vgg.h5\n",
      "\n",
      "Uploaded to: s3://dlhub-anl/servables/7ce91677-9e99-43ad-a73e-09600f68ab2f\n"
     ]
    }
   ],
   "source": [
    "staged_location = upload_directory(servable_path)\n",
    "print(\"\\nUploaded to: {}\".format(staged_location))"
   ]
  },
  {
   "cell_type": "markdown",
   "metadata": {},
   "source": [
    "### Step 3. Construct a description file to initiate the ingestion\n",
    "\n",
    "DLHub's ingestion pipeline requires a description file. The description file specifies details about the author and model. For example, it must specify the entry point to invoke the model and can optionally specify the input and output shapes."
   ]
  },
  {
   "cell_type": "markdown",
   "metadata": {},
   "source": [
    "Specify datacite information"
   ]
  },
  {
   "cell_type": "code",
   "execution_count": 4,
   "metadata": {},
   "outputs": [],
   "source": [
    "datacite_def = {\n",
    "      \"title\": servable_name,\n",
    "      \"creators\":[\n",
    "          \"Chard, Ryan\"\n",
    "      ],\n",
    "      \"resourceType\": \"Dataset\",\n",
    "      \"publicationYear\": 2018,\n",
    "      \"publisher\": \"DLHub\",\n",
    "      \"description\": \"A test Cifar10 model\",\n",
    "      \"associatedPublications\":[\n",
    "         \"\"\n",
    "      ],\n",
    "      \"license\":\"https://www.gnu.org/licenses/gpl-3.0.en.html\"\n",
    "}"
   ]
  },
  {
   "cell_type": "markdown",
   "metadata": {},
   "source": [
    "Specify servable information"
   ]
  },
  {
   "cell_type": "code",
   "execution_count": 5,
   "metadata": {},
   "outputs": [],
   "source": [
    "servable_def = {\n",
    "      \"name\": servable_name,\n",
    "      \"location\": staged_location,\n",
    "      \"type\": \"model\",\n",
    "      \"model_type\": \"CNN\",\n",
    "      \"ml_model\": \"keras\",\n",
    "      \"language\": \"python\",\n",
    "      \"run\":{\n",
    "         \"handler\": \"application.run\",\n",
    "         \"input\":{\n",
    "            \"shape\": \"(, 32, 32, 3)\",\n",
    "            \"description\": \"List of cifar images\",\n",
    "            \"type\": \"list\"\n",
    "         },\n",
    "         \"output\":{\n",
    "            \"shape\": \"(, 10)\",\n",
    "            \"description\": \"List of dictionaries with most likely class first for each image\",\n",
    "            \"type\": \"classification\"\n",
    "         }\n",
    "      }\n",
    "}"
   ]
  },
  {
   "cell_type": "markdown",
   "metadata": {},
   "source": [
    "Append some metadata"
   ]
  },
  {
   "cell_type": "code",
   "execution_count": 6,
   "metadata": {
    "collapsed": true
   },
   "outputs": [],
   "source": [
    "meta_def = {\n",
    "      \"version\": \"0.1\",\n",
    "      \"domain\": \"image recognition\",\n",
    "      \"tags\": ['test', 'cifar10'],\n",
    "      \"visible_to\": \"public\"\n",
    "}"
   ]
  },
  {
   "cell_type": "markdown",
   "metadata": {},
   "source": [
    "Create the entire description document."
   ]
  },
  {
   "cell_type": "code",
   "execution_count": 7,
   "metadata": {},
   "outputs": [],
   "source": [
    "definition = {\n",
    "   \"datacite\": datacite_def,\n",
    "   \"dlhub\": meta_def,\n",
    "   \"servable\": servable_def\n",
    "}\n"
   ]
  },
  {
   "cell_type": "markdown",
   "metadata": {},
   "source": [
    "### Step 4. Ingest Metadata to DLHub Servables\n",
    "\n",
    "Send the definition file to DLHub to initiate the ingestion."
   ]
  },
  {
   "cell_type": "code",
   "execution_count": 8,
   "metadata": {},
   "outputs": [
    {
     "name": "stdout",
     "output_type": "stream",
     "text": [
      "Running Ingestion to DLHub Servables\n",
      "{'status': 'RUNNING', 'task_id': 'c001bc01-1c0a-4433-8564-54a6119daba2'}\n"
     ]
    }
   ],
   "source": [
    "result = ingest_metadata(definition)\n",
    "print(result)"
   ]
  },
  {
   "cell_type": "markdown",
   "metadata": {},
   "source": [
    "### Step 5. Check the status of the ingestion\n",
    "\n",
    "Query DLHub's status endpoint to check the task status"
   ]
  },
  {
   "cell_type": "code",
   "execution_count": 9,
   "metadata": {},
   "outputs": [
    {
     "name": "stdout",
     "output_type": "stream",
     "text": [
      "RUNNING\n",
      "RUNNING\n",
      "RUNNING\n",
      "RUNNING\n",
      "RUNNING\n",
      "RUNNING\n",
      "RUNNING\n",
      "RUNNING\n",
      "RUNNING\n",
      "RUNNING\n",
      "RUNNING\n",
      "RUNNING\n",
      "RUNNING\n",
      "RUNNING\n",
      "SUCCEEDED\n"
     ]
    }
   ],
   "source": [
    "for x in range(0,100):\n",
    "    res = check_status(result['task_id'])\n",
    "    print(res['status'])\n",
    "    if res['status'] == \"SUCCEEDED\":\n",
    "        break\n",
    "    time.sleep(10)"
   ]
  },
  {
   "cell_type": "markdown",
   "metadata": {},
   "source": [
    "### Step 6. Check the new servable is there\n",
    "\n",
    "List models available in DLHub and ensure your model is there."
   ]
  },
  {
   "cell_type": "code",
   "execution_count": 10,
   "metadata": {},
   "outputs": [
    {
     "data": {
      "text/html": [
       "<div>\n",
       "<style scoped>\n",
       "    .dataframe tbody tr th:only-of-type {\n",
       "        vertical-align: middle;\n",
       "    }\n",
       "\n",
       "    .dataframe tbody tr th {\n",
       "        vertical-align: top;\n",
       "    }\n",
       "\n",
       "    .dataframe thead th {\n",
       "        text-align: right;\n",
       "    }\n",
       "</style>\n",
       "<table border=\"1\" class=\"dataframe\">\n",
       "  <thead>\n",
       "    <tr style=\"text-align: right;\">\n",
       "      <th></th>\n",
       "      <th>uuid</th>\n",
       "      <th>name</th>\n",
       "    </tr>\n",
       "  </thead>\n",
       "  <tbody>\n",
       "    <tr>\n",
       "      <th>0</th>\n",
       "      <td>1117ac20-3f54-11e8-b467-0ed5f89f718b</td>\n",
       "      <td>oqmd_model</td>\n",
       "    </tr>\n",
       "    <tr>\n",
       "      <th>1</th>\n",
       "      <td>9ff7a98c-3f54-11e8-b467-0ed5f89f718b</td>\n",
       "      <td>matminer_featurize</td>\n",
       "    </tr>\n",
       "    <tr>\n",
       "      <th>2</th>\n",
       "      <td>d5a1653c-3ec5-4947-8c5a-28f6554ec339</td>\n",
       "      <td>matminer_util</td>\n",
       "    </tr>\n",
       "    <tr>\n",
       "      <th>3</th>\n",
       "      <td>9553d6a2-6a8d-4cda-8b81-7f38efab67e7</td>\n",
       "      <td>formation_energy</td>\n",
       "    </tr>\n",
       "    <tr>\n",
       "      <th>4</th>\n",
       "      <td>78d08664-5d52-44a0-b2c8-47cf702b2e39</td>\n",
       "      <td>DLSCORE</td>\n",
       "    </tr>\n",
       "    <tr>\n",
       "      <th>5</th>\n",
       "      <td>8c78939e-6422-4627-80ea-03ed8bfdf6ea</td>\n",
       "      <td>metallic_glass</td>\n",
       "    </tr>\n",
       "    <tr>\n",
       "      <th>6</th>\n",
       "      <td>e127fb16-5852-11e8-9c2d-fa7ae01bbebc</td>\n",
       "      <td>yager_xrd_classifier</td>\n",
       "    </tr>\n",
       "    <tr>\n",
       "      <th>7</th>\n",
       "      <td>1f6376f8-8b02-4424-a3db-f8f99323c17f</td>\n",
       "      <td>DSIR</td>\n",
       "    </tr>\n",
       "    <tr>\n",
       "      <th>8</th>\n",
       "      <td>5f01fd6e-f84d-4ee5-b25e-c2699a06a6e1</td>\n",
       "      <td>deep_smiles</td>\n",
       "    </tr>\n",
       "    <tr>\n",
       "      <th>9</th>\n",
       "      <td>1f63953e-75c7-4559-ba55-4acd3cff4f94</td>\n",
       "      <td>noop</td>\n",
       "    </tr>\n",
       "    <tr>\n",
       "      <th>10</th>\n",
       "      <td>849c1d66-4417-4a59-a898-c8a005f18692</td>\n",
       "      <td>cifar10</td>\n",
       "    </tr>\n",
       "    <tr>\n",
       "      <th>11</th>\n",
       "      <td>b4b94883-6cfe-4098-82a9-9e4b73f016f8</td>\n",
       "      <td>SchNet</td>\n",
       "    </tr>\n",
       "    <tr>\n",
       "      <th>12</th>\n",
       "      <td>31f9288a-82c1-442a-8668-56cdb051ea17</td>\n",
       "      <td>ryan_cifar10</td>\n",
       "    </tr>\n",
       "    <tr>\n",
       "      <th>13</th>\n",
       "      <td>d802d163-57c5-4cff-9289-ff544668e57a</td>\n",
       "      <td>ryan_cifar10</td>\n",
       "    </tr>\n",
       "    <tr>\n",
       "      <th>14</th>\n",
       "      <td>e4a740c6-cc36-4ebb-ab1e-85ee0face639</td>\n",
       "      <td>ryan_cifar10</td>\n",
       "    </tr>\n",
       "  </tbody>\n",
       "</table>\n",
       "</div>"
      ],
      "text/plain": [
       "                                    uuid                  name\n",
       "0   1117ac20-3f54-11e8-b467-0ed5f89f718b            oqmd_model\n",
       "1   9ff7a98c-3f54-11e8-b467-0ed5f89f718b    matminer_featurize\n",
       "2   d5a1653c-3ec5-4947-8c5a-28f6554ec339         matminer_util\n",
       "3   9553d6a2-6a8d-4cda-8b81-7f38efab67e7      formation_energy\n",
       "4   78d08664-5d52-44a0-b2c8-47cf702b2e39               DLSCORE\n",
       "5   8c78939e-6422-4627-80ea-03ed8bfdf6ea        metallic_glass\n",
       "6   e127fb16-5852-11e8-9c2d-fa7ae01bbebc  yager_xrd_classifier\n",
       "7   1f6376f8-8b02-4424-a3db-f8f99323c17f                  DSIR\n",
       "8   5f01fd6e-f84d-4ee5-b25e-c2699a06a6e1           deep_smiles\n",
       "9   1f63953e-75c7-4559-ba55-4acd3cff4f94                  noop\n",
       "10  849c1d66-4417-4a59-a898-c8a005f18692               cifar10\n",
       "11  b4b94883-6cfe-4098-82a9-9e4b73f016f8                SchNet\n",
       "12  31f9288a-82c1-442a-8668-56cdb051ea17          ryan_cifar10\n",
       "13  d802d163-57c5-4cff-9289-ff544668e57a          ryan_cifar10\n",
       "14  e4a740c6-cc36-4ebb-ab1e-85ee0face639          ryan_cifar10"
      ]
     },
     "execution_count": 10,
     "metadata": {},
     "output_type": "execute_result"
    }
   ],
   "source": [
    "dl = client.DLHub()\n",
    "servs = dl.get_servables()\n",
    "servs[['uuid', 'name']]"
   ]
  },
  {
   "cell_type": "markdown",
   "metadata": {},
   "source": [
    "### Ingest Metadata to Globus Search"
   ]
  },
  {
   "cell_type": "code",
   "execution_count": 11,
   "metadata": {
    "collapsed": true
   },
   "outputs": [],
   "source": [
    "#ingest_to_search(model_name, meta_path, idx=index)"
   ]
  }
 ],
 "metadata": {
  "kernelspec": {
   "display_name": "Python 3 (dlhub)",
   "language": "python",
   "name": "dlhub"
  },
  "language_info": {
   "codemirror_mode": {
    "name": "ipython",
    "version": 3
   },
   "file_extension": ".py",
   "mimetype": "text/x-python",
   "name": "python",
   "nbconvert_exporter": "python",
   "pygments_lexer": "ipython3",
   "version": "3.6.4"
  }
 },
 "nbformat": 4,
 "nbformat_minor": 2
}
