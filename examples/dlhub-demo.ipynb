{
 "cells": [
  {
   "cell_type": "markdown",
   "metadata": {},
   "source": [
    "# DLHub\n",
    "\n",
    "DLHub is a self-service platform for publishing, applying, and creating new ML/DL models. DLHub will provide: 1) publication capabilities to make models more discoverable, citable, and reusable; 2) the ability to easily run or test existing models; and 3) links to the data and computing infrastructure to re-train models for new applications. Users will benefit from DLHub in many ways. Data scientists can publish their models (i.e., architectures and weights) and methods. Materials scientists can apply existing models to new data with ease (e.g., by querying a prediction API for a deployed mode) and create new models with state-of-the-art techniques. Together, these capabilities will lower barriers to employing ML/DL, making it easier for researchers to benefit from advances in ML/DL technologies. \n",
    "\n",
    "## This notebook\n",
    "This notebook showcases two DLHub use cases, the use of the OQDM pipeline and the use of a BNL model. The OQMD pipeline extracts data from the Materials Data Facility before passing it through three servables on DLHub to transform the input data and perform a prediction. The BNL model uses Globus Auth to pull data from Petrel and generate tags for the data."
   ]
  },
  {
   "cell_type": "markdown",
   "metadata": {},
   "source": [
    "## OQMD\n",
    "\n",
    "\n",
    "Predict XXX with the OQMD pipeline -- this uses a util and featurize transformation before performing the prediction. Data is pulled from the Materials Data Facility and piped through three DLHub servables.\n",
    "\n",
    "*** Add Diagram\n"
   ]
  },
  {
   "cell_type": "code",
   "execution_count": 30,
   "metadata": {},
   "outputs": [],
   "source": [
    "import sys\n",
    "import os\n",
    "import json\n",
    "import requests\n",
    "import matplotlib\n",
    "import globus_sdk\n",
    "import numpy as np\n",
    "import pandas as pd\n",
    "import matplotlib.pyplot as plt\n",
    "%matplotlib inline\n",
    "\n",
    "## MDF and DLHub imports\n",
    "from mdf_forge.forge import Forge\n",
    "import mdf_toolbox\n",
    "from dlhub_client import *"
   ]
  },
  {
   "cell_type": "code",
   "execution_count": 31,
   "metadata": {},
   "outputs": [],
   "source": [
    "mdf = Forge()\n",
    "dl = DLHub()\n",
    "creds = mdf_toolbox.login(app_name=\"DLHub\", services=[\"petrel\", \"data_mdf\"])"
   ]
  },
  {
   "cell_type": "markdown",
   "metadata": {},
   "source": [
    "# Get data from MDF\n",
    "\n",
    "Search MDF for compositions containing Al and Cu that can be used with the OQMD model."
   ]
  },
  {
   "cell_type": "code",
   "execution_count": 32,
   "metadata": {},
   "outputs": [
    {
     "data": {
      "text/html": [
       "<div>\n",
       "<style scoped>\n",
       "    .dataframe tbody tr th:only-of-type {\n",
       "        vertical-align: middle;\n",
       "    }\n",
       "\n",
       "    .dataframe tbody tr th {\n",
       "        vertical-align: top;\n",
       "    }\n",
       "\n",
       "    .dataframe thead th {\n",
       "        text-align: right;\n",
       "    }\n",
       "</style>\n",
       "<table border=\"1\" class=\"dataframe\">\n",
       "  <thead>\n",
       "    <tr style=\"text-align: right;\">\n",
       "      <th></th>\n",
       "      <th>composition</th>\n",
       "    </tr>\n",
       "  </thead>\n",
       "  <tbody>\n",
       "    <tr>\n",
       "      <th>0</th>\n",
       "      <td>Al2Cu1</td>\n",
       "    </tr>\n",
       "    <tr>\n",
       "      <th>1</th>\n",
       "      <td>Al2Cu1</td>\n",
       "    </tr>\n",
       "    <tr>\n",
       "      <th>2</th>\n",
       "      <td>Al1Cu1</td>\n",
       "    </tr>\n",
       "    <tr>\n",
       "      <th>3</th>\n",
       "      <td>Al1Cu4</td>\n",
       "    </tr>\n",
       "    <tr>\n",
       "      <th>4</th>\n",
       "      <td>Al1Cu4</td>\n",
       "    </tr>\n",
       "  </tbody>\n",
       "</table>\n",
       "</div>"
      ],
      "text/plain": [
       "  composition\n",
       "0      Al2Cu1\n",
       "1      Al2Cu1\n",
       "2      Al1Cu1\n",
       "3      Al1Cu4\n",
       "4      Al1Cu4"
      ]
     },
     "execution_count": 32,
     "metadata": {},
     "output_type": "execute_result"
    }
   ],
   "source": [
    "results = mdf.search_by_elements(elements=[\"Al\",\"Cu\"], \n",
    "                                 source_names=[\"oqmd\"], \n",
    "                                 limit=10)\n",
    "compositions = []\n",
    "for res in results:\n",
    "    compositions.append({\"composition\": res['material']['composition']})\n",
    "df = pd.DataFrame(compositions)\n",
    "df.head()"
   ]
  },
  {
   "cell_type": "markdown",
   "metadata": {},
   "source": [
    "## Query DLHub to find models and transformation servables"
   ]
  },
  {
   "cell_type": "code",
   "execution_count": 33,
   "metadata": {},
   "outputs": [
    {
     "data": {
      "text/html": [
       "<div>\n",
       "<style scoped>\n",
       "    .dataframe tbody tr th:only-of-type {\n",
       "        vertical-align: middle;\n",
       "    }\n",
       "\n",
       "    .dataframe tbody tr th {\n",
       "        vertical-align: top;\n",
       "    }\n",
       "\n",
       "    .dataframe thead th {\n",
       "        text-align: right;\n",
       "    }\n",
       "</style>\n",
       "<table border=\"1\" class=\"dataframe\">\n",
       "  <thead>\n",
       "    <tr style=\"text-align: right;\">\n",
       "      <th></th>\n",
       "      <th>uuid</th>\n",
       "      <th>name</th>\n",
       "    </tr>\n",
       "  </thead>\n",
       "  <tbody>\n",
       "    <tr>\n",
       "      <th>0</th>\n",
       "      <td>1117ac20-3f54-11e8-b467-0ed5f89f718b</td>\n",
       "      <td>oqmd_model</td>\n",
       "    </tr>\n",
       "    <tr>\n",
       "      <th>1</th>\n",
       "      <td>9ff7a98c-3f54-11e8-b467-0ed5f89f718b</td>\n",
       "      <td>matminer_featurize</td>\n",
       "    </tr>\n",
       "    <tr>\n",
       "      <th>2</th>\n",
       "      <td>e127fb16-5852-11e8-9c2d-fa7ae01bbebc</td>\n",
       "      <td>resnet</td>\n",
       "    </tr>\n",
       "    <tr>\n",
       "      <th>3</th>\n",
       "      <td>d5a1653c-3ec5-4947-8c5a-28f6554ec339</td>\n",
       "      <td>matminer_util</td>\n",
       "    </tr>\n",
       "    <tr>\n",
       "      <th>4</th>\n",
       "      <td>9553d6a2-6a8d-4cda-8b81-7f38efab67e7</td>\n",
       "      <td>formation_energy</td>\n",
       "    </tr>\n",
       "    <tr>\n",
       "      <th>5</th>\n",
       "      <td>8c78939e-6422-4627-80ea-03ed8bfdf6ea</td>\n",
       "      <td>bmg</td>\n",
       "    </tr>\n",
       "  </tbody>\n",
       "</table>\n",
       "</div>"
      ],
      "text/plain": [
       "                                   uuid                name\n",
       "0  1117ac20-3f54-11e8-b467-0ed5f89f718b          oqmd_model\n",
       "1  9ff7a98c-3f54-11e8-b467-0ed5f89f718b  matminer_featurize\n",
       "2  e127fb16-5852-11e8-9c2d-fa7ae01bbebc              resnet\n",
       "3  d5a1653c-3ec5-4947-8c5a-28f6554ec339       matminer_util\n",
       "4  9553d6a2-6a8d-4cda-8b81-7f38efab67e7    formation_energy\n",
       "5  8c78939e-6422-4627-80ea-03ed8bfdf6ea                 bmg"
      ]
     },
     "execution_count": 33,
     "metadata": {},
     "output_type": "execute_result"
    }
   ],
   "source": [
    "df_serv = dl.get_servables()\n",
    "df_serv[['uuid','name']]"
   ]
  },
  {
   "cell_type": "markdown",
   "metadata": {},
   "source": [
    "## Invoke the Matminer util servable to transform the compositions"
   ]
  },
  {
   "cell_type": "code",
   "execution_count": 34,
   "metadata": {},
   "outputs": [
    {
     "data": {
      "application/vnd.jupyter.widget-view+json": {
       "model_id": "839ee7670005447999024d7a6db836a7",
       "version_major": 2,
       "version_minor": 0
      },
      "text/plain": [
       "VBox(children=(HTML(value=''), IntProgress(value=0, max=10)))"
      ]
     },
     "metadata": {},
     "output_type": "display_data"
    },
    {
     "data": {
      "text/html": [
       "<div>\n",
       "<style scoped>\n",
       "    .dataframe tbody tr th:only-of-type {\n",
       "        vertical-align: middle;\n",
       "    }\n",
       "\n",
       "    .dataframe tbody tr th {\n",
       "        vertical-align: top;\n",
       "    }\n",
       "\n",
       "    .dataframe thead th {\n",
       "        text-align: right;\n",
       "    }\n",
       "</style>\n",
       "<table border=\"1\" class=\"dataframe\">\n",
       "  <thead>\n",
       "    <tr style=\"text-align: right;\">\n",
       "      <th></th>\n",
       "      <th>composition</th>\n",
       "      <th>composition_object</th>\n",
       "    </tr>\n",
       "  </thead>\n",
       "  <tbody>\n",
       "    <tr>\n",
       "      <th>0</th>\n",
       "      <td>Al2Cu1</td>\n",
       "      <td>gANjcHltYXRnZW4uY29yZS5jb21wb3NpdGlvbgpDb21wb3...</td>\n",
       "    </tr>\n",
       "    <tr>\n",
       "      <th>1</th>\n",
       "      <td>Al2Cu1</td>\n",
       "      <td>gANjcHltYXRnZW4uY29yZS5jb21wb3NpdGlvbgpDb21wb3...</td>\n",
       "    </tr>\n",
       "    <tr>\n",
       "      <th>2</th>\n",
       "      <td>Al1Cu1</td>\n",
       "      <td>gANjcHltYXRnZW4uY29yZS5jb21wb3NpdGlvbgpDb21wb3...</td>\n",
       "    </tr>\n",
       "    <tr>\n",
       "      <th>3</th>\n",
       "      <td>Al1Cu4</td>\n",
       "      <td>gANjcHltYXRnZW4uY29yZS5jb21wb3NpdGlvbgpDb21wb3...</td>\n",
       "    </tr>\n",
       "    <tr>\n",
       "      <th>4</th>\n",
       "      <td>Al1Cu4</td>\n",
       "      <td>gANjcHltYXRnZW4uY29yZS5jb21wb3NpdGlvbgpDb21wb3...</td>\n",
       "    </tr>\n",
       "  </tbody>\n",
       "</table>\n",
       "</div>"
      ],
      "text/plain": [
       "  composition                                 composition_object\n",
       "0      Al2Cu1  gANjcHltYXRnZW4uY29yZS5jb21wb3NpdGlvbgpDb21wb3...\n",
       "1      Al2Cu1  gANjcHltYXRnZW4uY29yZS5jb21wb3NpdGlvbgpDb21wb3...\n",
       "2      Al1Cu1  gANjcHltYXRnZW4uY29yZS5jb21wb3NpdGlvbgpDb21wb3...\n",
       "3      Al1Cu4  gANjcHltYXRnZW4uY29yZS5jb21wb3NpdGlvbgpDb21wb3...\n",
       "4      Al1Cu4  gANjcHltYXRnZW4uY29yZS5jb21wb3NpdGlvbgpDb21wb3..."
      ]
     },
     "execution_count": 34,
     "metadata": {},
     "output_type": "execute_result"
    }
   ],
   "source": [
    "servable_name = \"matminer_util\"\n",
    "servable_id = dl.get_id_by_name(servable_name)\n",
    "\n",
    "comps = []\n",
    "for i, row in log_progress(df.iterrows(), every=1, size=len(df)):\n",
    "    data = {\"data\":[{\"composition\":row['composition']}]}\n",
    "    res = dl.infer(servable_id, data)\n",
    "    comps.append(res['composition_object'][0])\n",
    "df['composition_object'] = comps\n",
    "df.head()"
   ]
  },
  {
   "cell_type": "markdown",
   "metadata": {},
   "source": [
    "## Use the featurizer to transform the compositions"
   ]
  },
  {
   "cell_type": "code",
   "execution_count": 35,
   "metadata": {},
   "outputs": [
    {
     "data": {
      "application/vnd.jupyter.widget-view+json": {
       "model_id": "1e60857e0f7f4b949ebd91b382cafff5",
       "version_major": 2,
       "version_minor": 0
      },
      "text/plain": [
       "VBox(children=(HTML(value=''), IntProgress(value=0, max=10)))"
      ]
     },
     "metadata": {},
     "output_type": "display_data"
    },
    {
     "data": {
      "text/html": [
       "<div>\n",
       "<style scoped>\n",
       "    .dataframe tbody tr th:only-of-type {\n",
       "        vertical-align: middle;\n",
       "    }\n",
       "\n",
       "    .dataframe tbody tr th {\n",
       "        vertical-align: top;\n",
       "    }\n",
       "\n",
       "    .dataframe thead th {\n",
       "        text-align: right;\n",
       "    }\n",
       "</style>\n",
       "<table border=\"1\" class=\"dataframe\">\n",
       "  <thead>\n",
       "    <tr style=\"text-align: right;\">\n",
       "      <th></th>\n",
       "      <th>composition</th>\n",
       "      <th>composition_object</th>\n",
       "      <th>features</th>\n",
       "    </tr>\n",
       "  </thead>\n",
       "  <tbody>\n",
       "    <tr>\n",
       "      <th>0</th>\n",
       "      <td>Al2Cu1</td>\n",
       "      <td>gANjcHltYXRnZW4uY29yZS5jb21wb3NpdGlvbgpDb21wb3...</td>\n",
       "      <td>[13.0, 29.0, 16.0, 18.333333333333332, 7.11111...</td>\n",
       "    </tr>\n",
       "    <tr>\n",
       "      <th>1</th>\n",
       "      <td>Al2Cu1</td>\n",
       "      <td>gANjcHltYXRnZW4uY29yZS5jb21wb3NpdGlvbgpDb21wb3...</td>\n",
       "      <td>[13.0, 29.0, 16.0, 18.333333333333332, 7.11111...</td>\n",
       "    </tr>\n",
       "    <tr>\n",
       "      <th>2</th>\n",
       "      <td>Al1Cu1</td>\n",
       "      <td>gANjcHltYXRnZW4uY29yZS5jb21wb3NpdGlvbgpDb21wb3...</td>\n",
       "      <td>[13.0, 29.0, 16.0, 21.0, 8.0, 13.0, 64.0, 73.0...</td>\n",
       "    </tr>\n",
       "    <tr>\n",
       "      <th>3</th>\n",
       "      <td>Al1Cu4</td>\n",
       "      <td>gANjcHltYXRnZW4uY29yZS5jb21wb3NpdGlvbgpDb21wb3...</td>\n",
       "      <td>[13.0, 29.0, 16.0, 25.8, 5.119999999999999, 29...</td>\n",
       "    </tr>\n",
       "    <tr>\n",
       "      <th>4</th>\n",
       "      <td>Al1Cu4</td>\n",
       "      <td>gANjcHltYXRnZW4uY29yZS5jb21wb3NpdGlvbgpDb21wb3...</td>\n",
       "      <td>[13.0, 29.0, 16.0, 25.8, 5.119999999999999, 29...</td>\n",
       "    </tr>\n",
       "  </tbody>\n",
       "</table>\n",
       "</div>"
      ],
      "text/plain": [
       "  composition                                 composition_object  \\\n",
       "0      Al2Cu1  gANjcHltYXRnZW4uY29yZS5jb21wb3NpdGlvbgpDb21wb3...   \n",
       "1      Al2Cu1  gANjcHltYXRnZW4uY29yZS5jb21wb3NpdGlvbgpDb21wb3...   \n",
       "2      Al1Cu1  gANjcHltYXRnZW4uY29yZS5jb21wb3NpdGlvbgpDb21wb3...   \n",
       "3      Al1Cu4  gANjcHltYXRnZW4uY29yZS5jb21wb3NpdGlvbgpDb21wb3...   \n",
       "4      Al1Cu4  gANjcHltYXRnZW4uY29yZS5jb21wb3NpdGlvbgpDb21wb3...   \n",
       "\n",
       "                                            features  \n",
       "0  [13.0, 29.0, 16.0, 18.333333333333332, 7.11111...  \n",
       "1  [13.0, 29.0, 16.0, 18.333333333333332, 7.11111...  \n",
       "2  [13.0, 29.0, 16.0, 21.0, 8.0, 13.0, 64.0, 73.0...  \n",
       "3  [13.0, 29.0, 16.0, 25.8, 5.119999999999999, 29...  \n",
       "4  [13.0, 29.0, 16.0, 25.8, 5.119999999999999, 29...  "
      ]
     },
     "execution_count": 35,
     "metadata": {},
     "output_type": "execute_result"
    }
   ],
   "source": [
    "servable_name = \"matminer_featurize\"\n",
    "servable_id = dl.get_id_by_name(servable_name)\n",
    "features = [] \n",
    "\n",
    "for i, row in log_progress(df.iterrows(), every=1, size=len(df)):\n",
    "    data = {\"data\":[{\"composition_object\":row['composition_object']}]}\n",
    "    res = dl.infer(servable_id, data)\n",
    "    features.append(res['features'][0])\n",
    "\n",
    "df['features'] = features\n",
    "df.head()"
   ]
  },
  {
   "cell_type": "code",
   "execution_count": 36,
   "metadata": {},
   "outputs": [
    {
     "name": "stdout",
     "output_type": "stream",
     "text": [
      "10\n"
     ]
    }
   ],
   "source": [
    "print (len(df))"
   ]
  },
  {
   "cell_type": "markdown",
   "metadata": {},
   "source": [
    "## Perform a prediction against the featurized values"
   ]
  },
  {
   "cell_type": "code",
   "execution_count": 37,
   "metadata": {},
   "outputs": [
    {
     "data": {
      "application/vnd.jupyter.widget-view+json": {
       "model_id": "e5178b5b53a44cafbe58b06b1219a348",
       "version_major": 2,
       "version_minor": 0
      },
      "text/plain": [
       "VBox(children=(HTML(value=''), IntProgress(value=0, max=10)))"
      ]
     },
     "metadata": {},
     "output_type": "display_data"
    },
    {
     "data": {
      "text/html": [
       "<div>\n",
       "<style scoped>\n",
       "    .dataframe tbody tr th:only-of-type {\n",
       "        vertical-align: middle;\n",
       "    }\n",
       "\n",
       "    .dataframe tbody tr th {\n",
       "        vertical-align: top;\n",
       "    }\n",
       "\n",
       "    .dataframe thead th {\n",
       "        text-align: right;\n",
       "    }\n",
       "</style>\n",
       "<table border=\"1\" class=\"dataframe\">\n",
       "  <thead>\n",
       "    <tr style=\"text-align: right;\">\n",
       "      <th></th>\n",
       "      <th>composition</th>\n",
       "      <th>composition_object</th>\n",
       "      <th>features</th>\n",
       "      <th>prediction</th>\n",
       "    </tr>\n",
       "  </thead>\n",
       "  <tbody>\n",
       "    <tr>\n",
       "      <th>0</th>\n",
       "      <td>Al2Cu1</td>\n",
       "      <td>gANjcHltYXRnZW4uY29yZS5jb21wb3NpdGlvbgpDb21wb3...</td>\n",
       "      <td>[13.0, 29.0, 16.0, 18.333333333333332, 7.11111...</td>\n",
       "      <td>-0.221089</td>\n",
       "    </tr>\n",
       "    <tr>\n",
       "      <th>1</th>\n",
       "      <td>Al2Cu1</td>\n",
       "      <td>gANjcHltYXRnZW4uY29yZS5jb21wb3NpdGlvbgpDb21wb3...</td>\n",
       "      <td>[13.0, 29.0, 16.0, 18.333333333333332, 7.11111...</td>\n",
       "      <td>-0.221089</td>\n",
       "    </tr>\n",
       "    <tr>\n",
       "      <th>2</th>\n",
       "      <td>Al1Cu1</td>\n",
       "      <td>gANjcHltYXRnZW4uY29yZS5jb21wb3NpdGlvbgpDb21wb3...</td>\n",
       "      <td>[13.0, 29.0, 16.0, 21.0, 8.0, 13.0, 64.0, 73.0...</td>\n",
       "      <td>-0.179726</td>\n",
       "    </tr>\n",
       "    <tr>\n",
       "      <th>3</th>\n",
       "      <td>Al1Cu4</td>\n",
       "      <td>gANjcHltYXRnZW4uY29yZS5jb21wb3NpdGlvbgpDb21wb3...</td>\n",
       "      <td>[13.0, 29.0, 16.0, 25.8, 5.119999999999999, 29...</td>\n",
       "      <td>-0.183846</td>\n",
       "    </tr>\n",
       "    <tr>\n",
       "      <th>4</th>\n",
       "      <td>Al1Cu4</td>\n",
       "      <td>gANjcHltYXRnZW4uY29yZS5jb21wb3NpdGlvbgpDb21wb3...</td>\n",
       "      <td>[13.0, 29.0, 16.0, 25.8, 5.119999999999999, 29...</td>\n",
       "      <td>-0.183846</td>\n",
       "    </tr>\n",
       "  </tbody>\n",
       "</table>\n",
       "</div>"
      ],
      "text/plain": [
       "  composition                                 composition_object  \\\n",
       "0      Al2Cu1  gANjcHltYXRnZW4uY29yZS5jb21wb3NpdGlvbgpDb21wb3...   \n",
       "1      Al2Cu1  gANjcHltYXRnZW4uY29yZS5jb21wb3NpdGlvbgpDb21wb3...   \n",
       "2      Al1Cu1  gANjcHltYXRnZW4uY29yZS5jb21wb3NpdGlvbgpDb21wb3...   \n",
       "3      Al1Cu4  gANjcHltYXRnZW4uY29yZS5jb21wb3NpdGlvbgpDb21wb3...   \n",
       "4      Al1Cu4  gANjcHltYXRnZW4uY29yZS5jb21wb3NpdGlvbgpDb21wb3...   \n",
       "\n",
       "                                            features  prediction  \n",
       "0  [13.0, 29.0, 16.0, 18.333333333333332, 7.11111...   -0.221089  \n",
       "1  [13.0, 29.0, 16.0, 18.333333333333332, 7.11111...   -0.221089  \n",
       "2  [13.0, 29.0, 16.0, 21.0, 8.0, 13.0, 64.0, 73.0...   -0.179726  \n",
       "3  [13.0, 29.0, 16.0, 25.8, 5.119999999999999, 29...   -0.183846  \n",
       "4  [13.0, 29.0, 16.0, 25.8, 5.119999999999999, 29...   -0.183846  "
      ]
     },
     "execution_count": 37,
     "metadata": {},
     "output_type": "execute_result"
    }
   ],
   "source": [
    "servable_name = \"oqmd_model\"\n",
    "servable_id = dl.get_id_by_name(servable_name)\n",
    "preds = []\n",
    "for i, row in log_progress(df.iterrows(), every=1, size=len(df)):\n",
    "    data = {\"data\":[{\"features\":row['features']}]}\n",
    "    res = dl.infer(servable_id, data)\n",
    "    preds.append(res['prediction'][0])\n",
    "df['prediction'] = preds\n",
    "df.head()"
   ]
  },
  {
   "cell_type": "markdown",
   "metadata": {},
   "source": [
    "## Visualize the result"
   ]
  },
  {
   "cell_type": "code",
   "execution_count": 38,
   "metadata": {
    "collapsed": true
   },
   "outputs": [],
   "source": [
    "# TODO -- I think Logan had a way to see what this actually meant?"
   ]
  },
  {
   "cell_type": "markdown",
   "metadata": {},
   "source": [
    "# BNL model\n",
    "\n",
    "Use Globus Auth to get a token to pull data from Petrel then pass it through the BNL model.\n",
    "\n",
    "*** Add Diagram"
   ]
  },
  {
   "cell_type": "markdown",
   "metadata": {},
   "source": [
    "## Get a list of data from Petrel"
   ]
  },
  {
   "cell_type": "code",
   "execution_count": 39,
   "metadata": {
    "collapsed": true
   },
   "outputs": [],
   "source": [
    "# TODO -- put an ls here"
   ]
  },
  {
   "cell_type": "markdown",
   "metadata": {},
   "source": [
    "## Generate a list of data to invoke against the model"
   ]
  },
  {
   "cell_type": "code",
   "execution_count": 40,
   "metadata": {},
   "outputs": [
    {
     "data": {
      "text/html": [
       "<div>\n",
       "<style scoped>\n",
       "    .dataframe tbody tr th:only-of-type {\n",
       "        vertical-align: middle;\n",
       "    }\n",
       "\n",
       "    .dataframe tbody tr th {\n",
       "        vertical-align: top;\n",
       "    }\n",
       "\n",
       "    .dataframe thead th {\n",
       "        text-align: right;\n",
       "    }\n",
       "</style>\n",
       "<table border=\"1\" class=\"dataframe\">\n",
       "  <thead>\n",
       "    <tr style=\"text-align: right;\">\n",
       "      <th></th>\n",
       "      <th>file</th>\n",
       "      <th>token</th>\n",
       "    </tr>\n",
       "  </thead>\n",
       "  <tbody>\n",
       "    <tr>\n",
       "      <th>0</th>\n",
       "      <td>https://e38ee745-6d04-11e5-ba46-22000b92c6ec.e...</td>\n",
       "      <td>Ag2mqXpeExggz1Pvx2G0xDp1Wpaq0Pxv5gW8703gvOn4gz...</td>\n",
       "    </tr>\n",
       "    <tr>\n",
       "      <th>1</th>\n",
       "      <td>https://e38ee745-6d04-11e5-ba46-22000b92c6ec.e...</td>\n",
       "      <td>Ag2mqXpeExggz1Pvx2G0xDp1Wpaq0Pxv5gW8703gvOn4gz...</td>\n",
       "    </tr>\n",
       "  </tbody>\n",
       "</table>\n",
       "</div>"
      ],
      "text/plain": [
       "                                                file  \\\n",
       "0  https://e38ee745-6d04-11e5-ba46-22000b92c6ec.e...   \n",
       "1  https://e38ee745-6d04-11e5-ba46-22000b92c6ec.e...   \n",
       "\n",
       "                                               token  \n",
       "0  Ag2mqXpeExggz1Pvx2G0xDp1Wpaq0Pxv5gW8703gvOn4gz...  \n",
       "1  Ag2mqXpeExggz1Pvx2G0xDp1Wpaq0Pxv5gW8703gvOn4gz...  "
      ]
     },
     "execution_count": 40,
     "metadata": {},
     "output_type": "execute_result"
    }
   ],
   "source": [
    "file_start = \"https://e38ee745-6d04-11e5-ba46-22000b92c6ec.e.globus.org/Yager/model/raw/01470b9d_varied_sm/0000000\"\n",
    "file_end = \".mat\"\n",
    "\n",
    "data = []\n",
    "for i in range(5, 7):\n",
    "    filename = file_start + str(i) + file_end\n",
    "    data.append({\"file\": filename, \"token\": creds['petrel'].access_token})\n",
    "df_bnl = pd.DataFrame(data)\n",
    "df_bnl.head()"
   ]
  },
  {
   "cell_type": "markdown",
   "metadata": {},
   "source": [
    "## Invoke the BNL model"
   ]
  },
  {
   "cell_type": "markdown",
   "metadata": {},
   "source": [
    "#### This can be a bit slow if the result isn't cached. We are working to optimize."
   ]
  },
  {
   "cell_type": "code",
   "execution_count": 41,
   "metadata": {},
   "outputs": [
    {
     "data": {
      "application/vnd.jupyter.widget-view+json": {
       "model_id": "5437e9e0af1f4ec4b5d6e424390be986",
       "version_major": 2,
       "version_minor": 0
      },
      "text/plain": [
       "VBox(children=(HTML(value=''), IntProgress(value=0, max=2)))"
      ]
     },
     "metadata": {},
     "output_type": "display_data"
    },
    {
     "data": {
      "text/html": [
       "<div>\n",
       "<style scoped>\n",
       "    .dataframe tbody tr th:only-of-type {\n",
       "        vertical-align: middle;\n",
       "    }\n",
       "\n",
       "    .dataframe tbody tr th {\n",
       "        vertical-align: top;\n",
       "    }\n",
       "\n",
       "    .dataframe thead th {\n",
       "        text-align: right;\n",
       "    }\n",
       "</style>\n",
       "<table border=\"1\" class=\"dataframe\">\n",
       "  <thead>\n",
       "    <tr style=\"text-align: right;\">\n",
       "      <th></th>\n",
       "      <th>file</th>\n",
       "      <th>token</th>\n",
       "      <th>prediction</th>\n",
       "    </tr>\n",
       "  </thead>\n",
       "  <tbody>\n",
       "    <tr>\n",
       "      <th>0</th>\n",
       "      <td>https://e38ee745-6d04-11e5-ba46-22000b92c6ec.e...</td>\n",
       "      <td>Ag2mqXpeExggz1Pvx2G0xDp1Wpaq0Pxv5gW8703gvOn4gz...</td>\n",
       "      <td>[1.773031362972688e-05, 0.9997794032096863, 0....</td>\n",
       "    </tr>\n",
       "    <tr>\n",
       "      <th>1</th>\n",
       "      <td>https://e38ee745-6d04-11e5-ba46-22000b92c6ec.e...</td>\n",
       "      <td>Ag2mqXpeExggz1Pvx2G0xDp1Wpaq0Pxv5gW8703gvOn4gz...</td>\n",
       "      <td>[1.7599653801880777e-05, 0.999782383441925, 0....</td>\n",
       "    </tr>\n",
       "  </tbody>\n",
       "</table>\n",
       "</div>"
      ],
      "text/plain": [
       "                                                file  \\\n",
       "0  https://e38ee745-6d04-11e5-ba46-22000b92c6ec.e...   \n",
       "1  https://e38ee745-6d04-11e5-ba46-22000b92c6ec.e...   \n",
       "\n",
       "                                               token  \\\n",
       "0  Ag2mqXpeExggz1Pvx2G0xDp1Wpaq0Pxv5gW8703gvOn4gz...   \n",
       "1  Ag2mqXpeExggz1Pvx2G0xDp1Wpaq0Pxv5gW8703gvOn4gz...   \n",
       "\n",
       "                                          prediction  \n",
       "0  [1.773031362972688e-05, 0.9997794032096863, 0....  \n",
       "1  [1.7599653801880777e-05, 0.999782383441925, 0....  "
      ]
     },
     "execution_count": 41,
     "metadata": {},
     "output_type": "execute_result"
    }
   ],
   "source": [
    "servable_name = \"resnet\"\n",
    "servable_id = dl.get_id_by_name(servable_name)\n",
    "\n",
    "preds=[]\n",
    "\n",
    "for d in log_progress(data, every=1, size=len(data)):\n",
    "    data = {\"data\":[d]}\n",
    "    res = dl.infer(servable_id, data)\n",
    "    preds.append(res[0][0])\n",
    "df_bnl['prediction'] = preds\n",
    "df_bnl.head()"
   ]
  },
  {
   "cell_type": "markdown",
   "metadata": {},
   "source": [
    "## Translate predictions into tags"
   ]
  },
  {
   "cell_type": "code",
   "execution_count": 42,
   "metadata": {},
   "outputs": [
    {
     "data": {
      "text/html": [
       "<div>\n",
       "<style scoped>\n",
       "    .dataframe tbody tr th:only-of-type {\n",
       "        vertical-align: middle;\n",
       "    }\n",
       "\n",
       "    .dataframe tbody tr th {\n",
       "        vertical-align: top;\n",
       "    }\n",
       "\n",
       "    .dataframe thead th {\n",
       "        text-align: right;\n",
       "    }\n",
       "</style>\n",
       "<table border=\"1\" class=\"dataframe\">\n",
       "  <thead>\n",
       "    <tr style=\"text-align: right;\">\n",
       "      <th></th>\n",
       "      <th>probability</th>\n",
       "      <th>tags</th>\n",
       "    </tr>\n",
       "  </thead>\n",
       "  <tbody>\n",
       "    <tr>\n",
       "      <th>1</th>\n",
       "      <td>0.999779</td>\n",
       "      <td>Beam Off Image</td>\n",
       "    </tr>\n",
       "    <tr>\n",
       "      <th>6</th>\n",
       "      <td>0.746068</td>\n",
       "      <td>Halo</td>\n",
       "    </tr>\n",
       "    <tr>\n",
       "      <th>13</th>\n",
       "      <td>0.365134</td>\n",
       "      <td>Strong scattering</td>\n",
       "    </tr>\n",
       "    <tr>\n",
       "      <th>7</th>\n",
       "      <td>0.082168</td>\n",
       "      <td>High background</td>\n",
       "    </tr>\n",
       "    <tr>\n",
       "      <th>12</th>\n",
       "      <td>0.027924</td>\n",
       "      <td>Ring</td>\n",
       "    </tr>\n",
       "    <tr>\n",
       "      <th>8</th>\n",
       "      <td>0.012182</td>\n",
       "      <td>Higher orders</td>\n",
       "    </tr>\n",
       "    <tr>\n",
       "      <th>15</th>\n",
       "      <td>0.008120</td>\n",
       "      <td>Weak scattering</td>\n",
       "    </tr>\n",
       "    <tr>\n",
       "      <th>9</th>\n",
       "      <td>0.001963</td>\n",
       "      <td>Linear beamstop</td>\n",
       "    </tr>\n",
       "    <tr>\n",
       "      <th>16</th>\n",
       "      <td>0.001752</td>\n",
       "      <td>Wedge beamstop</td>\n",
       "    </tr>\n",
       "    <tr>\n",
       "      <th>2</th>\n",
       "      <td>0.000980</td>\n",
       "      <td>Circular Beamstop</td>\n",
       "    </tr>\n",
       "  </tbody>\n",
       "</table>\n",
       "</div>"
      ],
      "text/plain": [
       "    probability               tags\n",
       "1      0.999779     Beam Off Image\n",
       "6      0.746068               Halo\n",
       "13     0.365134  Strong scattering\n",
       "7      0.082168    High background\n",
       "12     0.027924               Ring\n",
       "8      0.012182      Higher orders\n",
       "15     0.008120    Weak scattering\n",
       "9      0.001963    Linear beamstop\n",
       "16     0.001752     Wedge beamstop\n",
       "2      0.000980  Circular Beamstop"
      ]
     },
     "execution_count": 42,
     "metadata": {},
     "output_type": "execute_result"
    }
   ],
   "source": [
    "df_tags = pd.read_csv('./tags.txt',  '\\n', header=None) ## Eventually this will be read in from the model metadata in Search\n",
    "\n",
    "def get_tags(entry):\n",
    "    df_tmp = pd.DataFrame()\n",
    "    df_tmp['probability'] = entry['prediction']\n",
    "    df_tmp['tags'] = df_tags[0]\n",
    "    return df_tmp\n",
    "\n",
    "\n",
    "df_p = get_tags(df_bnl.iloc[0])\n",
    "df_p.sort_values([\"probability\"], ascending=False).head(10)"
   ]
  },
  {
   "cell_type": "markdown",
   "metadata": {},
   "source": [
    "# Metallic Glass Discovery"
   ]
  },
  {
   "cell_type": "markdown",
   "metadata": {},
   "source": [
    "## In Progress -- This example doesn't work yet"
   ]
  },
  {
   "cell_type": "code",
   "execution_count": 51,
   "metadata": {},
   "outputs": [
    {
     "ename": "ValueError",
     "evalue": "DataFrame constructor not properly called!",
     "output_type": "error",
     "traceback": [
      "\u001b[0;31m---------------------------------------------------------------------------\u001b[0m",
      "\u001b[0;31mValueError\u001b[0m                                Traceback (most recent call last)",
      "\u001b[0;32m<ipython-input-51-f51c073627f7>\u001b[0m in \u001b[0;36m<module>\u001b[0;34m()\u001b[0m\n\u001b[1;32m      4\u001b[0m \u001b[0mdata\u001b[0m \u001b[0;34m=\u001b[0m \u001b[0;34m{\u001b[0m\u001b[0;34m\"data\"\u001b[0m\u001b[0;34m:\u001b[0m\u001b[0;34m[\u001b[0m\u001b[0;34m'Zr'\u001b[0m\u001b[0;34m,\u001b[0m \u001b[0;34m'Cr'\u001b[0m\u001b[0;34m,\u001b[0m \u001b[0;34m'Fe'\u001b[0m\u001b[0;34m]\u001b[0m\u001b[0;34m}\u001b[0m\u001b[0;34m\u001b[0m\u001b[0m\n\u001b[1;32m      5\u001b[0m \u001b[0;34m\u001b[0m\u001b[0m\n\u001b[0;32m----> 6\u001b[0;31m \u001b[0mlst_res\u001b[0m \u001b[0;34m=\u001b[0m \u001b[0mdl\u001b[0m\u001b[0;34m.\u001b[0m\u001b[0minfer\u001b[0m\u001b[0;34m(\u001b[0m\u001b[0mservable_id\u001b[0m\u001b[0;34m,\u001b[0m \u001b[0mdata\u001b[0m\u001b[0;34m)\u001b[0m\u001b[0;34m\u001b[0m\u001b[0m\n\u001b[0m\u001b[1;32m      7\u001b[0m \u001b[0mprint\u001b[0m \u001b[0;34m(\u001b[0m\u001b[0mlst_res\u001b[0m\u001b[0;34m)\u001b[0m\u001b[0;34m\u001b[0m\u001b[0m\n\u001b[1;32m      8\u001b[0m \u001b[0;31m# util_path = '{service}/servables/{servable_id}/run'.format(service=dlhub_service,\u001b[0m\u001b[0;34m\u001b[0m\u001b[0;34m\u001b[0m\u001b[0m\n",
      "\u001b[0;32m~/Documents/Argonne/DLHub/dlhub_container/examples/dlhub_client.py\u001b[0m in \u001b[0;36minfer\u001b[0;34m(self, servable_id, data)\u001b[0m\n\u001b[1;32m     26\u001b[0m \u001b[0;34m\u001b[0m\u001b[0m\n\u001b[1;32m     27\u001b[0m         \u001b[0mr\u001b[0m \u001b[0;34m=\u001b[0m \u001b[0mrequests\u001b[0m\u001b[0;34m.\u001b[0m\u001b[0mpost\u001b[0m\u001b[0;34m(\u001b[0m\u001b[0mservable_path\u001b[0m\u001b[0;34m,\u001b[0m \u001b[0mjson\u001b[0m\u001b[0;34m=\u001b[0m\u001b[0mdata\u001b[0m\u001b[0;34m)\u001b[0m\u001b[0;34m\u001b[0m\u001b[0m\n\u001b[0;32m---> 28\u001b[0;31m         \u001b[0;32mreturn\u001b[0m \u001b[0mpd\u001b[0m\u001b[0;34m.\u001b[0m\u001b[0mDataFrame\u001b[0m\u001b[0;34m(\u001b[0m\u001b[0mr\u001b[0m\u001b[0;34m.\u001b[0m\u001b[0mjson\u001b[0m\u001b[0;34m(\u001b[0m\u001b[0;34m)\u001b[0m\u001b[0;34m)\u001b[0m\u001b[0;34m\u001b[0m\u001b[0m\n\u001b[0m\u001b[1;32m     29\u001b[0m \u001b[0;34m\u001b[0m\u001b[0m\n\u001b[1;32m     30\u001b[0m \u001b[0;34m\u001b[0m\u001b[0m\n",
      "\u001b[0;32m~/Documents/conda/anaconda3/envs/dlhub36/lib/python3.6/site-packages/pandas/core/frame.py\u001b[0m in \u001b[0;36m__init__\u001b[0;34m(self, data, index, columns, dtype, copy)\u001b[0m\n\u001b[1;32m    402\u001b[0m                                          dtype=values.dtype, copy=False)\n\u001b[1;32m    403\u001b[0m             \u001b[0;32melse\u001b[0m\u001b[0;34m:\u001b[0m\u001b[0;34m\u001b[0m\u001b[0m\n\u001b[0;32m--> 404\u001b[0;31m                 \u001b[0;32mraise\u001b[0m \u001b[0mValueError\u001b[0m\u001b[0;34m(\u001b[0m\u001b[0;34m'DataFrame constructor not properly called!'\u001b[0m\u001b[0;34m)\u001b[0m\u001b[0;34m\u001b[0m\u001b[0m\n\u001b[0m\u001b[1;32m    405\u001b[0m \u001b[0;34m\u001b[0m\u001b[0m\n\u001b[1;32m    406\u001b[0m         \u001b[0mNDFrame\u001b[0m\u001b[0;34m.\u001b[0m\u001b[0m__init__\u001b[0m\u001b[0;34m(\u001b[0m\u001b[0mself\u001b[0m\u001b[0;34m,\u001b[0m \u001b[0mmgr\u001b[0m\u001b[0;34m,\u001b[0m \u001b[0mfastpath\u001b[0m\u001b[0;34m=\u001b[0m\u001b[0;32mTrue\u001b[0m\u001b[0;34m)\u001b[0m\u001b[0;34m\u001b[0m\u001b[0m\n",
      "\u001b[0;31mValueError\u001b[0m: DataFrame constructor not properly called!"
     ]
    }
   ],
   "source": [
    "servable_name = \"bmg\"\n",
    "servable_id = dl.get_id_by_name(servable_name)\n",
    "\n",
    "data = {\"data\":['Zr', 'Cr', 'Fe']}\n",
    "\n",
    "lst_res = dl.infer(servable_id, data)\n",
    "print (lst_res)\n",
    "# util_path = '{service}/servables/{servable_id}/run'.format(service=dlhub_service,\n",
    "#                                                               servable_id=servable_id)\n",
    "# r = requests.post(util_path, json=payload)\n",
    "# lst_res = json.loads(r.text)"
   ]
  },
  {
   "cell_type": "code",
   "execution_count": 52,
   "metadata": {},
   "outputs": [
    {
     "ename": "NameError",
     "evalue": "name 'lst_res' is not defined",
     "output_type": "error",
     "traceback": [
      "\u001b[0;31m---------------------------------------------------------------------------\u001b[0m",
      "\u001b[0;31mNameError\u001b[0m                                 Traceback (most recent call last)",
      "\u001b[0;32m<ipython-input-52-142b8105d6f1>\u001b[0m in \u001b[0;36m<module>\u001b[0;34m()\u001b[0m\n\u001b[0;32m----> 1\u001b[0;31m \u001b[0mlst_res\u001b[0m\u001b[0;34m\u001b[0m\u001b[0m\n\u001b[0m",
      "\u001b[0;31mNameError\u001b[0m: name 'lst_res' is not defined"
     ]
    }
   ],
   "source": [
    "lst_res"
   ]
  },
  {
   "cell_type": "code",
   "execution_count": 53,
   "metadata": {
    "collapsed": true
   },
   "outputs": [],
   "source": [
    "%matplotlib inline\n",
    "from matplotlib import pyplot as plt\n",
    "from matplotlib import cm\n",
    "from matplotlib.colors import ListedColormap\n",
    "from matminer.featurizers.composition import ElementFraction\n",
    "from pymatgen import Composition\n",
    "import pickle as pkl\n",
    "import numpy as np\n",
    "import ternary\n",
    "import gzip\n",
    "\n",
    "\n",
    "def ternary_from_data(data, elems=[\"Left\", \"Center\", \"Right\"], scale=32):\n",
    "    _, ax = plt.subplots()\n",
    "    \n",
    "    # Make the plot \n",
    "    fig, tax = ternary.figure(scale=scale, ax=ax)\n",
    "    tax.gridlines(color=\"black\", multiple=10)\n",
    "    tax.boundary(linewidth=1)\n",
    "\n",
    "    # Generate the heatmap\n",
    "    sc = heatmap(data, scale, cmap=make_cmap(), ax=ax, vmin=0.5, vmax=1, colorbar=True)\n",
    "    \n",
    "    # Make it prettier\n",
    "    plt.axis('off')\n",
    "    ax.text(1.05 * scale, -0.05 * scale, elems[0], ha='right', fontsize=12) # 1st elem\n",
    "    ax.text(.50 * scale, .90 * scale, elems[1], ha='center', fontsize=12) # 2nd elem\n",
    "    ax.text(-.05 * scale, -.05 * scale, elems[2], ha='left', fontsize=12) # 3rd elem\n",
    "    \n",
    "def make_cmap(base='viridis_r', scale_factor=1.5, cutoff=0.9, adjust_factor=0.1):\n",
    "    \"\"\"Make a colormap that this scaled to emphasize the top of the range.\n",
    "    \n",
    "    Two kinds of emphasis:\n",
    "        1) Scaling the colormap to have a stronger gradient at the top\n",
    "        2) Making the colors below a treshold lighter\n",
    "        \n",
    "    Inputs:\n",
    "        base - str, base color map name\n",
    "        scale_factor - float, how much to exaggerate the range at the top (larger value -> larger scaling)\n",
    "        cutoff - float, treshold below which to lighten colors (0-1)\n",
    "        adjust_factor - float, how much to dampen colors (0-1)\n",
    "    Returns:\n",
    "        Colormap\n",
    "    \"\"\"\n",
    "    \n",
    "    # Get the base colormap\n",
    "    v = cm.get_cmap('viridis_r')\n",
    "    \n",
    "    # Scale it\n",
    "    new_list = v(np.linspace(0,1,300) ** scale_factor)\n",
    "\n",
    "    # Apply cutoff\n",
    "    new_list[:int(len(new_list)*cutoff),:3] += (1 - new_list[:int(len(new_list)*cutoff),:3]) * adjust_factor\n",
    "    return ListedColormap(new_list, name='%s_scaled'%base)\n"
   ]
  },
  {
   "cell_type": "code",
   "execution_count": 54,
   "metadata": {},
   "outputs": [
    {
     "ename": "NameError",
     "evalue": "name 'lst_res' is not defined",
     "output_type": "error",
     "traceback": [
      "\u001b[0;31m---------------------------------------------------------------------------\u001b[0m",
      "\u001b[0;31mNameError\u001b[0m                                 Traceback (most recent call last)",
      "\u001b[0;32m<ipython-input-54-23f9ff7e59bc>\u001b[0m in \u001b[0;36m<module>\u001b[0;34m()\u001b[0m\n\u001b[0;32m----> 1\u001b[0;31m \u001b[0mternary_from_data\u001b[0m\u001b[0;34m(\u001b[0m\u001b[0mlst_res\u001b[0m\u001b[0;34m)\u001b[0m\u001b[0;34m\u001b[0m\u001b[0m\n\u001b[0m",
      "\u001b[0;31mNameError\u001b[0m: name 'lst_res' is not defined"
     ]
    }
   ],
   "source": [
    "ternary_from_data(lst_res)"
   ]
  },
  {
   "cell_type": "code",
   "execution_count": null,
   "metadata": {},
   "outputs": [],
   "source": [
    "servable_name = \"bmg\"\n",
    "servable_id = dl.get_id_by_name(servable_name)\n",
    "\n",
    "data = {\"data\":['Zr', 'Cr', 'Fe']}\n",
    "res = dl.infer(servable_id, data)\n"
   ]
  },
  {
   "cell_type": "code",
   "execution_count": null,
   "metadata": {
    "collapsed": true
   },
   "outputs": [],
   "source": []
  },
  {
   "cell_type": "code",
   "execution_count": null,
   "metadata": {},
   "outputs": [],
   "source": [
    "df_tags"
   ]
  },
  {
   "cell_type": "code",
   "execution_count": null,
   "metadata": {
    "collapsed": true
   },
   "outputs": [],
   "source": []
  }
 ],
 "metadata": {
  "kernelspec": {
   "display_name": "Python 3 (dlhub)",
   "language": "python",
   "name": "dlhub"
  },
  "language_info": {
   "codemirror_mode": {
    "name": "ipython",
    "version": 3
   },
   "file_extension": ".py",
   "mimetype": "text/x-python",
   "name": "python",
   "nbconvert_exporter": "python",
   "pygments_lexer": "ipython3",
   "version": "3.6.4"
  }
 },
 "nbformat": 4,
 "nbformat_minor": 2
}
