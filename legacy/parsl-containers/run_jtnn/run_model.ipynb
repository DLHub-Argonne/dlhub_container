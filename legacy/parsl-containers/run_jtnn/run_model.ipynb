{
 "cells": [
  {
   "cell_type": "code",
   "execution_count": 1,
   "metadata": {},
   "outputs": [],
   "source": [
    "import torch\n",
    "import os\n",
    "import numpy as np\n",
    "import pandas as pd\n",
    "import json"
   ]
  },
  {
   "cell_type": "code",
   "execution_count": 2,
   "metadata": {},
   "outputs": [
    {
     "name": "stdout",
     "output_type": "stream",
     "text": [
      "['', '/anaconda3/envs/my-rdkit-env/lib/python36.zip', '/anaconda3/envs/my-rdkit-env/lib/python3.6', '/anaconda3/envs/my-rdkit-env/lib/python3.6/lib-dynload', '/anaconda3/envs/my-rdkit-env/lib/python3.6/site-packages', '/anaconda3/envs/my-rdkit-env/lib/python3.6/site-packages/IPython/extensions', '/Users/evanpike/.ipython', './jtnn']\n"
     ]
    }
   ],
   "source": [
    "import rdkit\n",
    "import rdkit.Chem as Chem\n",
    "from rdkit.Chem import Descriptors\n",
    "import sascorer\n",
    "import sys\n",
    "#from jtnn import sascorer\n",
    "#from jtnn.mol_tree import Vocab\n",
    "sys.path.append(\"./jtnn\")\n",
    "print(sys.path)\n",
    "\n",
    "from jtnn import *"
   ]
  },
  {
   "cell_type": "code",
   "execution_count": 3,
   "metadata": {},
   "outputs": [],
   "source": [
    "lg = rdkit.RDLogger.logger() \n",
    "lg.setLevel(rdkit.RDLogger.CRITICAL)\n",
    "\n",
    "test_path = \"./data/opt.test.logP-SA\"\n",
    "vocab_path = \"./data/vocab.txt\"\n",
    "model_path = \"./joint-h420-L56-d3-noKL/model.iter-2\"#\"./joint-h420-L56-d3-beta0.001/model.iter-4\"\n",
    "hidden_size = 200\n",
    "latent_size = 56\n",
    "depth = 3\n",
    "sim_cutoff = 0.0\n",
    "\n",
    "# parser = OptionParser()\n",
    "# parser.add_option(\"-t\", \"--test\", dest=\"test_path\")\n",
    "# parser.add_option(\"-v\", \"--vocab\", dest=\"vocab_path\")\n",
    "# parser.add_option(\"-m\", \"--model\", dest=\"model_path\")\n",
    "# parser.add_option(\"-w\", \"--hidden\", dest=\"hidden_size\", default=200)\n",
    "# parser.add_option(\"-l\", \"--latent\", dest=\"latent_size\", default=56)\n",
    "# parser.add_option(\"-d\", \"--depth\", dest=\"depth\", default=3)\n",
    "# parser.add_option(\"-s\", \"--sim\", dest=\"cutoff\", default=0.0)\n",
    "# opts,args = parser.parse_args()"
   ]
  },
  {
   "cell_type": "code",
   "execution_count": 5,
   "metadata": {},
   "outputs": [
    {
     "name": "stderr",
     "output_type": "stream",
     "text": [
      "/anaconda3/envs/my-rdkit-env/lib/python3.6/site-packages/torch/nn/functional.py:52: UserWarning: size_average and reduce args will be deprecated, please use reduction='sum' instead.\n",
      "  warnings.warn(warning.format(ret))\n"
     ]
    },
    {
     "ename": "RuntimeError",
     "evalue": "Error(s) in loading state_dict for JTPropVAE:\n\tsize mismatch for embedding.weight: copying a param of torch.Size([780, 200]) from checkpoint, where the shape is torch.Size([780, 420]) in current model.\n\tsize mismatch for jtnn.embedding.weight: copying a param of torch.Size([780, 200]) from checkpoint, where the shape is torch.Size([780, 420]) in current model.\n\tsize mismatch for jtnn.W_z.weight: copying a param of torch.Size([200, 400]) from checkpoint, where the shape is torch.Size([420, 840]) in current model.\n\tsize mismatch for jtnn.W_z.bias: copying a param of torch.Size([200]) from checkpoint, where the shape is torch.Size([420]) in current model.\n\tsize mismatch for jtnn.W_r.weight: copying a param of torch.Size([200, 200]) from checkpoint, where the shape is torch.Size([420, 420]) in current model.\n\tsize mismatch for jtnn.U_r.weight: copying a param of torch.Size([200, 200]) from checkpoint, where the shape is torch.Size([420, 420]) in current model.\n\tsize mismatch for jtnn.U_r.bias: copying a param of torch.Size([200]) from checkpoint, where the shape is torch.Size([420]) in current model.\n\tsize mismatch for jtnn.W_h.weight: copying a param of torch.Size([200, 400]) from checkpoint, where the shape is torch.Size([420, 840]) in current model.\n\tsize mismatch for jtnn.W_h.bias: copying a param of torch.Size([200]) from checkpoint, where the shape is torch.Size([420]) in current model.\n\tsize mismatch for jtnn.W.weight: copying a param of torch.Size([200, 400]) from checkpoint, where the shape is torch.Size([420, 840]) in current model.\n\tsize mismatch for jtnn.W.bias: copying a param of torch.Size([200]) from checkpoint, where the shape is torch.Size([420]) in current model.\n\tsize mismatch for jtmpn.W_i.weight: copying a param of torch.Size([200, 40]) from checkpoint, where the shape is torch.Size([420, 40]) in current model.\n\tsize mismatch for jtmpn.W_h.weight: copying a param of torch.Size([200, 200]) from checkpoint, where the shape is torch.Size([420, 420]) in current model.\n\tsize mismatch for jtmpn.W_o.weight: copying a param of torch.Size([200, 235]) from checkpoint, where the shape is torch.Size([420, 455]) in current model.\n\tsize mismatch for jtmpn.W_o.bias: copying a param of torch.Size([200]) from checkpoint, where the shape is torch.Size([420]) in current model.\n\tsize mismatch for mpn.W_i.weight: copying a param of torch.Size([200, 50]) from checkpoint, where the shape is torch.Size([420, 50]) in current model.\n\tsize mismatch for mpn.W_h.weight: copying a param of torch.Size([200, 200]) from checkpoint, where the shape is torch.Size([420, 420]) in current model.\n\tsize mismatch for mpn.W_o.weight: copying a param of torch.Size([200, 239]) from checkpoint, where the shape is torch.Size([420, 459]) in current model.\n\tsize mismatch for mpn.W_o.bias: copying a param of torch.Size([200]) from checkpoint, where the shape is torch.Size([420]) in current model.\n\tsize mismatch for decoder.embedding.weight: copying a param of torch.Size([780, 200]) from checkpoint, where the shape is torch.Size([780, 420]) in current model.\n\tsize mismatch for decoder.W_z.weight: copying a param of torch.Size([200, 400]) from checkpoint, where the shape is torch.Size([420, 840]) in current model.\n\tsize mismatch for decoder.W_z.bias: copying a param of torch.Size([200]) from checkpoint, where the shape is torch.Size([420]) in current model.\n\tsize mismatch for decoder.U_r.weight: copying a param of torch.Size([200, 200]) from checkpoint, where the shape is torch.Size([420, 420]) in current model.\n\tsize mismatch for decoder.W_r.weight: copying a param of torch.Size([200, 200]) from checkpoint, where the shape is torch.Size([420, 420]) in current model.\n\tsize mismatch for decoder.W_r.bias: copying a param of torch.Size([200]) from checkpoint, where the shape is torch.Size([420]) in current model.\n\tsize mismatch for decoder.W_h.weight: copying a param of torch.Size([200, 400]) from checkpoint, where the shape is torch.Size([420, 840]) in current model.\n\tsize mismatch for decoder.W_h.bias: copying a param of torch.Size([200]) from checkpoint, where the shape is torch.Size([420]) in current model.\n\tsize mismatch for decoder.W.weight: copying a param of torch.Size([200, 228]) from checkpoint, where the shape is torch.Size([420, 448]) in current model.\n\tsize mismatch for decoder.W.bias: copying a param of torch.Size([200]) from checkpoint, where the shape is torch.Size([420]) in current model.\n\tsize mismatch for decoder.U.weight: copying a param of torch.Size([200, 428]) from checkpoint, where the shape is torch.Size([420, 868]) in current model.\n\tsize mismatch for decoder.U.bias: copying a param of torch.Size([200]) from checkpoint, where the shape is torch.Size([420]) in current model.\n\tsize mismatch for decoder.W_o.weight: copying a param of torch.Size([780, 200]) from checkpoint, where the shape is torch.Size([780, 420]) in current model.\n\tsize mismatch for decoder.U_s.weight: copying a param of torch.Size([1, 200]) from checkpoint, where the shape is torch.Size([1, 420]) in current model.\n\tsize mismatch for T_mean.weight: copying a param of torch.Size([28, 200]) from checkpoint, where the shape is torch.Size([28, 420]) in current model.\n\tsize mismatch for T_var.weight: copying a param of torch.Size([28, 200]) from checkpoint, where the shape is torch.Size([28, 420]) in current model.\n\tsize mismatch for G_mean.weight: copying a param of torch.Size([28, 200]) from checkpoint, where the shape is torch.Size([28, 420]) in current model.\n\tsize mismatch for G_var.weight: copying a param of torch.Size([28, 200]) from checkpoint, where the shape is torch.Size([28, 420]) in current model.\n\tsize mismatch for propNN.0.weight: copying a param of torch.Size([200, 56]) from checkpoint, where the shape is torch.Size([420, 56]) in current model.\n\tsize mismatch for propNN.0.bias: copying a param of torch.Size([200]) from checkpoint, where the shape is torch.Size([420]) in current model.\n\tsize mismatch for propNN.2.weight: copying a param of torch.Size([1, 200]) from checkpoint, where the shape is torch.Size([1, 420]) in current model.",
     "output_type": "error",
     "traceback": [
      "\u001b[0;31m---------------------------------------------------------------------------\u001b[0m",
      "\u001b[0;31mRuntimeError\u001b[0m                              Traceback (most recent call last)",
      "\u001b[0;32m<ipython-input-5-62cd69d618a8>\u001b[0m in \u001b[0;36m<module>\u001b[0;34m()\u001b[0m\n\u001b[1;32m      3\u001b[0m \u001b[0;34m\u001b[0m\u001b[0m\n\u001b[1;32m      4\u001b[0m \u001b[0mmodel\u001b[0m \u001b[0;34m=\u001b[0m \u001b[0mJTPropVAE\u001b[0m\u001b[0;34m(\u001b[0m\u001b[0mvocab\u001b[0m\u001b[0;34m,\u001b[0m \u001b[0mint\u001b[0m\u001b[0;34m(\u001b[0m\u001b[0mhidden_size\u001b[0m\u001b[0;34m)\u001b[0m\u001b[0;34m,\u001b[0m \u001b[0mint\u001b[0m\u001b[0;34m(\u001b[0m\u001b[0mlatent_size\u001b[0m\u001b[0;34m)\u001b[0m\u001b[0;34m,\u001b[0m \u001b[0mint\u001b[0m\u001b[0;34m(\u001b[0m\u001b[0mdepth\u001b[0m\u001b[0;34m)\u001b[0m\u001b[0;34m)\u001b[0m\u001b[0;34m\u001b[0m\u001b[0m\n\u001b[0;32m----> 5\u001b[0;31m \u001b[0mmodel\u001b[0m\u001b[0;34m.\u001b[0m\u001b[0mload_state_dict\u001b[0m\u001b[0;34m(\u001b[0m\u001b[0mtorch\u001b[0m\u001b[0;34m.\u001b[0m\u001b[0mload\u001b[0m\u001b[0;34m(\u001b[0m\u001b[0mmodel_path\u001b[0m\u001b[0;34m,\u001b[0m \u001b[0mmap_location\u001b[0m\u001b[0;34m=\u001b[0m\u001b[0;32mlambda\u001b[0m \u001b[0mstorage\u001b[0m\u001b[0;34m,\u001b[0m \u001b[0mloc\u001b[0m\u001b[0;34m:\u001b[0m \u001b[0mstorage\u001b[0m\u001b[0;34m)\u001b[0m\u001b[0;34m)\u001b[0m\u001b[0;34m\u001b[0m\u001b[0m\n\u001b[0m\u001b[1;32m      6\u001b[0m \u001b[0;31m#model = model.cuda()\u001b[0m\u001b[0;34m\u001b[0m\u001b[0;34m\u001b[0m\u001b[0m\n\u001b[1;32m      7\u001b[0m \u001b[0;34m\u001b[0m\u001b[0m\n",
      "\u001b[0;32m/anaconda3/envs/my-rdkit-env/lib/python3.6/site-packages/torch/nn/modules/module.py\u001b[0m in \u001b[0;36mload_state_dict\u001b[0;34m(self, state_dict, strict)\u001b[0m\n\u001b[1;32m    717\u001b[0m         \u001b[0;32mif\u001b[0m \u001b[0mlen\u001b[0m\u001b[0;34m(\u001b[0m\u001b[0merror_msgs\u001b[0m\u001b[0;34m)\u001b[0m \u001b[0;34m>\u001b[0m \u001b[0;36m0\u001b[0m\u001b[0;34m:\u001b[0m\u001b[0;34m\u001b[0m\u001b[0m\n\u001b[1;32m    718\u001b[0m             raise RuntimeError('Error(s) in loading state_dict for {}:\\n\\t{}'.format(\n\u001b[0;32m--> 719\u001b[0;31m                                self.__class__.__name__, \"\\n\\t\".join(error_msgs)))\n\u001b[0m\u001b[1;32m    720\u001b[0m \u001b[0;34m\u001b[0m\u001b[0m\n\u001b[1;32m    721\u001b[0m     \u001b[0;32mdef\u001b[0m \u001b[0mparameters\u001b[0m\u001b[0;34m(\u001b[0m\u001b[0mself\u001b[0m\u001b[0;34m)\u001b[0m\u001b[0;34m:\u001b[0m\u001b[0;34m\u001b[0m\u001b[0m\n",
      "\u001b[0;31mRuntimeError\u001b[0m: Error(s) in loading state_dict for JTPropVAE:\n\tsize mismatch for embedding.weight: copying a param of torch.Size([780, 200]) from checkpoint, where the shape is torch.Size([780, 420]) in current model.\n\tsize mismatch for jtnn.embedding.weight: copying a param of torch.Size([780, 200]) from checkpoint, where the shape is torch.Size([780, 420]) in current model.\n\tsize mismatch for jtnn.W_z.weight: copying a param of torch.Size([200, 400]) from checkpoint, where the shape is torch.Size([420, 840]) in current model.\n\tsize mismatch for jtnn.W_z.bias: copying a param of torch.Size([200]) from checkpoint, where the shape is torch.Size([420]) in current model.\n\tsize mismatch for jtnn.W_r.weight: copying a param of torch.Size([200, 200]) from checkpoint, where the shape is torch.Size([420, 420]) in current model.\n\tsize mismatch for jtnn.U_r.weight: copying a param of torch.Size([200, 200]) from checkpoint, where the shape is torch.Size([420, 420]) in current model.\n\tsize mismatch for jtnn.U_r.bias: copying a param of torch.Size([200]) from checkpoint, where the shape is torch.Size([420]) in current model.\n\tsize mismatch for jtnn.W_h.weight: copying a param of torch.Size([200, 400]) from checkpoint, where the shape is torch.Size([420, 840]) in current model.\n\tsize mismatch for jtnn.W_h.bias: copying a param of torch.Size([200]) from checkpoint, where the shape is torch.Size([420]) in current model.\n\tsize mismatch for jtnn.W.weight: copying a param of torch.Size([200, 400]) from checkpoint, where the shape is torch.Size([420, 840]) in current model.\n\tsize mismatch for jtnn.W.bias: copying a param of torch.Size([200]) from checkpoint, where the shape is torch.Size([420]) in current model.\n\tsize mismatch for jtmpn.W_i.weight: copying a param of torch.Size([200, 40]) from checkpoint, where the shape is torch.Size([420, 40]) in current model.\n\tsize mismatch for jtmpn.W_h.weight: copying a param of torch.Size([200, 200]) from checkpoint, where the shape is torch.Size([420, 420]) in current model.\n\tsize mismatch for jtmpn.W_o.weight: copying a param of torch.Size([200, 235]) from checkpoint, where the shape is torch.Size([420, 455]) in current model.\n\tsize mismatch for jtmpn.W_o.bias: copying a param of torch.Size([200]) from checkpoint, where the shape is torch.Size([420]) in current model.\n\tsize mismatch for mpn.W_i.weight: copying a param of torch.Size([200, 50]) from checkpoint, where the shape is torch.Size([420, 50]) in current model.\n\tsize mismatch for mpn.W_h.weight: copying a param of torch.Size([200, 200]) from checkpoint, where the shape is torch.Size([420, 420]) in current model.\n\tsize mismatch for mpn.W_o.weight: copying a param of torch.Size([200, 239]) from checkpoint, where the shape is torch.Size([420, 459]) in current model.\n\tsize mismatch for mpn.W_o.bias: copying a param of torch.Size([200]) from checkpoint, where the shape is torch.Size([420]) in current model.\n\tsize mismatch for decoder.embedding.weight: copying a param of torch.Size([780, 200]) from checkpoint, where the shape is torch.Size([780, 420]) in current model.\n\tsize mismatch for decoder.W_z.weight: copying a param of torch.Size([200, 400]) from checkpoint, where the shape is torch.Size([420, 840]) in current model.\n\tsize mismatch for decoder.W_z.bias: copying a param of torch.Size([200]) from checkpoint, where the shape is torch.Size([420]) in current model.\n\tsize mismatch for decoder.U_r.weight: copying a param of torch.Size([200, 200]) from checkpoint, where the shape is torch.Size([420, 420]) in current model.\n\tsize mismatch for decoder.W_r.weight: copying a param of torch.Size([200, 200]) from checkpoint, where the shape is torch.Size([420, 420]) in current model.\n\tsize mismatch for decoder.W_r.bias: copying a param of torch.Size([200]) from checkpoint, where the shape is torch.Size([420]) in current model.\n\tsize mismatch for decoder.W_h.weight: copying a param of torch.Size([200, 400]) from checkpoint, where the shape is torch.Size([420, 840]) in current model.\n\tsize mismatch for decoder.W_h.bias: copying a param of torch.Size([200]) from checkpoint, where the shape is torch.Size([420]) in current model.\n\tsize mismatch for decoder.W.weight: copying a param of torch.Size([200, 228]) from checkpoint, where the shape is torch.Size([420, 448]) in current model.\n\tsize mismatch for decoder.W.bias: copying a param of torch.Size([200]) from checkpoint, where the shape is torch.Size([420]) in current model.\n\tsize mismatch for decoder.U.weight: copying a param of torch.Size([200, 428]) from checkpoint, where the shape is torch.Size([420, 868]) in current model.\n\tsize mismatch for decoder.U.bias: copying a param of torch.Size([200]) from checkpoint, where the shape is torch.Size([420]) in current model.\n\tsize mismatch for decoder.W_o.weight: copying a param of torch.Size([780, 200]) from checkpoint, where the shape is torch.Size([780, 420]) in current model.\n\tsize mismatch for decoder.U_s.weight: copying a param of torch.Size([1, 200]) from checkpoint, where the shape is torch.Size([1, 420]) in current model.\n\tsize mismatch for T_mean.weight: copying a param of torch.Size([28, 200]) from checkpoint, where the shape is torch.Size([28, 420]) in current model.\n\tsize mismatch for T_var.weight: copying a param of torch.Size([28, 200]) from checkpoint, where the shape is torch.Size([28, 420]) in current model.\n\tsize mismatch for G_mean.weight: copying a param of torch.Size([28, 200]) from checkpoint, where the shape is torch.Size([28, 420]) in current model.\n\tsize mismatch for G_var.weight: copying a param of torch.Size([28, 200]) from checkpoint, where the shape is torch.Size([28, 420]) in current model.\n\tsize mismatch for propNN.0.weight: copying a param of torch.Size([200, 56]) from checkpoint, where the shape is torch.Size([420, 56]) in current model.\n\tsize mismatch for propNN.0.bias: copying a param of torch.Size([200]) from checkpoint, where the shape is torch.Size([420]) in current model.\n\tsize mismatch for propNN.2.weight: copying a param of torch.Size([1, 200]) from checkpoint, where the shape is torch.Size([1, 420]) in current model."
     ]
    }
   ],
   "source": [
    "vocab = [x.strip(\"\\r\\n \") for x in open(vocab_path)] \n",
    "vocab = Vocab(vocab)\n",
    "\n",
    "model = JTPropVAE(vocab, int(hidden_size), int(latent_size), int(depth))\n",
    "model.load_state_dict(torch.load(model_path, map_location=lambda storage, loc: storage))\n",
    "#model = model.cuda()\n",
    "\n",
    "data = []\n",
    "with open(test_path) as f:\n",
    "    for line in f:\n",
    "        s = line.strip(\"\\r\\n \").split()[0]\n",
    "        data.append(s)\n",
    "\n",
    "res = []\n",
    "for smiles in data:\n",
    "    mol = Chem.MolFromSmiles(smiles)\n",
    "    score = Descriptors.MolLogP(mol) - sascorer.calculateScore(mol)\n",
    "\n",
    "    new_smiles,sim = model.optimize(smiles, sim_cutoff=sim_cutoff, lr=2, num_iter=80)\n",
    "    new_mol = Chem.MolFromSmiles(new_smiles)\n",
    "    new_score = Descriptors.MolLogP(new_mol) - sascorer.calculateScore(new_mol)\n",
    "\n",
    "    res.append( (new_score - score, sim, score, new_score, smiles, new_smiles) )\n",
    "    print(new_score - score, sim, score, new_score, smiles, new_smiles)\n",
    "\n",
    "print(sum([x[0] for x in res]), sum([x[1] for x in res]))"
   ]
  },
  {
   "cell_type": "code",
   "execution_count": null,
   "metadata": {},
   "outputs": [],
   "source": []
  },
  {
   "cell_type": "code",
   "execution_count": null,
   "metadata": {},
   "outputs": [],
   "source": []
  },
  {
   "cell_type": "code",
   "execution_count": null,
   "metadata": {},
   "outputs": [],
   "source": []
  }
 ],
 "metadata": {
  "kernelspec": {
   "display_name": "jtnn",
   "language": "python",
   "name": "jtnn"
  },
  "language_info": {
   "codemirror_mode": {
    "name": "ipython",
    "version": 3
   },
   "file_extension": ".py",
   "mimetype": "text/x-python",
   "name": "python",
   "nbconvert_exporter": "python",
   "pygments_lexer": "ipython3",
   "version": "3.6.5"
  }
 },
 "nbformat": 4,
 "nbformat_minor": 2
}
