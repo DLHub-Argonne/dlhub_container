{
 "cells": [
  {
   "cell_type": "markdown",
   "metadata": {},
   "source": [
    "# DLHub\n",
    "\n",
    "DLHub is a self-service platform for publishing, applying, and creating new ML/DL models. DLHub will provide: 1) publication capabilities to make models more discoverable, citable, and reusable; 2) the ability to easily run or test existing models; and 3) links to the data and computing infrastructure to re-train models for new applications. Users will benefit from DLHub in many ways. Data scientists can publish their models (i.e., architectures and weights) and methods. Materials scientists can apply existing models to new data with ease (e.g., by querying a prediction API for a deployed mode) and create new models with state-of-the-art techniques. Together, these capabilities will lower barriers to employing ML/DL, making it easier for researchers to benefit from advances in ML/DL technologies. \n",
    "\n",
    "## This notebook\n",
    "This notebook showcases two DLHub use cases, the use of the OQDM pipeline and the use of a BNL model. The OQMD pipeline extracts data from the Materials Data Facility before passing it through three servables on DLHub to transform the input data and perform a prediction. The BNL model uses Globus Auth to pull data from Petrel and generate tags for the data."
   ]
  },
  {
   "cell_type": "markdown",
   "metadata": {},
   "source": [
    "## OQMD\n",
    "\n",
    "\n",
    "Predict XXX with the OQMD pipeline -- this uses a util and featurize transformation before performing the prediction. Data is pulled from the Materials Data Facility and piped through three DLHub servables.\n"
   ]
  },
  {
   "cell_type": "code",
   "execution_count": 13,
   "metadata": {},
   "outputs": [],
   "source": []
  },
  {
   "cell_type": "code",
   "execution_count": 14,
   "metadata": {},
   "outputs": [
    {
     "data": {
      "text/html": [
       "<div>\n",
       "<style scoped>\n",
       "    .dataframe tbody tr th:only-of-type {\n",
       "        vertical-align: middle;\n",
       "    }\n",
       "\n",
       "    .dataframe tbody tr th {\n",
       "        vertical-align: top;\n",
       "    }\n",
       "\n",
       "    .dataframe thead th {\n",
       "        text-align: right;\n",
       "    }\n",
       "</style>\n",
       "<table border=\"1\" class=\"dataframe\">\n",
       "  <thead>\n",
       "    <tr style=\"text-align: right;\">\n",
       "      <th></th>\n",
       "      <th>author</th>\n",
       "      <th>created_at</th>\n",
       "      <th>description</th>\n",
       "      <th>ecr_url</th>\n",
       "      <th>id</th>\n",
       "      <th>input</th>\n",
       "      <th>name</th>\n",
       "      <th>notes</th>\n",
       "      <th>output</th>\n",
       "      <th>servable</th>\n",
       "      <th>status</th>\n",
       "      <th>uuid</th>\n",
       "    </tr>\n",
       "  </thead>\n",
       "  <tbody>\n",
       "    <tr>\n",
       "      <th>0</th>\n",
       "      <td>1</td>\n",
       "      <td>2018-05-15 15:16:40.865516</td>\n",
       "      <td>Do something with a util</td>\n",
       "      <td>039706667969.dkr.ecr.us-east-1.amazonaws.com/d...</td>\n",
       "      <td>4</td>\n",
       "      <td>[]</td>\n",
       "      <td>oqmd_model</td>\n",
       "      <td></td>\n",
       "      <td>[]</td>\n",
       "      <td>pool_oqmd_model</td>\n",
       "      <td>READY</td>\n",
       "      <td>1117ac20-3f54-11e8-b467-0ed5f89f718b</td>\n",
       "    </tr>\n",
       "    <tr>\n",
       "      <th>1</th>\n",
       "      <td>1</td>\n",
       "      <td>2018-05-15 15:16:40.801222</td>\n",
       "      <td>Featurize some data</td>\n",
       "      <td>039706667969.dkr.ecr.us-east-1.amazonaws.com/d...</td>\n",
       "      <td>2</td>\n",
       "      <td>[]</td>\n",
       "      <td>matminer_featurize</td>\n",
       "      <td></td>\n",
       "      <td>[]</td>\n",
       "      <td>pool_matminer_featurize</td>\n",
       "      <td>READY</td>\n",
       "      <td>9ff7a98c-3f54-11e8-b467-0ed5f89f718b</td>\n",
       "    </tr>\n",
       "    <tr>\n",
       "      <th>2</th>\n",
       "      <td>1</td>\n",
       "      <td>2018-05-15 15:16:41.719300</td>\n",
       "      <td>BNL Resnet</td>\n",
       "      <td>039706667969.dkr.ecr.us-east-1.amazonaws.com/d...</td>\n",
       "      <td>5</td>\n",
       "      <td>[]</td>\n",
       "      <td>resnet</td>\n",
       "      <td></td>\n",
       "      <td>[]</td>\n",
       "      <td>pool_resnet</td>\n",
       "      <td>READY</td>\n",
       "      <td>e127fb16-5852-11e8-9c2d-fa7ae01bbebc</td>\n",
       "    </tr>\n",
       "    <tr>\n",
       "      <th>3</th>\n",
       "      <td>1</td>\n",
       "      <td>2018-05-15 15:16:40.843431</td>\n",
       "      <td>Do something with a util</td>\n",
       "      <td>039706667969.dkr.ecr.us-east-1.amazonaws.com/d...</td>\n",
       "      <td>3</td>\n",
       "      <td>[]</td>\n",
       "      <td>matminer_util</td>\n",
       "      <td></td>\n",
       "      <td>[]</td>\n",
       "      <td>pool_matminer_util</td>\n",
       "      <td>READY</td>\n",
       "      <td>d5a1653c-3ec5-4947-8c5a-28f6554ec339</td>\n",
       "    </tr>\n",
       "    <tr>\n",
       "      <th>4</th>\n",
       "      <td>1</td>\n",
       "      <td>2018-06-05 20:06:40.608302</td>\n",
       "      <td>Formation energy</td>\n",
       "      <td>None</td>\n",
       "      <td>7</td>\n",
       "      <td>[]</td>\n",
       "      <td>formation_energy</td>\n",
       "      <td></td>\n",
       "      <td>[]</td>\n",
       "      <td>pool_formation_energy</td>\n",
       "      <td>READY</td>\n",
       "      <td>9553d6a2-6a8d-4cda-8b81-7f38efab67e7</td>\n",
       "    </tr>\n",
       "  </tbody>\n",
       "</table>\n",
       "</div>"
      ],
      "text/plain": [
       "   author                  created_at               description  \\\n",
       "0       1  2018-05-15 15:16:40.865516  Do something with a util   \n",
       "1       1  2018-05-15 15:16:40.801222       Featurize some data   \n",
       "2       1  2018-05-15 15:16:41.719300                BNL Resnet   \n",
       "3       1  2018-05-15 15:16:40.843431  Do something with a util   \n",
       "4       1  2018-06-05 20:06:40.608302          Formation energy   \n",
       "\n",
       "                                             ecr_url  id input  \\\n",
       "0  039706667969.dkr.ecr.us-east-1.amazonaws.com/d...   4    []   \n",
       "1  039706667969.dkr.ecr.us-east-1.amazonaws.com/d...   2    []   \n",
       "2  039706667969.dkr.ecr.us-east-1.amazonaws.com/d...   5    []   \n",
       "3  039706667969.dkr.ecr.us-east-1.amazonaws.com/d...   3    []   \n",
       "4                                               None   7    []   \n",
       "\n",
       "                 name notes output                 servable status  \\\n",
       "0          oqmd_model           []          pool_oqmd_model  READY   \n",
       "1  matminer_featurize           []  pool_matminer_featurize  READY   \n",
       "2              resnet           []              pool_resnet  READY   \n",
       "3       matminer_util           []       pool_matminer_util  READY   \n",
       "4    formation_energy           []    pool_formation_energy  READY   \n",
       "\n",
       "                                   uuid  \n",
       "0  1117ac20-3f54-11e8-b467-0ed5f89f718b  \n",
       "1  9ff7a98c-3f54-11e8-b467-0ed5f89f718b  \n",
       "2  e127fb16-5852-11e8-9c2d-fa7ae01bbebc  \n",
       "3  d5a1653c-3ec5-4947-8c5a-28f6554ec339  \n",
       "4  9553d6a2-6a8d-4cda-8b81-7f38efab67e7  "
      ]
     },
     "execution_count": 14,
     "metadata": {},
     "output_type": "execute_result"
    }
   ],
   "source": []
  },
  {
   "cell_type": "code",
   "execution_count": 15,
   "metadata": {},
   "outputs": [],
   "source": [
    "class DLHub():\n",
    "    service = \"http://35.168.128.54:5000/api/v1\"\n",
    "    \n",
    "    def __init__(self):\n",
    "        pass\n",
    "    \n",
    "    def get_servables(self):\n",
    "        r = requests.get(\"{service}/servables\".format(service=self.service))\n",
    "        return pd.DataFrame(r.json())\n",
    "    \n",
    "    def get_id_by_name(self, name):\n",
    "        r = requests.get(\"{service}/servables\".format(service=self.service))\n",
    "        df_tmp =  pd.DataFrame(r.json())\n",
    "        serv = df_tmp[df_tmp.name==name]\n",
    "        return serv.iloc[0]['uuid']\n",
    "    \n",
    "    def infer(self, servable_id, data):\n",
    "        servable_path = '{service}/servables/{servable_id}/run'.format(service=self.service,\n",
    "                                                                       servable_id=servable_id)\n",
    "        payload = {\"data\":data}\n",
    "\n",
    "        r = requests.post(servable_path, json=data)\n",
    "        return pd.DataFrame(r.json())\n",
    "\n",
    "\n",
    "dl = DLHub()"
   ]
  },
  {
   "cell_type": "code",
   "execution_count": 16,
   "metadata": {},
   "outputs": [],
   "source": [
    "import sys\n",
    "import os\n",
    "import json\n",
    "import requests\n",
    "import matplotlib\n",
    "import globus_sdk\n",
    "import numpy as np\n",
    "import pandas as pd\n",
    "import matplotlib.pyplot as plt\n",
    "from mdf_forge.forge import Forge\n",
    "\n",
    "%matplotlib inline\n",
    "mdf = Forge()\n",
    "\n",
    "dlhub_service = \"http://35.168.128.54:5000/api/v1\""
   ]
  },
  {
   "cell_type": "code",
   "execution_count": 17,
   "metadata": {},
   "outputs": [],
   "source": [
    "from mdf_toolbox import login"
   ]
  },
  {
   "cell_type": "code",
   "execution_count": 18,
   "metadata": {},
   "outputs": [
    {
     "data": {
      "text/plain": [
       "{'petrel': <globus_sdk.authorizers.refresh_token.RefreshTokenAuthorizer at 0x107272668>}"
      ]
     },
     "execution_count": 18,
     "metadata": {},
     "output_type": "execute_result"
    }
   ],
   "source": [
    "login(services=[\"petrel\"])"
   ]
  },
  {
   "cell_type": "markdown",
   "metadata": {},
   "source": [
    "# Get data from MDF\n",
    "\n",
    "Search MDF for compositions containing Al and Cu that can be used with the OQMD model."
   ]
  },
  {
   "cell_type": "code",
   "execution_count": 19,
   "metadata": {},
   "outputs": [
    {
     "data": {
      "text/html": [
       "<div>\n",
       "<style scoped>\n",
       "    .dataframe tbody tr th:only-of-type {\n",
       "        vertical-align: middle;\n",
       "    }\n",
       "\n",
       "    .dataframe tbody tr th {\n",
       "        vertical-align: top;\n",
       "    }\n",
       "\n",
       "    .dataframe thead th {\n",
       "        text-align: right;\n",
       "    }\n",
       "</style>\n",
       "<table border=\"1\" class=\"dataframe\">\n",
       "  <thead>\n",
       "    <tr style=\"text-align: right;\">\n",
       "      <th></th>\n",
       "      <th>composition</th>\n",
       "    </tr>\n",
       "  </thead>\n",
       "  <tbody>\n",
       "    <tr>\n",
       "      <th>0</th>\n",
       "      <td>Al1Cu4</td>\n",
       "    </tr>\n",
       "    <tr>\n",
       "      <th>1</th>\n",
       "      <td>Al1Cu1</td>\n",
       "    </tr>\n",
       "    <tr>\n",
       "      <th>2</th>\n",
       "      <td>Al1Cu4</td>\n",
       "    </tr>\n",
       "    <tr>\n",
       "      <th>3</th>\n",
       "      <td>Al2Cu1</td>\n",
       "    </tr>\n",
       "    <tr>\n",
       "      <th>4</th>\n",
       "      <td>Al2Cu1</td>\n",
       "    </tr>\n",
       "  </tbody>\n",
       "</table>\n",
       "</div>"
      ],
      "text/plain": [
       "  composition\n",
       "0      Al1Cu4\n",
       "1      Al1Cu1\n",
       "2      Al1Cu4\n",
       "3      Al2Cu1\n",
       "4      Al2Cu1"
      ]
     },
     "execution_count": 19,
     "metadata": {},
     "output_type": "execute_result"
    }
   ],
   "source": [
    "results = mdf.search_by_elements(elements=[\"Al\",\"Cu\"], \n",
    "                                 source_names=[\"oqmd\"], \n",
    "                                 limit=50)\n",
    "compositions = []\n",
    "for res in results:\n",
    "    compositions.append({\"composition\": res['material']['composition']})\n",
    "df = pd.DataFrame(compositions)\n",
    "df.head()"
   ]
  },
  {
   "cell_type": "markdown",
   "metadata": {},
   "source": [
    "## Query DLHub to find models and transformation servables"
   ]
  },
  {
   "cell_type": "code",
   "execution_count": 20,
   "metadata": {},
   "outputs": [
    {
     "data": {
      "text/html": [
       "<div>\n",
       "<style scoped>\n",
       "    .dataframe tbody tr th:only-of-type {\n",
       "        vertical-align: middle;\n",
       "    }\n",
       "\n",
       "    .dataframe tbody tr th {\n",
       "        vertical-align: top;\n",
       "    }\n",
       "\n",
       "    .dataframe thead th {\n",
       "        text-align: right;\n",
       "    }\n",
       "</style>\n",
       "<table border=\"1\" class=\"dataframe\">\n",
       "  <thead>\n",
       "    <tr style=\"text-align: right;\">\n",
       "      <th></th>\n",
       "      <th>uuid</th>\n",
       "      <th>name</th>\n",
       "    </tr>\n",
       "  </thead>\n",
       "  <tbody>\n",
       "    <tr>\n",
       "      <th>0</th>\n",
       "      <td>1117ac20-3f54-11e8-b467-0ed5f89f718b</td>\n",
       "      <td>oqmd_model</td>\n",
       "    </tr>\n",
       "    <tr>\n",
       "      <th>1</th>\n",
       "      <td>9ff7a98c-3f54-11e8-b467-0ed5f89f718b</td>\n",
       "      <td>matminer_featurize</td>\n",
       "    </tr>\n",
       "    <tr>\n",
       "      <th>2</th>\n",
       "      <td>e127fb16-5852-11e8-9c2d-fa7ae01bbebc</td>\n",
       "      <td>resnet</td>\n",
       "    </tr>\n",
       "    <tr>\n",
       "      <th>3</th>\n",
       "      <td>d5a1653c-3ec5-4947-8c5a-28f6554ec339</td>\n",
       "      <td>matminer_util</td>\n",
       "    </tr>\n",
       "    <tr>\n",
       "      <th>4</th>\n",
       "      <td>9553d6a2-6a8d-4cda-8b81-7f38efab67e7</td>\n",
       "      <td>formation_energy</td>\n",
       "    </tr>\n",
       "  </tbody>\n",
       "</table>\n",
       "</div>"
      ],
      "text/plain": [
       "                                   uuid                name\n",
       "0  1117ac20-3f54-11e8-b467-0ed5f89f718b          oqmd_model\n",
       "1  9ff7a98c-3f54-11e8-b467-0ed5f89f718b  matminer_featurize\n",
       "2  e127fb16-5852-11e8-9c2d-fa7ae01bbebc              resnet\n",
       "3  d5a1653c-3ec5-4947-8c5a-28f6554ec339       matminer_util\n",
       "4  9553d6a2-6a8d-4cda-8b81-7f38efab67e7    formation_energy"
      ]
     },
     "execution_count": 20,
     "metadata": {},
     "output_type": "execute_result"
    }
   ],
   "source": [
    "df_serv = dl.get_servables()\n",
    "df_serv[['uuid','name']]"
   ]
  },
  {
   "cell_type": "code",
   "execution_count": 23,
   "metadata": {},
   "outputs": [],
   "source": [
    "servable_name = \"matminer_util\"\n",
    "servable_id = dl.get_id_by_name(servable_name)\n",
    "\n",
    "comps = []\n",
    "for i, row in df.iterrows():\n",
    "    data = {\"data\":[row.to_dict()]}\n",
    "    res = dl.infer(servable_id, data)\n",
    "    comps.append(res['composition_object'])\n",
    "df['composition_object'] = comps\n"
   ]
  },
  {
   "cell_type": "markdown",
   "metadata": {},
   "source": [
    "## Invoke the Matminer util servable to transform the compositions"
   ]
  },
  {
   "cell_type": "code",
   "execution_count": 6,
   "metadata": {
    "scrolled": true
   },
   "outputs": [
    {
     "data": {
      "text/html": [
       "<div>\n",
       "<style scoped>\n",
       "    .dataframe tbody tr th:only-of-type {\n",
       "        vertical-align: middle;\n",
       "    }\n",
       "\n",
       "    .dataframe tbody tr th {\n",
       "        vertical-align: top;\n",
       "    }\n",
       "\n",
       "    .dataframe thead th {\n",
       "        text-align: right;\n",
       "    }\n",
       "</style>\n",
       "<table border=\"1\" class=\"dataframe\">\n",
       "  <thead>\n",
       "    <tr style=\"text-align: right;\">\n",
       "      <th></th>\n",
       "      <th>composition</th>\n",
       "      <th>composition_object</th>\n",
       "    </tr>\n",
       "  </thead>\n",
       "  <tbody>\n",
       "    <tr>\n",
       "      <th>0</th>\n",
       "      <td>Al1Cu4</td>\n",
       "      <td>gANjcHltYXRnZW4uY29yZS5jb21wb3NpdGlvbgpDb21wb3...</td>\n",
       "    </tr>\n",
       "    <tr>\n",
       "      <th>1</th>\n",
       "      <td>Al1Cu1</td>\n",
       "      <td>gANjcHltYXRnZW4uY29yZS5jb21wb3NpdGlvbgpDb21wb3...</td>\n",
       "    </tr>\n",
       "    <tr>\n",
       "      <th>2</th>\n",
       "      <td>Al1Cu4</td>\n",
       "      <td>gANjcHltYXRnZW4uY29yZS5jb21wb3NpdGlvbgpDb21wb3...</td>\n",
       "    </tr>\n",
       "    <tr>\n",
       "      <th>3</th>\n",
       "      <td>Al2Cu1</td>\n",
       "      <td>gANjcHltYXRnZW4uY29yZS5jb21wb3NpdGlvbgpDb21wb3...</td>\n",
       "    </tr>\n",
       "    <tr>\n",
       "      <th>4</th>\n",
       "      <td>Al2Cu1</td>\n",
       "      <td>gANjcHltYXRnZW4uY29yZS5jb21wb3NpdGlvbgpDb21wb3...</td>\n",
       "    </tr>\n",
       "  </tbody>\n",
       "</table>\n",
       "</div>"
      ],
      "text/plain": [
       "  composition                                 composition_object\n",
       "0      Al1Cu4  gANjcHltYXRnZW4uY29yZS5jb21wb3NpdGlvbgpDb21wb3...\n",
       "1      Al1Cu1  gANjcHltYXRnZW4uY29yZS5jb21wb3NpdGlvbgpDb21wb3...\n",
       "2      Al1Cu4  gANjcHltYXRnZW4uY29yZS5jb21wb3NpdGlvbgpDb21wb3...\n",
       "3      Al2Cu1  gANjcHltYXRnZW4uY29yZS5jb21wb3NpdGlvbgpDb21wb3...\n",
       "4      Al2Cu1  gANjcHltYXRnZW4uY29yZS5jb21wb3NpdGlvbgpDb21wb3..."
      ]
     },
     "execution_count": 6,
     "metadata": {},
     "output_type": "execute_result"
    }
   ],
   "source": [
    "servable_name = \"matminer_util\"\n",
    "servable_id = df_serv[df_serv.name==servable_name]\n",
    "composition_objects = []\n",
    "for i, row in df.iterrows():\n",
    "    util_path = '{service}/servables/{servable_id}/run'.format(service=dlhub_service,\n",
    "                                                               servable_id=df_servables.loc[servable_name]['UUID'])\n",
    "    payload = {\"data\":[row.to_dict()]}\n",
    "\n",
    "    r = requests.post(util_path, json=payload)\n",
    "    lst_res = json.loads(r.text)\n",
    "    res = lst_res[0]\n",
    "    composition_objects.append(res['composition_object'])\n",
    "df['composition_object'] = composition_objects\n",
    "df.head()"
   ]
  },
  {
   "cell_type": "markdown",
   "metadata": {},
   "source": [
    "## Use the featurizer to transform the compositions"
   ]
  },
  {
   "cell_type": "code",
   "execution_count": 7,
   "metadata": {},
   "outputs": [
    {
     "data": {
      "text/html": [
       "<div>\n",
       "<style scoped>\n",
       "    .dataframe tbody tr th:only-of-type {\n",
       "        vertical-align: middle;\n",
       "    }\n",
       "\n",
       "    .dataframe tbody tr th {\n",
       "        vertical-align: top;\n",
       "    }\n",
       "\n",
       "    .dataframe thead th {\n",
       "        text-align: right;\n",
       "    }\n",
       "</style>\n",
       "<table border=\"1\" class=\"dataframe\">\n",
       "  <thead>\n",
       "    <tr style=\"text-align: right;\">\n",
       "      <th></th>\n",
       "      <th>composition</th>\n",
       "      <th>composition_object</th>\n",
       "      <th>features</th>\n",
       "    </tr>\n",
       "  </thead>\n",
       "  <tbody>\n",
       "    <tr>\n",
       "      <th>0</th>\n",
       "      <td>Al1Cu4</td>\n",
       "      <td>gANjcHltYXRnZW4uY29yZS5jb21wb3NpdGlvbgpDb21wb3...</td>\n",
       "      <td>[13.0, 29.0, 16.0, 25.8, 5.119999999999999, 29...</td>\n",
       "    </tr>\n",
       "    <tr>\n",
       "      <th>1</th>\n",
       "      <td>Al1Cu1</td>\n",
       "      <td>gANjcHltYXRnZW4uY29yZS5jb21wb3NpdGlvbgpDb21wb3...</td>\n",
       "      <td>[13.0, 29.0, 16.0, 21.0, 8.0, 13.0, 64.0, 73.0...</td>\n",
       "    </tr>\n",
       "    <tr>\n",
       "      <th>2</th>\n",
       "      <td>Al1Cu4</td>\n",
       "      <td>gANjcHltYXRnZW4uY29yZS5jb21wb3NpdGlvbgpDb21wb3...</td>\n",
       "      <td>[13.0, 29.0, 16.0, 25.8, 5.119999999999999, 29...</td>\n",
       "    </tr>\n",
       "    <tr>\n",
       "      <th>3</th>\n",
       "      <td>Al2Cu1</td>\n",
       "      <td>gANjcHltYXRnZW4uY29yZS5jb21wb3NpdGlvbgpDb21wb3...</td>\n",
       "      <td>[13.0, 29.0, 16.0, 18.333333333333332, 7.11111...</td>\n",
       "    </tr>\n",
       "    <tr>\n",
       "      <th>4</th>\n",
       "      <td>Al2Cu1</td>\n",
       "      <td>gANjcHltYXRnZW4uY29yZS5jb21wb3NpdGlvbgpDb21wb3...</td>\n",
       "      <td>[13.0, 29.0, 16.0, 18.333333333333332, 7.11111...</td>\n",
       "    </tr>\n",
       "  </tbody>\n",
       "</table>\n",
       "</div>"
      ],
      "text/plain": [
       "  composition                                 composition_object  \\\n",
       "0      Al1Cu4  gANjcHltYXRnZW4uY29yZS5jb21wb3NpdGlvbgpDb21wb3...   \n",
       "1      Al1Cu1  gANjcHltYXRnZW4uY29yZS5jb21wb3NpdGlvbgpDb21wb3...   \n",
       "2      Al1Cu4  gANjcHltYXRnZW4uY29yZS5jb21wb3NpdGlvbgpDb21wb3...   \n",
       "3      Al2Cu1  gANjcHltYXRnZW4uY29yZS5jb21wb3NpdGlvbgpDb21wb3...   \n",
       "4      Al2Cu1  gANjcHltYXRnZW4uY29yZS5jb21wb3NpdGlvbgpDb21wb3...   \n",
       "\n",
       "                                            features  \n",
       "0  [13.0, 29.0, 16.0, 25.8, 5.119999999999999, 29...  \n",
       "1  [13.0, 29.0, 16.0, 21.0, 8.0, 13.0, 64.0, 73.0...  \n",
       "2  [13.0, 29.0, 16.0, 25.8, 5.119999999999999, 29...  \n",
       "3  [13.0, 29.0, 16.0, 18.333333333333332, 7.11111...  \n",
       "4  [13.0, 29.0, 16.0, 18.333333333333332, 7.11111...  "
      ]
     },
     "execution_count": 7,
     "metadata": {},
     "output_type": "execute_result"
    }
   ],
   "source": [
    "servable_name = \"matminer_featurize\"\n",
    "features = [] \n",
    "\n",
    "for i, row in df.iterrows():\n",
    "    featurize_path = '{service}/servables/{servable_id}/run'.format(service=dlhub_service,\n",
    "                                             servable_id=df_servables.loc[servable_name]['UUID'])\n",
    "    payload = {\"data\":[{\"composition_object\": row['composition_object']}]}\n",
    "    #payload = {\"data\":[{\"composition_object\": comp['composition_object']}]}\n",
    "    r = requests.post(featurize_path, json=payload)\n",
    "    lst_res = json.loads(r.text)\n",
    "    if isinstance(lst_res, str):\n",
    "        lst_res = json.loads(lst_res)\n",
    "    res = lst_res[0]\n",
    "    #comp.update({\"features\": res['features']})\n",
    "    features.append(res['features'])\n",
    "df['features'] = features\n",
    "df.head()"
   ]
  },
  {
   "cell_type": "markdown",
   "metadata": {},
   "source": [
    "## Perform a prediction against the featurized values"
   ]
  },
  {
   "cell_type": "code",
   "execution_count": 8,
   "metadata": {},
   "outputs": [
    {
     "data": {
      "text/html": [
       "<div>\n",
       "<style scoped>\n",
       "    .dataframe tbody tr th:only-of-type {\n",
       "        vertical-align: middle;\n",
       "    }\n",
       "\n",
       "    .dataframe tbody tr th {\n",
       "        vertical-align: top;\n",
       "    }\n",
       "\n",
       "    .dataframe thead th {\n",
       "        text-align: right;\n",
       "    }\n",
       "</style>\n",
       "<table border=\"1\" class=\"dataframe\">\n",
       "  <thead>\n",
       "    <tr style=\"text-align: right;\">\n",
       "      <th></th>\n",
       "      <th>composition</th>\n",
       "      <th>composition_object</th>\n",
       "      <th>features</th>\n",
       "      <th>prediction</th>\n",
       "    </tr>\n",
       "  </thead>\n",
       "  <tbody>\n",
       "    <tr>\n",
       "      <th>0</th>\n",
       "      <td>Al1Cu4</td>\n",
       "      <td>gANjcHltYXRnZW4uY29yZS5jb21wb3NpdGlvbgpDb21wb3...</td>\n",
       "      <td>[13.0, 29.0, 16.0, 25.8, 5.119999999999999, 29...</td>\n",
       "      <td>-0.183846</td>\n",
       "    </tr>\n",
       "    <tr>\n",
       "      <th>1</th>\n",
       "      <td>Al1Cu1</td>\n",
       "      <td>gANjcHltYXRnZW4uY29yZS5jb21wb3NpdGlvbgpDb21wb3...</td>\n",
       "      <td>[13.0, 29.0, 16.0, 21.0, 8.0, 13.0, 64.0, 73.0...</td>\n",
       "      <td>-0.179726</td>\n",
       "    </tr>\n",
       "    <tr>\n",
       "      <th>2</th>\n",
       "      <td>Al1Cu4</td>\n",
       "      <td>gANjcHltYXRnZW4uY29yZS5jb21wb3NpdGlvbgpDb21wb3...</td>\n",
       "      <td>[13.0, 29.0, 16.0, 25.8, 5.119999999999999, 29...</td>\n",
       "      <td>-0.183846</td>\n",
       "    </tr>\n",
       "    <tr>\n",
       "      <th>3</th>\n",
       "      <td>Al2Cu1</td>\n",
       "      <td>gANjcHltYXRnZW4uY29yZS5jb21wb3NpdGlvbgpDb21wb3...</td>\n",
       "      <td>[13.0, 29.0, 16.0, 18.333333333333332, 7.11111...</td>\n",
       "      <td>-0.221089</td>\n",
       "    </tr>\n",
       "    <tr>\n",
       "      <th>4</th>\n",
       "      <td>Al2Cu1</td>\n",
       "      <td>gANjcHltYXRnZW4uY29yZS5jb21wb3NpdGlvbgpDb21wb3...</td>\n",
       "      <td>[13.0, 29.0, 16.0, 18.333333333333332, 7.11111...</td>\n",
       "      <td>-0.221089</td>\n",
       "    </tr>\n",
       "  </tbody>\n",
       "</table>\n",
       "</div>"
      ],
      "text/plain": [
       "  composition                                 composition_object  \\\n",
       "0      Al1Cu4  gANjcHltYXRnZW4uY29yZS5jb21wb3NpdGlvbgpDb21wb3...   \n",
       "1      Al1Cu1  gANjcHltYXRnZW4uY29yZS5jb21wb3NpdGlvbgpDb21wb3...   \n",
       "2      Al1Cu4  gANjcHltYXRnZW4uY29yZS5jb21wb3NpdGlvbgpDb21wb3...   \n",
       "3      Al2Cu1  gANjcHltYXRnZW4uY29yZS5jb21wb3NpdGlvbgpDb21wb3...   \n",
       "4      Al2Cu1  gANjcHltYXRnZW4uY29yZS5jb21wb3NpdGlvbgpDb21wb3...   \n",
       "\n",
       "                                            features  prediction  \n",
       "0  [13.0, 29.0, 16.0, 25.8, 5.119999999999999, 29...   -0.183846  \n",
       "1  [13.0, 29.0, 16.0, 21.0, 8.0, 13.0, 64.0, 73.0...   -0.179726  \n",
       "2  [13.0, 29.0, 16.0, 25.8, 5.119999999999999, 29...   -0.183846  \n",
       "3  [13.0, 29.0, 16.0, 18.333333333333332, 7.11111...   -0.221089  \n",
       "4  [13.0, 29.0, 16.0, 18.333333333333332, 7.11111...   -0.221089  "
      ]
     },
     "execution_count": 8,
     "metadata": {},
     "output_type": "execute_result"
    }
   ],
   "source": [
    "servable_name = \"oqmd_model\"\n",
    "predictions = []\n",
    "for i, row in df.iterrows():\n",
    "    predict_path = '{service}/servables/{servable_id}/run'.format(service=dlhub_service,\n",
    "                                             servable_id=df_servables.loc[servable_name]['UUID'])\n",
    "    payload = {\"data\":[{\"features\": row['features']}]}\n",
    "    r = requests.post(predict_path, json=payload)\n",
    "    lst_res = json.loads(r.text)\n",
    "    if isinstance(lst_res, str):\n",
    "        lst_res = json.loads(lst_res)\n",
    "    res = lst_res[0]\n",
    "    predictions.append(res['prediction'])\n",
    "df['prediction'] = predictions\n",
    "df.head()"
   ]
  },
  {
   "cell_type": "markdown",
   "metadata": {},
   "source": [
    "## Visualize the result"
   ]
  },
  {
   "cell_type": "code",
   "execution_count": 99,
   "metadata": {
    "collapsed": true
   },
   "outputs": [],
   "source": [
    "# TODO -- I think Logan had a way to see what this actually meant?"
   ]
  },
  {
   "cell_type": "markdown",
   "metadata": {},
   "source": [
    "# BNL model\n",
    "\n",
    "Use Globus Auth to get a token to pull data from Petrel then pass it through the BNL model."
   ]
  },
  {
   "cell_type": "markdown",
   "metadata": {},
   "source": [
    "### Set up globus"
   ]
  },
  {
   "cell_type": "code",
   "execution_count": 12,
   "metadata": {},
   "outputs": [
    {
     "name": "stdout",
     "output_type": "stream",
     "text": [
      "Please go to this URL and login: https://auth.globus.org/v2/oauth2/authorize?client_id=d9366faf-42a5-4840-b3f5-95711f64bf36&redirect_uri=https%3A%2F%2Fauth.globus.org%2Fv2%2Fweb%2Fauth-code&scope=https%3A%2F%2Fauth.globus.org%2Fscopes%2F56ceac29-e98a-440a-a594-b41e7a084b62%2Fall&state=_default&response_type=code&code_challenge=D33qYfCVUg0uD8FVd5QDQVBS9A8YgG6KJtAWXCSZJic&code_challenge_method=S256&access_type=online\n",
      "Please enter the code you get after login here: 7k1jLIqPJbKW2kTsAxKrEZr9Uwc1tx\n"
     ]
    }
   ],
   "source": [
    "CLIENT_ID = 'd9366faf-42a5-4840-b3f5-95711f64bf36'\n",
    "client = globus_sdk.NativeAppAuthClient(CLIENT_ID)\n",
    "scopes = ['']\n",
    "client.oauth2_start_flow(requested_scopes='https://auth.globus.org/scopes/56ceac29-e98a-440a-a594-b41e7a084b62/all')\n",
    "\n",
    "authorize_url = client.oauth2_get_authorize_url()\n",
    "print('Please go to this URL and login: {0}'.format(authorize_url))\n",
    "\n",
    "get_input = getattr(__builtins__, 'raw_input', input)\n",
    "auth_code = get_input(\n",
    "    'Please enter the code you get after login here: ').strip()\n",
    "token_response = client.oauth2_exchange_code_for_tokens(auth_code)"
   ]
  },
  {
   "cell_type": "code",
   "execution_count": 13,
   "metadata": {},
   "outputs": [
    {
     "name": "stdout",
     "output_type": "stream",
     "text": [
      "{\n",
      "  \"petrel_https_server\": {\n",
      "    \"scope\": \"https://auth.globus.org/scopes/56ceac29-e98a-440a-a594-b41e7a084b62/all\",\n",
      "    \"access_token\": \"AgVWyzd4oz0B1ooWbK150WomWMedMeEVkzkgwKEJP1NJ8vM4rrUbCykGlgkD12aWzvJNNn0oPnqEpGUlEVmnlsVdY3\",\n",
      "    \"refresh_token\": null,\n",
      "    \"token_type\": \"Bearer\",\n",
      "    \"expires_at_seconds\": 1528400641,\n",
      "    \"resource_server\": \"petrel_https_server\"\n",
      "  }\n",
      "}\n"
     ]
    }
   ],
   "source": [
    "print (token_response)\n",
    "token = token_response.by_resource_server['petrel_https_server']['access_token']"
   ]
  },
  {
   "cell_type": "markdown",
   "metadata": {},
   "source": [
    "## Get a list of data from Petrel"
   ]
  },
  {
   "cell_type": "code",
   "execution_count": 11,
   "metadata": {},
   "outputs": [],
   "source": [
    "# TODO -- put an ls here"
   ]
  },
  {
   "cell_type": "markdown",
   "metadata": {},
   "source": [
    "## Generate a list of data to invoke against the model"
   ]
  },
  {
   "cell_type": "code",
   "execution_count": 14,
   "metadata": {},
   "outputs": [
    {
     "name": "stdout",
     "output_type": "stream",
     "text": [
      "https://e38ee745-6d04-11e5-ba46-22000b92c6ec.e.globus.org/Yager/model/raw/01470b9d_varied_sm/00000005.mat\n",
      "https://e38ee745-6d04-11e5-ba46-22000b92c6ec.e.globus.org/Yager/model/raw/01470b9d_varied_sm/00000006.mat\n",
      "https://e38ee745-6d04-11e5-ba46-22000b92c6ec.e.globus.org/Yager/model/raw/01470b9d_varied_sm/00000007.mat\n",
      "https://e38ee745-6d04-11e5-ba46-22000b92c6ec.e.globus.org/Yager/model/raw/01470b9d_varied_sm/00000008.mat\n",
      "https://e38ee745-6d04-11e5-ba46-22000b92c6ec.e.globus.org/Yager/model/raw/01470b9d_varied_sm/00000009.mat\n"
     ]
    }
   ],
   "source": [
    "file_start = \"https://e38ee745-6d04-11e5-ba46-22000b92c6ec.e.globus.org/Yager/model/raw/01470b9d_varied_sm/0000000\"\n",
    "file_end = \".mat\"\n",
    "\n",
    "data = []\n",
    "for i in range (5, 10):\n",
    "    filename = file_start + str(i) + file_end\n",
    "    data.append({\"file\": filename, \"token\": token})\n",
    "    print (filename)"
   ]
  },
  {
   "cell_type": "markdown",
   "metadata": {},
   "source": [
    "## Find the BNL model uuid from DLHub"
   ]
  },
  {
   "cell_type": "code",
   "execution_count": 15,
   "metadata": {},
   "outputs": [
    {
     "name": "stdout",
     "output_type": "stream",
     "text": [
      "resnet: e127fb16-5852-11e8-9c2d-fa7ae01bbebc\n"
     ]
    }
   ],
   "source": [
    "r = requests.get(\"http://35.168.128.54:5000/api/v1/servables\")\n",
    "r = json.loads(r.text)\n",
    "servables = {}\n",
    "for s in r:\n",
    "    servables[s['name']] = s['uuid']\n",
    "\n",
    "print (\"resnet: \" + servables['resnet'])"
   ]
  },
  {
   "cell_type": "markdown",
   "metadata": {},
   "source": [
    "## Invoke the BNL model"
   ]
  },
  {
   "cell_type": "code",
   "execution_count": 21,
   "metadata": {},
   "outputs": [],
   "source": [
    "for d in data:\n",
    "    bnl_path = 'http://35.168.128.54:5000/api/v1/servables/%s/run' % servables['resnet']\n",
    "    payload = {\"data\":[d]}\n",
    "    r = requests.post(bnl_path, json=payload)\n",
    "    lst_res = json.loads(r.text)\n",
    "    if isinstance(lst_res, str):\n",
    "        lst_res = json.loads(lst_res)\n",
    "    res = lst_res[0]\n",
    "    d.update({\"prediction\": res})\n",
    "\n",
    "    #print (d['file'] + \": \" + str(d['result']))"
   ]
  },
  {
   "cell_type": "code",
   "execution_count": 22,
   "metadata": {},
   "outputs": [
    {
     "data": {
      "text/html": [
       "<div>\n",
       "<style>\n",
       "    .dataframe thead tr:only-child th {\n",
       "        text-align: right;\n",
       "    }\n",
       "\n",
       "    .dataframe thead th {\n",
       "        text-align: left;\n",
       "    }\n",
       "\n",
       "    .dataframe tbody tr th {\n",
       "        vertical-align: top;\n",
       "    }\n",
       "</style>\n",
       "<table border=\"1\" class=\"dataframe\">\n",
       "  <thead>\n",
       "    <tr style=\"text-align: right;\">\n",
       "      <th></th>\n",
       "      <th>file</th>\n",
       "      <th>prediction</th>\n",
       "      <th>result</th>\n",
       "      <th>token</th>\n",
       "    </tr>\n",
       "  </thead>\n",
       "  <tbody>\n",
       "    <tr>\n",
       "      <th>0</th>\n",
       "      <td>https://e38ee745-6d04-11e5-ba46-22000b92c6ec.e...</td>\n",
       "      <td>[[1.773031362972688e-05, 0.9997794032096863, 0...</td>\n",
       "      <td>[[1.773031362972688e-05, 0.9997794032096863, 0...</td>\n",
       "      <td>AgVWyzd4oz0B1ooWbK150WomWMedMeEVkzkgwKEJP1NJ8v...</td>\n",
       "    </tr>\n",
       "    <tr>\n",
       "      <th>1</th>\n",
       "      <td>https://e38ee745-6d04-11e5-ba46-22000b92c6ec.e...</td>\n",
       "      <td>[[1.7599653801880777e-05, 0.999782383441925, 0...</td>\n",
       "      <td>[[1.7599653801880777e-05, 0.999782383441925, 0...</td>\n",
       "      <td>AgVWyzd4oz0B1ooWbK150WomWMedMeEVkzkgwKEJP1NJ8v...</td>\n",
       "    </tr>\n",
       "    <tr>\n",
       "      <th>2</th>\n",
       "      <td>https://e38ee745-6d04-11e5-ba46-22000b92c6ec.e...</td>\n",
       "      <td>[[1.7730635590851307e-05, 0.9997794032096863, ...</td>\n",
       "      <td>[[1.7730635590851307e-05, 0.9997794032096863, ...</td>\n",
       "      <td>AgVWyzd4oz0B1ooWbK150WomWMedMeEVkzkgwKEJP1NJ8v...</td>\n",
       "    </tr>\n",
       "    <tr>\n",
       "      <th>3</th>\n",
       "      <td>https://e38ee745-6d04-11e5-ba46-22000b92c6ec.e...</td>\n",
       "      <td>[[1.773055009834934e-05, 0.9997794032096863, 0...</td>\n",
       "      <td>[[1.773055009834934e-05, 0.9997794032096863, 0...</td>\n",
       "      <td>AgVWyzd4oz0B1ooWbK150WomWMedMeEVkzkgwKEJP1NJ8v...</td>\n",
       "    </tr>\n",
       "    <tr>\n",
       "      <th>4</th>\n",
       "      <td>https://e38ee745-6d04-11e5-ba46-22000b92c6ec.e...</td>\n",
       "      <td>[[1.7716352886054665e-05, 0.9997794032096863, ...</td>\n",
       "      <td>[[1.7716352886054665e-05, 0.9997794032096863, ...</td>\n",
       "      <td>AgVWyzd4oz0B1ooWbK150WomWMedMeEVkzkgwKEJP1NJ8v...</td>\n",
       "    </tr>\n",
       "  </tbody>\n",
       "</table>\n",
       "</div>"
      ],
      "text/plain": [
       "                                                file  \\\n",
       "0  https://e38ee745-6d04-11e5-ba46-22000b92c6ec.e...   \n",
       "1  https://e38ee745-6d04-11e5-ba46-22000b92c6ec.e...   \n",
       "2  https://e38ee745-6d04-11e5-ba46-22000b92c6ec.e...   \n",
       "3  https://e38ee745-6d04-11e5-ba46-22000b92c6ec.e...   \n",
       "4  https://e38ee745-6d04-11e5-ba46-22000b92c6ec.e...   \n",
       "\n",
       "                                          prediction  \\\n",
       "0  [[1.773031362972688e-05, 0.9997794032096863, 0...   \n",
       "1  [[1.7599653801880777e-05, 0.999782383441925, 0...   \n",
       "2  [[1.7730635590851307e-05, 0.9997794032096863, ...   \n",
       "3  [[1.773055009834934e-05, 0.9997794032096863, 0...   \n",
       "4  [[1.7716352886054665e-05, 0.9997794032096863, ...   \n",
       "\n",
       "                                              result  \\\n",
       "0  [[1.773031362972688e-05, 0.9997794032096863, 0...   \n",
       "1  [[1.7599653801880777e-05, 0.999782383441925, 0...   \n",
       "2  [[1.7730635590851307e-05, 0.9997794032096863, ...   \n",
       "3  [[1.773055009834934e-05, 0.9997794032096863, 0...   \n",
       "4  [[1.7716352886054665e-05, 0.9997794032096863, ...   \n",
       "\n",
       "                                               token  \n",
       "0  AgVWyzd4oz0B1ooWbK150WomWMedMeEVkzkgwKEJP1NJ8v...  \n",
       "1  AgVWyzd4oz0B1ooWbK150WomWMedMeEVkzkgwKEJP1NJ8v...  \n",
       "2  AgVWyzd4oz0B1ooWbK150WomWMedMeEVkzkgwKEJP1NJ8v...  \n",
       "3  AgVWyzd4oz0B1ooWbK150WomWMedMeEVkzkgwKEJP1NJ8v...  \n",
       "4  AgVWyzd4oz0B1ooWbK150WomWMedMeEVkzkgwKEJP1NJ8v...  "
      ]
     },
     "execution_count": 22,
     "metadata": {},
     "output_type": "execute_result"
    }
   ],
   "source": [
    "df_bnl = pd.DataFrame(data)\n",
    "df_bnl.head()"
   ]
  },
  {
   "cell_type": "code",
   "execution_count": 23,
   "metadata": {},
   "outputs": [
    {
     "data": {
      "text/plain": [
       "[[1.773031362972688e-05,\n",
       "  0.9997794032096863,\n",
       "  0.0009798369137570262,\n",
       "  2.1729734331343842e-11,\n",
       "  7.254519901467305e-11,\n",
       "  2.370756737946067e-05,\n",
       "  0.7460677027702332,\n",
       "  0.08216768503189087,\n",
       "  0.012182140722870827,\n",
       "  0.0019631613977253437,\n",
       "  4.0085879504658806e-07,\n",
       "  0.0004289932840038091,\n",
       "  0.027924219146370888,\n",
       "  0.3651340901851654,\n",
       "  5.8086174249183387e-05,\n",
       "  0.008119652979075909,\n",
       "  0.0017521473346278071]]"
      ]
     },
     "execution_count": 23,
     "metadata": {},
     "output_type": "execute_result"
    }
   ],
   "source": [
    "df_bnl.iloc[0]['prediction']"
   ]
  },
  {
   "cell_type": "code",
   "execution_count": null,
   "metadata": {},
   "outputs": [],
   "source": []
  }
 ],
 "metadata": {
  "kernelspec": {
   "display_name": "Python 3",
   "language": "python",
   "name": "python3"
  },
  "language_info": {
   "codemirror_mode": {
    "name": "ipython",
    "version": 3
   },
   "file_extension": ".py",
   "mimetype": "text/x-python",
   "name": "python",
   "nbconvert_exporter": "python",
   "pygments_lexer": "ipython3",
   "version": "3.6.5"
  }
 },
 "nbformat": 4,
 "nbformat_minor": 2
}
