{
 "cells": [
  {
   "cell_type": "markdown",
   "metadata": {},
   "source": [
    "## Notebook to Ingest Models to DLHub and Upload Metadata to Globus Search"
   ]
  },
  {
   "cell_type": "markdown",
   "metadata": {},
   "source": [
    "### Install Requirements:\n",
    "\n",
    "NOTE: Must configure the awscli credentials after pip installing\n",
    "\n",
    "boto3 --> pip install boto3<br/>\n",
    "requests --> pip install requests<br/>\n",
    "pandas --> pip install pandas<br/>\n",
    "mdf_toolbox --> pip install mdf_toolbox<br/>\n",
    "dlhub_client --> pip install dlhub_client<br/>"
   ]
  },
  {
   "cell_type": "markdown",
   "metadata": {},
   "source": [
    "### Place paths here for notebook to run"
   ]
  },
  {
   "cell_type": "code",
   "execution_count": null,
   "metadata": {},
   "outputs": [],
   "source": [
    "# Place path to model's container in the model_path and the name of the container in the parent_dir\n",
    "model_path = \"\" # e.g. \"parsl-containers/cifar10\"\n",
    "parent_dir = \"\" # e.g. \"cifar10\"\n",
    "# Place path to json metadata file in meta_path\n",
    "meta_path = \"\" # e.g. \"metadata/cifar10.json\"\n",
    "# Place model name here (will generally be the same as parent_dir but not always which is why it's a separate field)\n",
    "model_name = \"\" # e.g. \"cifar10\"\n",
    "# (Optional) The globus index to upload search metadata to. Defaults to dlhub-test\n",
    "index = \"dlhub-test\""
   ]
  },
  {
   "cell_type": "markdown",
   "metadata": {},
   "source": [
    "### Imports"
   ]
  },
  {
   "cell_type": "code",
   "execution_count": null,
   "metadata": {},
   "outputs": [],
   "source": [
    "from ingest import upload_directory, ingest_metadata, ingest_to_search"
   ]
  },
  {
   "cell_type": "markdown",
   "metadata": {},
   "source": [
    "NOTE: Not sure what the description file is, so it is left out of the process"
   ]
  },
  {
   "cell_type": "markdown",
   "metadata": {},
   "source": [
    "### Place Model on s3"
   ]
  },
  {
   "cell_type": "code",
   "execution_count": null,
   "metadata": {},
   "outputs": [],
   "source": [
    "upload_directory(model_path, parent_dir)"
   ]
  },
  {
   "cell_type": "markdown",
   "metadata": {},
   "source": [
    "### Ingest Metadata to DLHub Servables"
   ]
  },
  {
   "cell_type": "code",
   "execution_count": null,
   "metadata": {},
   "outputs": [],
   "source": [
    "success = ingest_metadata(path=meta_path)\n",
    "if not success:\n",
    "    print(\"Error when ingesting the metadata\")"
   ]
  },
  {
   "cell_type": "markdown",
   "metadata": {},
   "source": [
    "### Ingest Metadata to Globus Search"
   ]
  },
  {
   "cell_type": "code",
   "execution_count": null,
   "metadata": {},
   "outputs": [],
   "source": [
    "ingest_to_search(model_name, meta_path, idx=index)"
   ]
  }
 ],
 "metadata": {
  "kernelspec": {
   "display_name": "venv",
   "language": "python",
   "name": "venv"
  },
  "language_info": {
   "codemirror_mode": {
    "name": "ipython",
    "version": 3
   },
   "file_extension": ".py",
   "mimetype": "text/x-python",
   "name": "python",
   "nbconvert_exporter": "python",
   "pygments_lexer": "ipython3",
   "version": "3.6.5"
  }
 },
 "nbformat": 4,
 "nbformat_minor": 2
}
