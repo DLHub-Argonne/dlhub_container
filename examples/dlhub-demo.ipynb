{
 "cells": [
  {
   "cell_type": "markdown",
   "metadata": {},
   "source": [
    "# DLHub: A Data and Learning Hub for Science\n",
    "\n",
    "DLHub is a self-service platform for publishing, applying, and creating machine learning (ML) models, including deep learning (DL) models, and associated data transformations. It is:\n",
    "\n",
    "1. A **model serving infrastructure**: Users can easily run or test models (and also other related services, such as data transformations) via simple Web calls.\n",
    "\n",
    "2. A **model registry**: Model developers can easily publish models, along with associated descriptive metadata and training data, so that they can then be discovered, cited, and reused by others.\n",
    "\n",
    "3. A **model development system**: Developers of new models can easily access the data and computing infrastructure needed to re-train models for new applications.\n",
    "\n",
    "DLHub benefits users in many ways. Data scientists can publish models (i.e., architectures and weights) and methods. Other scientists can apply existing models to new data with ease (e.g., by querying a prediction API for a deployed model). They can easily create new models with state-of-the-art techniques. Together, these capabilities lower barriers to employing ML/DL, making it easier for researchers to benefit from advances in ML/DL technologies.\n",
    "\n",
    "\n",
    "## This notebook\n",
    "This notebook showcases three DLHub use cases: \n",
    "\n",
    "1. A **materials property predictor** that extracts data about crystalline materials from the Materials Data Facility before passing it through three servables on DLHub to predict their stability.\n",
    "\n",
    "2. A **deep learning model for labeling x-ray diffraction images** that generates descriptive tags for x-ray diffraction images.\n",
    "\n",
    "3. A model used for **discovery of metallic glasses**."
   ]
  },
  {
   "cell_type": "markdown",
   "metadata": {},
   "source": [
    "![servables](img/servables.png)"
   ]
  },
  {
   "cell_type": "markdown",
   "metadata": {},
   "source": [
    "---\n",
    "# Example 1: A Predictive Model for Formation Enthalpy\n",
    "\n",
    "Predict the formation enthalpy (a measure of energetic stability) of several crystalline compounds using a machine learning model based on method by [Ward et al.](https://www.nature.com/articles/npjcompumats201628) and data from the OQMD. Here, we show all three steps of running the model - parsing a string to a [pymatgen](http://pymatgen.org/) object, using [matminer](https://hackingmaterials.github.io/matminer/) to compute features, and running a [scikit-learn](http://scikit-learn.org/stable/) model - as independent steps, but you can also execute the entire pipeline as a single call.\n",
    "\n",
    "![pipeline](img/formation_enthalpy_pipeline.png)\n"
   ]
  },
  {
   "cell_type": "code",
   "execution_count": 1,
   "metadata": {},
   "outputs": [],
   "source": [
    "import os\n",
    "import sys\n",
    "import json\n",
    "import requests\n",
    "import matplotlib\n",
    "import globus_sdk\n",
    "import numpy as np\n",
    "import pandas as pd\n",
    "import matplotlib.pyplot as plt\n",
    "from tqdm import tqdm_notebook as tqdm\n",
    "%matplotlib inline\n",
    "\n",
    "## MDF and DLHub imports\n",
    "from mdf_forge.forge import Forge\n",
    "import mdf_toolbox\n",
    "from dlhub_client import *"
   ]
  },
  {
   "cell_type": "code",
   "execution_count": 2,
   "metadata": {},
   "outputs": [],
   "source": [
    "mdf = Forge()\n",
    "dl = DLHub()\n",
    "creds = mdf_toolbox.login(app_name=\"DLHub\", services=[\"petrel\", \"data_mdf\", \"transfer\"])"
   ]
  },
  {
   "cell_type": "markdown",
   "metadata": {},
   "source": [
    "### Get data from MDF\n",
    "\n",
    "Gather the composition of a few Al-Cu compounds for which we will predict the formation enthalpy."
   ]
  },
  {
   "cell_type": "code",
   "execution_count": 3,
   "metadata": {},
   "outputs": [
    {
     "data": {
      "text/html": [
       "<div>\n",
       "<style scoped>\n",
       "    .dataframe tbody tr th:only-of-type {\n",
       "        vertical-align: middle;\n",
       "    }\n",
       "\n",
       "    .dataframe tbody tr th {\n",
       "        vertical-align: top;\n",
       "    }\n",
       "\n",
       "    .dataframe thead th {\n",
       "        text-align: right;\n",
       "    }\n",
       "</style>\n",
       "<table border=\"1\" class=\"dataframe\">\n",
       "  <thead>\n",
       "    <tr style=\"text-align: right;\">\n",
       "      <th></th>\n",
       "      <th>composition</th>\n",
       "    </tr>\n",
       "  </thead>\n",
       "  <tbody>\n",
       "    <tr>\n",
       "      <th>0</th>\n",
       "      <td>Al1Cu4</td>\n",
       "    </tr>\n",
       "    <tr>\n",
       "      <th>1</th>\n",
       "      <td>Al1Cu1</td>\n",
       "    </tr>\n",
       "    <tr>\n",
       "      <th>2</th>\n",
       "      <td>Al1Cu4</td>\n",
       "    </tr>\n",
       "    <tr>\n",
       "      <th>3</th>\n",
       "      <td>Al2Cu1</td>\n",
       "    </tr>\n",
       "    <tr>\n",
       "      <th>4</th>\n",
       "      <td>Al2Cu1</td>\n",
       "    </tr>\n",
       "  </tbody>\n",
       "</table>\n",
       "</div>"
      ],
      "text/plain": [
       "  composition\n",
       "0      Al1Cu4\n",
       "1      Al1Cu1\n",
       "2      Al1Cu4\n",
       "3      Al2Cu1\n",
       "4      Al2Cu1"
      ]
     },
     "execution_count": 3,
     "metadata": {},
     "output_type": "execute_result"
    }
   ],
   "source": [
    "results = mdf.search_by_elements(elements=[\"Al\",\"Cu\"], \n",
    "                                 source_names=[\"oqmd\"], \n",
    "                                 limit=20)\n",
    "compositions = []\n",
    "for res in results:\n",
    "    compositions.append({\"composition\": res['material']['composition']})\n",
    "df = pd.DataFrame(compositions)\n",
    "df.head()"
   ]
  },
  {
   "cell_type": "markdown",
   "metadata": {},
   "source": [
    "Our dataframe now contains the composition of our materials"
   ]
  },
  {
   "cell_type": "markdown",
   "metadata": {},
   "source": [
    "### Query DLHub to Find the Model Steps\n",
    "The `get_servables` command returns a list of all of the servables available in DLHub. Each servable is identified by a human-friendly name and human-unfriendly UUID that is required by the service, but we provide operations so that you don't need to remember it."
   ]
  },
  {
   "cell_type": "code",
   "execution_count": 4,
   "metadata": {},
   "outputs": [
    {
     "name": "stdout",
     "output_type": "stream",
     "text": [
      "DLHub has 6 servables!\n"
     ]
    }
   ],
   "source": [
    "df_serv = dl.get_servables()\n",
    "print('DLHub has {} servables!'.format(len(df_serv)))"
   ]
  },
  {
   "cell_type": "markdown",
   "metadata": {},
   "source": [
    "Out of these, we can easily find the first step in our pipeline: the parser conversion"
   ]
  },
  {
   "cell_type": "code",
   "execution_count": 5,
   "metadata": {},
   "outputs": [
    {
     "data": {
      "text/html": [
       "<div>\n",
       "<style scoped>\n",
       "    .dataframe tbody tr th:only-of-type {\n",
       "        vertical-align: middle;\n",
       "    }\n",
       "\n",
       "    .dataframe tbody tr th {\n",
       "        vertical-align: top;\n",
       "    }\n",
       "\n",
       "    .dataframe thead th {\n",
       "        text-align: right;\n",
       "    }\n",
       "</style>\n",
       "<table border=\"1\" class=\"dataframe\">\n",
       "  <thead>\n",
       "    <tr style=\"text-align: right;\">\n",
       "      <th></th>\n",
       "      <th>uuid</th>\n",
       "      <th>name</th>\n",
       "    </tr>\n",
       "  </thead>\n",
       "  <tbody>\n",
       "    <tr>\n",
       "      <th>0</th>\n",
       "      <td>1117ac20-3f54-11e8-b467-0ed5f89f718b</td>\n",
       "      <td>oqmd_model</td>\n",
       "    </tr>\n",
       "    <tr>\n",
       "      <th>1</th>\n",
       "      <td>9ff7a98c-3f54-11e8-b467-0ed5f89f718b</td>\n",
       "      <td>matminer_featurize</td>\n",
       "    </tr>\n",
       "    <tr>\n",
       "      <th>2</th>\n",
       "      <td>e127fb16-5852-11e8-9c2d-fa7ae01bbebc</td>\n",
       "      <td>resnet</td>\n",
       "    </tr>\n",
       "    <tr>\n",
       "      <th>3</th>\n",
       "      <td>d5a1653c-3ec5-4947-8c5a-28f6554ec339</td>\n",
       "      <td>matminer_util</td>\n",
       "    </tr>\n",
       "    <tr>\n",
       "      <th>4</th>\n",
       "      <td>9553d6a2-6a8d-4cda-8b81-7f38efab67e7</td>\n",
       "      <td>formation_energy</td>\n",
       "    </tr>\n",
       "    <tr>\n",
       "      <th>5</th>\n",
       "      <td>8c78939e-6422-4627-80ea-03ed8bfdf6ea</td>\n",
       "      <td>bmg</td>\n",
       "    </tr>\n",
       "  </tbody>\n",
       "</table>\n",
       "</div>"
      ],
      "text/plain": [
       "                                   uuid                name\n",
       "0  1117ac20-3f54-11e8-b467-0ed5f89f718b          oqmd_model\n",
       "1  9ff7a98c-3f54-11e8-b467-0ed5f89f718b  matminer_featurize\n",
       "2  e127fb16-5852-11e8-9c2d-fa7ae01bbebc              resnet\n",
       "3  d5a1653c-3ec5-4947-8c5a-28f6554ec339       matminer_util\n",
       "4  9553d6a2-6a8d-4cda-8b81-7f38efab67e7    formation_energy\n",
       "5  8c78939e-6422-4627-80ea-03ed8bfdf6ea                 bmg"
      ]
     },
     "execution_count": 5,
     "metadata": {},
     "output_type": "execute_result"
    }
   ],
   "source": [
    "df_serv[['uuid', 'name']]"
   ]
  },
  {
   "cell_type": "code",
   "execution_count": 6,
   "metadata": {},
   "outputs": [
    {
     "name": "stdout",
     "output_type": "stream",
     "text": [
      "Our first step is ID: d5a1653c-3ec5-4947-8c5a-28f6554ec339\n"
     ]
    }
   ],
   "source": [
    "servable_name = \"matminer_util\"\n",
    "servable_id = dl.get_id_by_name(servable_name)\n",
    "print('Our first step is ID:', servable_id)"
   ]
  },
  {
   "cell_type": "markdown",
   "metadata": {},
   "source": [
    "### Convert the Compositions to Pymatgen Objects\n",
    "The first step in running the formation enthalpy model is to take a string, and parse it to a pymatgen Composition object that works with our next step in the toolchain. We seperate this part from the later steps in the pipeline so that other tools could reuse the Composition parser, and we can do some clever pipelining to make the models faster. Normally, you don't need to know this part exists. \n",
    "\n",
    "![pipeline](img/formation_enthalpy_1.png)"
   ]
  },
  {
   "cell_type": "code",
   "execution_count": 7,
   "metadata": {},
   "outputs": [
    {
     "data": {
      "application/vnd.jupyter.widget-view+json": {
       "model_id": "41cd2a2231ed440d9cc841791831c8ce",
       "version_major": 2,
       "version_minor": 0
      },
      "text/plain": [
       "HBox(children=(IntProgress(value=0, max=20), HTML(value='')))"
      ]
     },
     "metadata": {},
     "output_type": "display_data"
    },
    {
     "name": "stdout",
     "output_type": "stream",
     "text": [
      "\n"
     ]
    },
    {
     "data": {
      "text/html": [
       "<div>\n",
       "<style scoped>\n",
       "    .dataframe tbody tr th:only-of-type {\n",
       "        vertical-align: middle;\n",
       "    }\n",
       "\n",
       "    .dataframe tbody tr th {\n",
       "        vertical-align: top;\n",
       "    }\n",
       "\n",
       "    .dataframe thead th {\n",
       "        text-align: right;\n",
       "    }\n",
       "</style>\n",
       "<table border=\"1\" class=\"dataframe\">\n",
       "  <thead>\n",
       "    <tr style=\"text-align: right;\">\n",
       "      <th></th>\n",
       "      <th>composition</th>\n",
       "      <th>composition_object</th>\n",
       "    </tr>\n",
       "  </thead>\n",
       "  <tbody>\n",
       "    <tr>\n",
       "      <th>0</th>\n",
       "      <td>Al1Cu4</td>\n",
       "      <td>gANjcHltYXRnZW4uY29yZS5jb21wb3NpdGlvbgpDb21wb3...</td>\n",
       "    </tr>\n",
       "    <tr>\n",
       "      <th>1</th>\n",
       "      <td>Al1Cu1</td>\n",
       "      <td>gANjcHltYXRnZW4uY29yZS5jb21wb3NpdGlvbgpDb21wb3...</td>\n",
       "    </tr>\n",
       "  </tbody>\n",
       "</table>\n",
       "</div>"
      ],
      "text/plain": [
       "  composition                                 composition_object\n",
       "0      Al1Cu4  gANjcHltYXRnZW4uY29yZS5jb21wb3NpdGlvbgpDb21wb3...\n",
       "1      Al1Cu1  gANjcHltYXRnZW4uY29yZS5jb21wb3NpdGlvbgpDb21wb3..."
      ]
     },
     "execution_count": 7,
     "metadata": {},
     "output_type": "execute_result"
    }
   ],
   "source": [
    "comps = []\n",
    "for i, row in tqdm(df.iterrows(), total=len(df)):\n",
    "    data = {\"data\":[{\"composition\":row['composition']}]}\n",
    "    res = dl.run(servable_id, data)\n",
    "    comps.append(res['composition_object'][0])\n",
    "df['composition_object'] = comps\n",
    "df.head(2)"
   ]
  },
  {
   "cell_type": "markdown",
   "metadata": {},
   "source": [
    "DLHub uses JSON to communicate between processes. As Python objects are not normally JSON-serializable, we first convert it to a `base64` string representation before sending it back to you. You can pretend this does not exist."
   ]
  },
  {
   "cell_type": "markdown",
   "metadata": {},
   "source": [
    "### Use Matminer to Compute Features\n",
    "The key step of building a machine learning models of materials data is to compute informative inputs. For the composition of a material, these are things like the average radius of each of the atoms. We compute 145 of such features using matminer.\n",
    "\n",
    "![pipeline](img/formation_enthalpy_2.png)"
   ]
  },
  {
   "cell_type": "code",
   "execution_count": 8,
   "metadata": {},
   "outputs": [
    {
     "data": {
      "application/vnd.jupyter.widget-view+json": {
       "model_id": "50b6865ad6c847efbfe3827341396050",
       "version_major": 2,
       "version_minor": 0
      },
      "text/plain": [
       "HBox(children=(IntProgress(value=0, max=20), HTML(value='')))"
      ]
     },
     "metadata": {},
     "output_type": "display_data"
    },
    {
     "name": "stdout",
     "output_type": "stream",
     "text": [
      "\n"
     ]
    },
    {
     "data": {
      "text/html": [
       "<div>\n",
       "<style scoped>\n",
       "    .dataframe tbody tr th:only-of-type {\n",
       "        vertical-align: middle;\n",
       "    }\n",
       "\n",
       "    .dataframe tbody tr th {\n",
       "        vertical-align: top;\n",
       "    }\n",
       "\n",
       "    .dataframe thead th {\n",
       "        text-align: right;\n",
       "    }\n",
       "</style>\n",
       "<table border=\"1\" class=\"dataframe\">\n",
       "  <thead>\n",
       "    <tr style=\"text-align: right;\">\n",
       "      <th></th>\n",
       "      <th>composition</th>\n",
       "      <th>composition_object</th>\n",
       "      <th>features</th>\n",
       "    </tr>\n",
       "  </thead>\n",
       "  <tbody>\n",
       "    <tr>\n",
       "      <th>0</th>\n",
       "      <td>Al1Cu4</td>\n",
       "      <td>gANjcHltYXRnZW4uY29yZS5jb21wb3NpdGlvbgpDb21wb3...</td>\n",
       "      <td>[13.0, 29.0, 16.0, 25.8, 5.119999999999999, 29...</td>\n",
       "    </tr>\n",
       "    <tr>\n",
       "      <th>1</th>\n",
       "      <td>Al1Cu1</td>\n",
       "      <td>gANjcHltYXRnZW4uY29yZS5jb21wb3NpdGlvbgpDb21wb3...</td>\n",
       "      <td>[13.0, 29.0, 16.0, 21.0, 8.0, 13.0, 64.0, 73.0...</td>\n",
       "    </tr>\n",
       "    <tr>\n",
       "      <th>2</th>\n",
       "      <td>Al1Cu4</td>\n",
       "      <td>gANjcHltYXRnZW4uY29yZS5jb21wb3NpdGlvbgpDb21wb3...</td>\n",
       "      <td>[13.0, 29.0, 16.0, 25.8, 5.119999999999999, 29...</td>\n",
       "    </tr>\n",
       "    <tr>\n",
       "      <th>3</th>\n",
       "      <td>Al2Cu1</td>\n",
       "      <td>gANjcHltYXRnZW4uY29yZS5jb21wb3NpdGlvbgpDb21wb3...</td>\n",
       "      <td>[13.0, 29.0, 16.0, 18.333333333333332, 7.11111...</td>\n",
       "    </tr>\n",
       "    <tr>\n",
       "      <th>4</th>\n",
       "      <td>Al2Cu1</td>\n",
       "      <td>gANjcHltYXRnZW4uY29yZS5jb21wb3NpdGlvbgpDb21wb3...</td>\n",
       "      <td>[13.0, 29.0, 16.0, 18.333333333333332, 7.11111...</td>\n",
       "    </tr>\n",
       "  </tbody>\n",
       "</table>\n",
       "</div>"
      ],
      "text/plain": [
       "  composition                                 composition_object  \\\n",
       "0      Al1Cu4  gANjcHltYXRnZW4uY29yZS5jb21wb3NpdGlvbgpDb21wb3...   \n",
       "1      Al1Cu1  gANjcHltYXRnZW4uY29yZS5jb21wb3NpdGlvbgpDb21wb3...   \n",
       "2      Al1Cu4  gANjcHltYXRnZW4uY29yZS5jb21wb3NpdGlvbgpDb21wb3...   \n",
       "3      Al2Cu1  gANjcHltYXRnZW4uY29yZS5jb21wb3NpdGlvbgpDb21wb3...   \n",
       "4      Al2Cu1  gANjcHltYXRnZW4uY29yZS5jb21wb3NpdGlvbgpDb21wb3...   \n",
       "\n",
       "                                            features  \n",
       "0  [13.0, 29.0, 16.0, 25.8, 5.119999999999999, 29...  \n",
       "1  [13.0, 29.0, 16.0, 21.0, 8.0, 13.0, 64.0, 73.0...  \n",
       "2  [13.0, 29.0, 16.0, 25.8, 5.119999999999999, 29...  \n",
       "3  [13.0, 29.0, 16.0, 18.333333333333332, 7.11111...  \n",
       "4  [13.0, 29.0, 16.0, 18.333333333333332, 7.11111...  "
      ]
     },
     "execution_count": 8,
     "metadata": {},
     "output_type": "execute_result"
    }
   ],
   "source": [
    "servable_name = \"matminer_featurize\"\n",
    "servable_id = dl.get_id_by_name(servable_name)\n",
    "features = [] \n",
    "\n",
    "for i, row in tqdm(df.iterrows(), total=len(df)):\n",
    "    data = {\"data\":[{\"composition_object\":row['composition_object']}]}\n",
    "    res = dl.run(servable_id, data)\n",
    "    features.append(res['features'][0])\n",
    "\n",
    "df['features'] = features\n",
    "df.head()"
   ]
  },
  {
   "cell_type": "markdown",
   "metadata": {},
   "source": [
    "Note that the array now contains a column `features` where each entry is a list of different features that describe a material"
   ]
  },
  {
   "cell_type": "markdown",
   "metadata": {},
   "source": [
    "## Run the Machine Learning Model\n",
    "The last step is to invoke a scikit-learn model that takes the features to compute a formation enthalpy.\n",
    "\n",
    "![pipeline](img/formation_enthalpy_3.png)"
   ]
  },
  {
   "cell_type": "code",
   "execution_count": 9,
   "metadata": {},
   "outputs": [
    {
     "data": {
      "application/vnd.jupyter.widget-view+json": {
       "model_id": "ceb0f29aa87144408df53e2713b0c9ae",
       "version_major": 2,
       "version_minor": 0
      },
      "text/plain": [
       "HBox(children=(IntProgress(value=0, max=20), HTML(value='')))"
      ]
     },
     "metadata": {},
     "output_type": "display_data"
    },
    {
     "name": "stdout",
     "output_type": "stream",
     "text": [
      "\n"
     ]
    },
    {
     "data": {
      "text/html": [
       "<div>\n",
       "<style scoped>\n",
       "    .dataframe tbody tr th:only-of-type {\n",
       "        vertical-align: middle;\n",
       "    }\n",
       "\n",
       "    .dataframe tbody tr th {\n",
       "        vertical-align: top;\n",
       "    }\n",
       "\n",
       "    .dataframe thead th {\n",
       "        text-align: right;\n",
       "    }\n",
       "</style>\n",
       "<table border=\"1\" class=\"dataframe\">\n",
       "  <thead>\n",
       "    <tr style=\"text-align: right;\">\n",
       "      <th></th>\n",
       "      <th>composition</th>\n",
       "      <th>composition_object</th>\n",
       "      <th>features</th>\n",
       "      <th>prediction</th>\n",
       "    </tr>\n",
       "  </thead>\n",
       "  <tbody>\n",
       "    <tr>\n",
       "      <th>0</th>\n",
       "      <td>Al1Cu4</td>\n",
       "      <td>gANjcHltYXRnZW4uY29yZS5jb21wb3NpdGlvbgpDb21wb3...</td>\n",
       "      <td>[13.0, 29.0, 16.0, 25.8, 5.119999999999999, 29...</td>\n",
       "      <td>-0.183846</td>\n",
       "    </tr>\n",
       "    <tr>\n",
       "      <th>1</th>\n",
       "      <td>Al1Cu1</td>\n",
       "      <td>gANjcHltYXRnZW4uY29yZS5jb21wb3NpdGlvbgpDb21wb3...</td>\n",
       "      <td>[13.0, 29.0, 16.0, 21.0, 8.0, 13.0, 64.0, 73.0...</td>\n",
       "      <td>-0.179726</td>\n",
       "    </tr>\n",
       "    <tr>\n",
       "      <th>2</th>\n",
       "      <td>Al1Cu4</td>\n",
       "      <td>gANjcHltYXRnZW4uY29yZS5jb21wb3NpdGlvbgpDb21wb3...</td>\n",
       "      <td>[13.0, 29.0, 16.0, 25.8, 5.119999999999999, 29...</td>\n",
       "      <td>-0.183846</td>\n",
       "    </tr>\n",
       "    <tr>\n",
       "      <th>3</th>\n",
       "      <td>Al2Cu1</td>\n",
       "      <td>gANjcHltYXRnZW4uY29yZS5jb21wb3NpdGlvbgpDb21wb3...</td>\n",
       "      <td>[13.0, 29.0, 16.0, 18.333333333333332, 7.11111...</td>\n",
       "      <td>-0.221089</td>\n",
       "    </tr>\n",
       "    <tr>\n",
       "      <th>4</th>\n",
       "      <td>Al2Cu1</td>\n",
       "      <td>gANjcHltYXRnZW4uY29yZS5jb21wb3NpdGlvbgpDb21wb3...</td>\n",
       "      <td>[13.0, 29.0, 16.0, 18.333333333333332, 7.11111...</td>\n",
       "      <td>-0.221089</td>\n",
       "    </tr>\n",
       "  </tbody>\n",
       "</table>\n",
       "</div>"
      ],
      "text/plain": [
       "  composition                                 composition_object  \\\n",
       "0      Al1Cu4  gANjcHltYXRnZW4uY29yZS5jb21wb3NpdGlvbgpDb21wb3...   \n",
       "1      Al1Cu1  gANjcHltYXRnZW4uY29yZS5jb21wb3NpdGlvbgpDb21wb3...   \n",
       "2      Al1Cu4  gANjcHltYXRnZW4uY29yZS5jb21wb3NpdGlvbgpDb21wb3...   \n",
       "3      Al2Cu1  gANjcHltYXRnZW4uY29yZS5jb21wb3NpdGlvbgpDb21wb3...   \n",
       "4      Al2Cu1  gANjcHltYXRnZW4uY29yZS5jb21wb3NpdGlvbgpDb21wb3...   \n",
       "\n",
       "                                            features  prediction  \n",
       "0  [13.0, 29.0, 16.0, 25.8, 5.119999999999999, 29...   -0.183846  \n",
       "1  [13.0, 29.0, 16.0, 21.0, 8.0, 13.0, 64.0, 73.0...   -0.179726  \n",
       "2  [13.0, 29.0, 16.0, 25.8, 5.119999999999999, 29...   -0.183846  \n",
       "3  [13.0, 29.0, 16.0, 18.333333333333332, 7.11111...   -0.221089  \n",
       "4  [13.0, 29.0, 16.0, 18.333333333333332, 7.11111...   -0.221089  "
      ]
     },
     "execution_count": 9,
     "metadata": {},
     "output_type": "execute_result"
    }
   ],
   "source": [
    "servable_name = \"oqmd_model\"\n",
    "servable_id = dl.get_id_by_name(servable_name)\n",
    "preds = []\n",
    "for i, row in tqdm(df.iterrows(), total=len(df)):\n",
    "    data = {\"data\":[{\"features\":row['features']}]}\n",
    "    res = dl.run(servable_id, data)\n",
    "    preds.append(res['prediction'][0])\n",
    "df['prediction'] = preds\n",
    "df.head()"
   ]
  },
  {
   "cell_type": "markdown",
   "metadata": {},
   "source": [
    "Great! Now we've predicted the stability for all of the materials in our list"
   ]
  },
  {
   "cell_type": "markdown",
   "metadata": {},
   "source": [
    "## Visualize the result\n",
    "Just print out our materials with the lowest formation enthalpy, and make a histogram to see the distribution of energies"
   ]
  },
  {
   "cell_type": "code",
   "execution_count": 10,
   "metadata": {},
   "outputs": [
    {
     "data": {
      "text/html": [
       "<div>\n",
       "<style scoped>\n",
       "    .dataframe tbody tr th:only-of-type {\n",
       "        vertical-align: middle;\n",
       "    }\n",
       "\n",
       "    .dataframe tbody tr th {\n",
       "        vertical-align: top;\n",
       "    }\n",
       "\n",
       "    .dataframe thead th {\n",
       "        text-align: right;\n",
       "    }\n",
       "</style>\n",
       "<table border=\"1\" class=\"dataframe\">\n",
       "  <thead>\n",
       "    <tr style=\"text-align: right;\">\n",
       "      <th></th>\n",
       "      <th>composition</th>\n",
       "      <th>composition_object</th>\n",
       "      <th>features</th>\n",
       "      <th>prediction</th>\n",
       "    </tr>\n",
       "  </thead>\n",
       "  <tbody>\n",
       "    <tr>\n",
       "      <th>5</th>\n",
       "      <td>Al3Cu1</td>\n",
       "      <td>gANjcHltYXRnZW4uY29yZS5jb21wb3NpdGlvbgpDb21wb3...</td>\n",
       "      <td>[13.0, 29.0, 16.0, 17.0, 6.0, 13.0, 64.0, 73.0...</td>\n",
       "      <td>-0.234192</td>\n",
       "    </tr>\n",
       "    <tr>\n",
       "      <th>18</th>\n",
       "      <td>Al3Cu1</td>\n",
       "      <td>gANjcHltYXRnZW4uY29yZS5jb21wb3NpdGlvbgpDb21wb3...</td>\n",
       "      <td>[13.0, 29.0, 16.0, 17.0, 6.0, 13.0, 64.0, 73.0...</td>\n",
       "      <td>-0.234192</td>\n",
       "    </tr>\n",
       "    <tr>\n",
       "      <th>10</th>\n",
       "      <td>Al3Cu1</td>\n",
       "      <td>gANjcHltYXRnZW4uY29yZS5jb21wb3NpdGlvbgpDb21wb3...</td>\n",
       "      <td>[13.0, 29.0, 16.0, 17.0, 6.0, 13.0, 64.0, 73.0...</td>\n",
       "      <td>-0.234192</td>\n",
       "    </tr>\n",
       "  </tbody>\n",
       "</table>\n",
       "</div>"
      ],
      "text/plain": [
       "   composition                                 composition_object  \\\n",
       "5       Al3Cu1  gANjcHltYXRnZW4uY29yZS5jb21wb3NpdGlvbgpDb21wb3...   \n",
       "18      Al3Cu1  gANjcHltYXRnZW4uY29yZS5jb21wb3NpdGlvbgpDb21wb3...   \n",
       "10      Al3Cu1  gANjcHltYXRnZW4uY29yZS5jb21wb3NpdGlvbgpDb21wb3...   \n",
       "\n",
       "                                             features  prediction  \n",
       "5   [13.0, 29.0, 16.0, 17.0, 6.0, 13.0, 64.0, 73.0...   -0.234192  \n",
       "18  [13.0, 29.0, 16.0, 17.0, 6.0, 13.0, 64.0, 73.0...   -0.234192  \n",
       "10  [13.0, 29.0, 16.0, 17.0, 6.0, 13.0, 64.0, 73.0...   -0.234192  "
      ]
     },
     "execution_count": 10,
     "metadata": {},
     "output_type": "execute_result"
    }
   ],
   "source": [
    "df.sort_values('prediction', ascending=True).head(3)"
   ]
  },
  {
   "cell_type": "code",
   "execution_count": 11,
   "metadata": {},
   "outputs": [
    {
     "data": {
      "image/png": "[encoded data removed]",
      "text/plain": [
       "<Figure size 288x288 with 1 Axes>"
      ]
     },
     "metadata": {},
     "output_type": "display_data"
    }
   ],
   "source": [
    "fig, ax = plt.subplots()\n",
    "\n",
    "ax.hist(df['prediction'], bins=8)\n",
    "\n",
    "ax.set_xlabel('$\\Delta H_f$ (eV/atom)', fontsize=14)\n",
    "ax.set_ylabel('Frequency', fontsize=14)\n",
    "\n",
    "fig.set_size_inches(4, 4)"
   ]
  },
  {
   "cell_type": "markdown",
   "metadata": {},
   "source": [
    "At this point, we've run a prediction of the stability of a few materials without ever having to install any software on our computer."
   ]
  },
  {
   "cell_type": "markdown",
   "metadata": {},
   "source": [
    "---\n",
    "# Example 2: A tagging model for x-ray diffraction images\n",
    "\n",
    "Here we use a deep learning model developed by [Kevin Yager and colleagues](https://doi.org/10.1109/NYSDS.2017.8085045) at Brookhaven National Laboratory that uses residual deep learning networks to assign useful tags to small angle scattering (SAX) images. Such a model might be used from a light source beamline, for example, to validate data as they are collected.\n",
    "\n",
    "The servable is set up to retrieve a specified image from Petrel, a multi-petabyte data store at Argonne used to hold data from Advanced Photon Source experiments, and then pass the image through the Yager model.\n",
    "\n",
    "![resnet](img/resnet_1.png)"
   ]
  },
  {
   "cell_type": "markdown",
   "metadata": {},
   "source": [
    "## Get a list of data from Petrel\n",
    "\n",
    "Use the Globus Transfer token to list the contents of a directory on Petrel. "
   ]
  },
  {
   "cell_type": "code",
   "execution_count": 12,
   "metadata": {},
   "outputs": [],
   "source": [
    "target_endpoint = \"e38ee745-6d04-11e5-ba46-22000b92c6ec\"\n",
    "target_path = \"Yager/model/raw/01470b9d_varied_sm/\"\n",
    "\n",
    "ls_result = creds['transfer'].operation_ls(target_endpoint, path=target_path)\n",
    "bnl_inputs = []\n",
    "for file_meta in ls_result:\n",
    "    if file_meta['type'] == \"file\":\n",
    "        bnl_inputs.append(\"https://{}.e.globus.org/{}{}\".format(target_endpoint, target_path, file_meta['name']))"
   ]
  },
  {
   "cell_type": "markdown",
   "metadata": {},
   "source": [
    "## Generate a list of images to pass to the model for labeling\n",
    "Here is an example image:\n",
    "\n",
    "![example image](img/0000002f.jpg)"
   ]
  },
  {
   "cell_type": "code",
   "execution_count": 13,
   "metadata": {},
   "outputs": [
    {
     "name": "stdout",
     "output_type": "stream",
     "text": [
      "https://e38ee745-6d04-11e5-ba46-22000b92c6ec.e.globus.org/Yager/model/raw/01470b9d_varied_sm/00000000.mat\n",
      "https://e38ee745-6d04-11e5-ba46-22000b92c6ec.e.globus.org/Yager/model/raw/01470b9d_varied_sm/00000001.mat\n"
     ]
    },
    {
     "data": {
      "text/html": [
       "<div>\n",
       "<style scoped>\n",
       "    .dataframe tbody tr th:only-of-type {\n",
       "        vertical-align: middle;\n",
       "    }\n",
       "\n",
       "    .dataframe tbody tr th {\n",
       "        vertical-align: top;\n",
       "    }\n",
       "\n",
       "    .dataframe thead th {\n",
       "        text-align: right;\n",
       "    }\n",
       "</style>\n",
       "<table border=\"1\" class=\"dataframe\">\n",
       "  <thead>\n",
       "    <tr style=\"text-align: right;\">\n",
       "      <th></th>\n",
       "      <th>file</th>\n",
       "      <th>token</th>\n",
       "    </tr>\n",
       "  </thead>\n",
       "  <tbody>\n",
       "    <tr>\n",
       "      <th>0</th>\n",
       "      <td>https://e38ee745-6d04-11e5-ba46-22000b92c6ec.e...</td>\n",
       "      <td>Agrjpx5EX2andOvgDQj616P2O5yvN23oazB7goQQpjQyDm...</td>\n",
       "    </tr>\n",
       "    <tr>\n",
       "      <th>1</th>\n",
       "      <td>https://e38ee745-6d04-11e5-ba46-22000b92c6ec.e...</td>\n",
       "      <td>Agrjpx5EX2andOvgDQj616P2O5yvN23oazB7goQQpjQyDm...</td>\n",
       "    </tr>\n",
       "  </tbody>\n",
       "</table>\n",
       "</div>"
      ],
      "text/plain": [
       "                                                file  \\\n",
       "0  https://e38ee745-6d04-11e5-ba46-22000b92c6ec.e...   \n",
       "1  https://e38ee745-6d04-11e5-ba46-22000b92c6ec.e...   \n",
       "\n",
       "                                               token  \n",
       "0  Agrjpx5EX2andOvgDQj616P2O5yvN23oazB7goQQpjQyDm...  \n",
       "1  Agrjpx5EX2andOvgDQj616P2O5yvN23oazB7goQQpjQyDm...  "
      ]
     },
     "execution_count": 13,
     "metadata": {},
     "output_type": "execute_result"
    }
   ],
   "source": [
    "data = []\n",
    "for filename in bnl_inputs[0:2]:\n",
    "    print(filename)\n",
    "    data.append({\"file\": filename, \"token\": creds['petrel'].access_token})\n",
    "df_bnl = pd.DataFrame(data)\n",
    "df_bnl.head()"
   ]
  },
  {
   "cell_type": "markdown",
   "metadata": {},
   "source": [
    "## Invoke the Yager model on one of these images\n",
    "\n",
    "(This can be a bit slow if the result isn't cached. We are working to optimize.)"
   ]
  },
  {
   "cell_type": "code",
   "execution_count": 14,
   "metadata": {},
   "outputs": [
    {
     "data": {
      "application/vnd.jupyter.widget-view+json": {
       "model_id": "484856c12e1b470ab2ca7b0cb2f132d8",
       "version_major": 2,
       "version_minor": 0
      },
      "text/plain": [
       "HBox(children=(IntProgress(value=0, max=2), HTML(value='')))"
      ]
     },
     "metadata": {},
     "output_type": "display_data"
    },
    {
     "name": "stdout",
     "output_type": "stream",
     "text": [
      "\n"
     ]
    },
    {
     "data": {
      "text/html": [
       "<div>\n",
       "<style scoped>\n",
       "    .dataframe tbody tr th:only-of-type {\n",
       "        vertical-align: middle;\n",
       "    }\n",
       "\n",
       "    .dataframe tbody tr th {\n",
       "        vertical-align: top;\n",
       "    }\n",
       "\n",
       "    .dataframe thead th {\n",
       "        text-align: right;\n",
       "    }\n",
       "</style>\n",
       "<table border=\"1\" class=\"dataframe\">\n",
       "  <thead>\n",
       "    <tr style=\"text-align: right;\">\n",
       "      <th></th>\n",
       "      <th>file</th>\n",
       "      <th>token</th>\n",
       "      <th>prediction</th>\n",
       "    </tr>\n",
       "  </thead>\n",
       "  <tbody>\n",
       "    <tr>\n",
       "      <th>0</th>\n",
       "      <td>https://e38ee745-6d04-11e5-ba46-22000b92c6ec.e...</td>\n",
       "      <td>Agrjpx5EX2andOvgDQj616P2O5yvN23oazB7goQQpjQyDm...</td>\n",
       "      <td>[1.4985761254138197e-07, 0.999998927116394, 0....</td>\n",
       "    </tr>\n",
       "    <tr>\n",
       "      <th>1</th>\n",
       "      <td>https://e38ee745-6d04-11e5-ba46-22000b92c6ec.e...</td>\n",
       "      <td>Agrjpx5EX2andOvgDQj616P2O5yvN23oazB7goQQpjQyDm...</td>\n",
       "      <td>[8.551788823751849e-07, 1.0, 8.665214323855253...</td>\n",
       "    </tr>\n",
       "  </tbody>\n",
       "</table>\n",
       "</div>"
      ],
      "text/plain": [
       "                                                file  \\\n",
       "0  https://e38ee745-6d04-11e5-ba46-22000b92c6ec.e...   \n",
       "1  https://e38ee745-6d04-11e5-ba46-22000b92c6ec.e...   \n",
       "\n",
       "                                               token  \\\n",
       "0  Agrjpx5EX2andOvgDQj616P2O5yvN23oazB7goQQpjQyDm...   \n",
       "1  Agrjpx5EX2andOvgDQj616P2O5yvN23oazB7goQQpjQyDm...   \n",
       "\n",
       "                                          prediction  \n",
       "0  [1.4985761254138197e-07, 0.999998927116394, 0....  \n",
       "1  [8.551788823751849e-07, 1.0, 8.665214323855253...  "
      ]
     },
     "execution_count": 14,
     "metadata": {},
     "output_type": "execute_result"
    }
   ],
   "source": [
    "servable_name = \"resnet\"\n",
    "servable_id = dl.get_id_by_name(servable_name)\n",
    "\n",
    "preds=[]\n",
    "\n",
    "for d in tqdm(data, total=len(data)):\n",
    "    res = dl.run(servable_id, {\"data\":[d]})\n",
    "    preds.append(res[0][0])\n",
    "df_bnl['prediction'] = preds\n",
    "df_bnl.head()"
   ]
  },
  {
   "cell_type": "code",
   "execution_count": 15,
   "metadata": {},
   "outputs": [
    {
     "data": {
      "text/plain": [
       "'https://e38ee745-6d04-11e5-ba46-22000b92c6ec.e.globus.org/Yager/model/raw/01470b9d_varied_sm/00000000.mat'"
      ]
     },
     "execution_count": 15,
     "metadata": {},
     "output_type": "execute_result"
    }
   ],
   "source": [
    "df_bnl['file'][0]"
   ]
  },
  {
   "cell_type": "markdown",
   "metadata": {},
   "source": [
    "## Translate predictions into tags\n",
    "To make these predictions useful to humans..."
   ]
  },
  {
   "cell_type": "code",
   "execution_count": 19,
   "metadata": {},
   "outputs": [
    {
     "data": {
      "text/html": [
       "<div>\n",
       "<style scoped>\n",
       "    .dataframe tbody tr th:only-of-type {\n",
       "        vertical-align: middle;\n",
       "    }\n",
       "\n",
       "    .dataframe tbody tr th {\n",
       "        vertical-align: top;\n",
       "    }\n",
       "\n",
       "    .dataframe thead th {\n",
       "        text-align: right;\n",
       "    }\n",
       "</style>\n",
       "<table border=\"1\" class=\"dataframe\">\n",
       "  <thead>\n",
       "    <tr style=\"text-align: right;\">\n",
       "      <th></th>\n",
       "      <th>probability</th>\n",
       "      <th>tags</th>\n",
       "    </tr>\n",
       "  </thead>\n",
       "  <tbody>\n",
       "    <tr>\n",
       "      <th>1</th>\n",
       "      <td>0.999999</td>\n",
       "      <td>Beam Off Image</td>\n",
       "    </tr>\n",
       "    <tr>\n",
       "      <th>12</th>\n",
       "      <td>0.000764</td>\n",
       "      <td>Ring</td>\n",
       "    </tr>\n",
       "    <tr>\n",
       "      <th>15</th>\n",
       "      <td>0.000229</td>\n",
       "      <td>Weak scattering</td>\n",
       "    </tr>\n",
       "    <tr>\n",
       "      <th>2</th>\n",
       "      <td>0.000222</td>\n",
       "      <td>Circular Beamstop</td>\n",
       "    </tr>\n",
       "    <tr>\n",
       "      <th>8</th>\n",
       "      <td>0.000077</td>\n",
       "      <td>Higher orders</td>\n",
       "    </tr>\n",
       "    <tr>\n",
       "      <th>16</th>\n",
       "      <td>0.000004</td>\n",
       "      <td>Wedge beamstop</td>\n",
       "    </tr>\n",
       "    <tr>\n",
       "      <th>3</th>\n",
       "      <td>0.000003</td>\n",
       "      <td>Diffuse high-q</td>\n",
       "    </tr>\n",
       "    <tr>\n",
       "      <th>6</th>\n",
       "      <td>0.000002</td>\n",
       "      <td>Halo</td>\n",
       "    </tr>\n",
       "    <tr>\n",
       "      <th>13</th>\n",
       "      <td>0.000001</td>\n",
       "      <td>Strong scattering</td>\n",
       "    </tr>\n",
       "    <tr>\n",
       "      <th>9</th>\n",
       "      <td>0.000001</td>\n",
       "      <td>Linear beamstop</td>\n",
       "    </tr>\n",
       "  </tbody>\n",
       "</table>\n",
       "</div>"
      ],
      "text/plain": [
       "    probability               tags\n",
       "1      0.999999     Beam Off Image\n",
       "12     0.000764               Ring\n",
       "15     0.000229    Weak scattering\n",
       "2      0.000222  Circular Beamstop\n",
       "8      0.000077      Higher orders\n",
       "16     0.000004     Wedge beamstop\n",
       "3      0.000003     Diffuse high-q\n",
       "6      0.000002               Halo\n",
       "13     0.000001  Strong scattering\n",
       "9      0.000001    Linear beamstop"
      ]
     },
     "execution_count": 19,
     "metadata": {},
     "output_type": "execute_result"
    }
   ],
   "source": [
    "df_tags = pd.read_csv('./tags.txt',  '\\n', header=None) ## Eventually this will be read in from the model metadata in Search\n",
    "\n",
    "def get_tags(entry):\n",
    "    df_tmp = pd.DataFrame()\n",
    "    df_tmp['probability'] = entry['prediction']\n",
    "    df_tmp['tags'] = df_tags[0]\n",
    "    return df_tmp\n",
    "\n",
    "df_p = get_tags(df_bnl.iloc[0])\n",
    "df_p.sort_values([\"probability\"], ascending=False).head(10)"
   ]
  },
  {
   "cell_type": "markdown",
   "metadata": {},
   "source": [
    "The machine learning model predicts a 99.9% certainity that the beam is off image. We plan to incorporate this kind of model into the beamline facilities at ANL so that scientists (or robots!) at the beamline can quickly identify when their experiments are producing useless data."
   ]
  },
  {
   "cell_type": "markdown",
   "metadata": {},
   "source": [
    "---\n",
    "\n",
    "# Example 3: Metallic Glass Discovery\n",
    "\n",
    "Model derived from Ren, Ward et al. \"Accelerated discovery of metallic glasses through iteration of machine learning and high-throughput experiments\" 10.1126/sciadv.aaq1566\n",
    "\n",
    "![ward](img/ward_1.png)\n",
    "\n",
    "![ternary](img/ternary_1.png)"
   ]
  },
  {
   "cell_type": "code",
   "execution_count": 20,
   "metadata": {},
   "outputs": [],
   "source": [
    "servable_name = \"bmg\"\n",
    "servable_id = dl.get_id_by_name(servable_name)\n",
    "elems = [\"V\",\"Co\",\"Zr\"]\n",
    "\n",
    "res = dl.run(servable_id, {\"data\":elems})"
   ]
  },
  {
   "cell_type": "markdown",
   "metadata": {},
   "source": [
    "Now let's plot the data to see if we can find interesting areas to investigate"
   ]
  },
  {
   "cell_type": "code",
   "execution_count": 22,
   "metadata": {},
   "outputs": [
    {
     "data": {
      "image/png": "[encoded data removed]",
      "text/plain": [
       "<Figure size 432x288 with 2 Axes>"
      ]
     },
     "metadata": {},
     "output_type": "display_data"
    }
   ],
   "source": [
    "from utils import ternary_from_data\n",
    "\n",
    "new_data = {(x, y): pred for pred, x, y in res.get_values()}\n",
    "ternary_from_data(new_data, elems=elems, scale=25)"
   ]
  },
  {
   "cell_type": "code",
   "execution_count": null,
   "metadata": {},
   "outputs": [],
   "source": []
  }
 ],
 "metadata": {
  "kernelspec": {
   "display_name": "Python 3",
   "language": "python",
   "name": "python3"
  },
  "language_info": {
   "codemirror_mode": {
    "name": "ipython",
    "version": 3
   },
   "file_extension": ".py",
   "mimetype": "text/x-python",
   "name": "python",
   "nbconvert_exporter": "python",
   "pygments_lexer": "ipython3",
   "version": "3.6.5"
  }
 },
 "nbformat": 4,
 "nbformat_minor": 2
}
